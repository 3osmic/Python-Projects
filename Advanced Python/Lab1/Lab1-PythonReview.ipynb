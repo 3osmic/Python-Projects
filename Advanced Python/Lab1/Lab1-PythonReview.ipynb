{
 "cells": [
  {
   "cell_type": "markdown",
   "metadata": {},
   "source": [
    "# Lab1: Python Review and Jupyter Notebook Introduction"
   ]
  },
  {
   "cell_type": "markdown",
   "metadata": {},
   "source": [
    "## Author: <font color = \"red\">Aliyah Lewis</font>"
   ]
  },
  {
   "cell_type": "markdown",
   "metadata": {},
   "source": [
    "## This Lab will review some basic Python while practicing using Jupyter Notebook. \n",
    "\n",
    "<div class=\"alert alert-warning\">\n",
    "    <strong>Read through the information and ...</strong><br>\n",
    "    - Provide code for each step in the <font color=\"blue\">Question x</font> sections below.</strong><br>\n",
    "    - Insert your code following the <font color=\"red\">Question x - ANSWERS</font> heading in the cell containing '# INSERT YOUR CODE HERE'<br>\n",
    "    - <strong>DO NOT MAKE CHANGES</strong> to the cells containing '# DO NOT MODIFY!' comments - just run the cell to print the resulting values<br>These cells are used to generate the output used to verify your code.\n",
    "  \n",
    "</div>"
   ]
  },
  {
   "cell_type": "markdown",
   "metadata": {},
   "source": [
    "## Python  Built-in Data Types"
   ]
  },
  {
   "cell_type": "markdown",
   "metadata": {},
   "source": [
    "**w3schools.com**\n",
    "Built-in Data Types: Ref: https://www.w3schools.com/python/python_datatypes.asp\n",
    "        \n",
    "- <strong>Text:  </strong>str\n",
    "- <strong>Numerics:  </strong>int, float, and complex\n",
    "- <strong>Sequences:  </strong>list, tuple, range\n",
    "- <strong>Mappings:  </strong>dict\n",
    "- <strong>Sets:  </strong>set and frozenset \n",
    "- <strong>Boolean:  </strong>bool (True/False)\n",
    "- <strong>Binary: </strong>bytes, bytearray and memoryview\n",
    "- <strong>None:  </strong>NoneType"
   ]
  },
  {
   "cell_type": "markdown",
   "metadata": {},
   "source": [
    "### Strings\n",
    "\n",
    "Strings are arrays, so individual characters can be accessed via __index__ and \n",
    "a range of characters can be returned using __slicing__ syntax.\n",
    "Strings can be defined by enclosing text within either single or double-quotes:\n",
    "- string1 = 'A simple string definition'\n",
    "- string2 = \"Another simple string definition\"\n",
    "\n",
    "**w3schools.com**\n",
    "- Strings: https://www.w3schools.com/python/python_strings.asp\n",
    "- String Methods: https://www.w3schools.com/python/python_strings_methods.asp\n",
    "- String Slicing: https://www.w3schools.com/python/python_strings_slicing.asp"
   ]
  },
  {
   "cell_type": "code",
   "execution_count": 1,
   "metadata": {},
   "outputs": [
    {
     "name": "stdout",
     "output_type": "stream",
     "text": [
      "Welcome to CSC 221 Section 0001 Spring 2023 - using single-quotes\n",
      "Welcome to CSC 221 Section 0001 Spring 2023 - using double-quotes\n"
     ]
    }
   ],
   "source": [
    "# EXAMPLE\n",
    "# Strings are literals that can be enclosed in either single or double quotation marks\n",
    "print('Welcome to CSC 221 Section 0001 Spring 2023 - using single-quotes')\n",
    "print(\"Welcome to CSC 221 Section 0001 Spring 2023 - using double-quotes\")"
   ]
  },
  {
   "cell_type": "markdown",
   "metadata": {},
   "source": [
    "### <font color='blue'>Question 1 (10 points)</font>\n",
    "1. Assign text string __\"Welcome to CSC 221 Section 0001\"__ to variable __welcome_msg1__\n",
    "2. Assign text string __\" SPRING 2023:\"__ to variable __semester__\n",
    "3. Concatenate string __semester__ to the end of __welcome_msg1__ and assign the results to variable __welcome_msg2__ \n",
    "4. Assign text string __\" Advanced Python Programming\"__ to variable __coursename__\n",
    "5. Concatenate string __coursename__ to the end of __welcome_msg2__ and assign the results to variable __welcome_msg3__ \n",
    "6. Count the number of spaces(\" \") found in string __welcome_msg3__ and assign value to variable __msg3_spaces__\n",
    "7. Assign the length of __welcome_msg3__ to variable __msg3_len__\n",
    "8. Find the location of __\"Python\"__ in the string __welcome_msg3__ and assign the location to variable __msg3_python_loc__\n",
    "9. Split __welcome_msg3__ using space (\" \") as the separator and assign the results to variable __msg3_split__\n",
    "10. Convert the string __welcome_msg3__ to upper case and assign to variable __msg3_upper__\n",
    "\n",
    "__NOTE__: PAY ATTENTION to spaces at the start and/or end of string values"
   ]
  },
  {
   "cell_type": "markdown",
   "metadata": {},
   "source": [
    "### <font color=\"red\">Question 1 - ANSWERS</font>"
   ]
  },
  {
   "cell_type": "code",
   "execution_count": 17,
   "metadata": {},
   "outputs": [],
   "source": [
    "# INSERT YOUR CODE HERE\n",
    "welcome_msg1 = \"Welcome to CSC 221 Section 0001\"\n",
    "semester = \" SPRING 2023:\"\n",
    "welcome_msg2 = welcome_msg1 + semester\n",
    "coursename = \" Advanced Python Programming\"\n",
    "welcome_msg3 = welcome_msg2 + coursename\n",
    "msg3_spaces = welcome_msg3.count(\" \")\n",
    "msg3_len = len(welcome_msg3)\n",
    "msg3_python_loc = welcome_msg3.find(\"Python\")\n",
    "msg3_split = welcome_msg3.split(\" \")\n",
    "msg3_upper = welcome_msg3.upper()"
   ]
  },
  {
   "cell_type": "code",
   "execution_count": 18,
   "metadata": {},
   "outputs": [
    {
     "name": "stdout",
     "output_type": "stream",
     "text": [
      "QUESTION 1 - ANSWERS\n",
      "Welcome to CSC 221 Section 0001\n",
      "Welcome to CSC 221 Section 0001 SPRING 2023:\n",
      "Welcome to CSC 221 Section 0001 SPRING 2023: Advanced Python Programming\n",
      "\n",
      "SPACES=10\n",
      "LENGTH=72\n",
      "LOCATION=54\n",
      "\n",
      "['Welcome', 'to', 'CSC', '221', 'Section', '0001', 'SPRING', '2023:', 'Advanced', 'Python', 'Programming']\n",
      "WELCOME TO CSC 221 SECTION 0001 SPRING 2023: ADVANCED PYTHON PROGRAMMING\n"
     ]
    }
   ],
   "source": [
    "# DO NOT MODIFY!\n",
    "print(\"QUESTION 1 - ANSWERS\")\n",
    "print(welcome_msg1)\n",
    "print(welcome_msg2)\n",
    "print(welcome_msg3)\n",
    "print(f'\\nSPACES={msg3_spaces}')\n",
    "print(f'LENGTH={msg3_len}')\n",
    "print(f'LOCATION={msg3_python_loc}\\n')\n",
    "print(msg3_split)\n",
    "print(msg3_upper)"
   ]
  },
  {
   "cell_type": "markdown",
   "metadata": {},
   "source": [
    "### Int, Float, Bool\n",
    "\n",
    "Integer, Float and Boolean values:\n",
    "- Int (integer) is a whole number, postive or negative, without decimals\n",
    "- Float (floating point) is a number, positive or negative, with a decimal\n",
    "- Bool (boolean) is a value of True or False\n",
    "    - Any string (except empty string) = True\n",
    "    - Any number (except 0) = True\n",
    "    \n",
    "**w3schools.com**\n",
    "- Numbers: https://www.w3schools.com/python/python_numbers.asp\n",
    "- Boolean: https://www.w3schools.com/python/python_booleans.asp\n",
    "- Type function: https://www.w3schools.com/python/ref_func_type.asp"
   ]
  },
  {
   "cell_type": "markdown",
   "metadata": {},
   "source": [
    "### <font color=\"blue\">Question 2 (10 points)</font>\n",
    "1. Assign variable __'var1'__ a value of __2__ \n",
    "2. Assign __'var1'__s TYPE to variable 'var1_type' \n",
    "3. Assign variable __'var2'__ a value of 7.99\n",
    "4. Assign __'var2'__s TYPE to variable 'var2_type' \n",
    "5. Assign variable __'var3'__ a value of __1__\n",
    "6. Cast __'var3'__ to __BOOLEAN__ and assign to variable 'var3_bool' \n",
    "7. Assign variable __'var4'__ a value of __0__\n",
    "8. Cast __'var4'__ to __BOOLEAN__ and assign to variable 'var4_bool' \n",
    "9. Assign variable __'var5'__ a value of __\"Zero\"__\n",
    "10. Cast __'var5'__ to __BOOLEAN__ and assign to variable 'var5_bool' "
   ]
  },
  {
   "cell_type": "markdown",
   "metadata": {},
   "source": [
    "### <font color=\"red\">Question 2 - ANSWERS</font>"
   ]
  },
  {
   "cell_type": "code",
   "execution_count": 1,
   "metadata": {},
   "outputs": [],
   "source": [
    "# INSERT YOUR CODE HERE\n",
    "var1 = 2\n",
    "var1_type = type(var1)\n",
    "var2 = 7.99\n",
    "var2_type = type(var2)\n",
    "var3 = 1\n",
    "var3_bool = bool(var3)\n",
    "var4 = 0\n",
    "var4_bool = bool(var4)\n",
    "var5 = 0\n",
    "var5_bool = bool(var5)"
   ]
  },
  {
   "cell_type": "code",
   "execution_count": 2,
   "metadata": {},
   "outputs": [
    {
     "name": "stdout",
     "output_type": "stream",
     "text": [
      "QUESTION 2 - ANSWERS\n",
      "2\n",
      "<class 'int'>\n",
      "\n",
      "7.99\n",
      "<class 'float'>\n",
      "\n",
      "1\n",
      "True\n",
      "\n",
      "0\n",
      "False\n",
      "\n",
      "0\n",
      "False\n"
     ]
    }
   ],
   "source": [
    "# DO NOT MODIFY!\n",
    "print(\"QUESTION 2 - ANSWERS\")\n",
    "print(var1)\n",
    "print(var1_type)\n",
    "print()\n",
    "print(var2)\n",
    "print(var2_type)\n",
    "print()\n",
    "print(var3)\n",
    "print(var3_bool)\n",
    "print()\n",
    "print(var4)\n",
    "print(var4_bool)\n",
    "print()\n",
    "print(var5)\n",
    "print(var5_bool)"
   ]
  },
  {
   "cell_type": "markdown",
   "metadata": {},
   "source": [
    "## Python Collections\n",
    "### Lists, Tuples, Sets and Dictionaries\n",
    "- <strong>List:</strong> a collection that is ordered and changeable. Lists are written with square brackets [...]\n",
    "- <strong>Tuple:</strong> a collection that is ordered but unchangeable. Tuples are written with round brackets (...)\n",
    "- <strong>Set:</strong> a collection which is unordered and uninidexed. Sets are written with curly brackets {...}\n",
    "- <strong>Dictionary:</strong> a collection which is unordered, changeable and indexed. Dictionaries are written with curly brackets {...} and they have keys & values.\n",
    "\n",
    "    \n",
    "**w3schools.com**\n",
    "- List: https://www.w3schools.com/python/python_lists.asp\n",
    "- Tuple: https://www.w3schools.com/python/python_tuples.asp\n",
    "- Set: https://www.w3schools.com/python/python_sets.asp\n",
    "- Dictionary: https://www.w3schools.com/python/python_dictionaries.asp"
   ]
  },
  {
   "cell_type": "markdown",
   "metadata": {},
   "source": [
    "### Practice working with Lists"
   ]
  },
  {
   "cell_type": "markdown",
   "metadata": {},
   "source": [
    "### <font color=\"blue\">Question 3 (10 points)</font>\n",
    "1. Create a list variable named __colors__ with the values: __'red', 'green', 'white', 'blue', 'peach', 'purple', 'pink'__\n",
    "2. Append the value __'blue'__ to __colors__\n",
    "3. Get the index value of the element __'blue'__ and assign it to variable __blue_index__\n",
    "4. Remove __'peach'__ from the list __colors__\n",
    "5. Insert __'orange'__ into the list after __'purple'__\n",
    "6. Set variable __colors_len__ to the length of list colors\n",
    "7. Create a copy of __colors__ and assign it to variable __colors_copy__ \n",
    "8. Reverse the order of the entries in __colors_copy__\n",
    "9. Remove the last item from the list __colors_copy__\n",
    "10. Sort the list __colors_copy__"
   ]
  },
  {
   "cell_type": "markdown",
   "metadata": {},
   "source": [
    "### <font color=\"red\">Question 3 - ANSWERS</font>"
   ]
  },
  {
   "cell_type": "code",
   "execution_count": 1,
   "metadata": {},
   "outputs": [],
   "source": [
    "# INSERT YOUR CODE HERE\n",
    "colors = ['red', 'green', 'white', 'blue', 'peach', 'purple', 'pink']\n",
    "colors.append('blue')\n",
    "blue_index = colors.index('blue')\n",
    "colors.remove('peach')\n",
    "colors.insert(6, 'orange')\n",
    "colors_len = len(colors)\n",
    "colors_copy = colors\n",
    "colors_copy.reverse()\n",
    "colors_copy.sort()"
   ]
  },
  {
   "cell_type": "code",
   "execution_count": 2,
   "metadata": {},
   "outputs": [
    {
     "name": "stdout",
     "output_type": "stream",
     "text": [
      "QUESTION 3 - ANSWERS\n",
      "3\n",
      "['blue', 'blue', 'green', 'orange', 'pink', 'purple', 'red', 'white']\n",
      "8\n",
      "['blue', 'blue', 'green', 'orange', 'pink', 'purple', 'red', 'white']\n"
     ]
    }
   ],
   "source": [
    "# DO NOT MODIFY!\n",
    "print(\"QUESTION 3 - ANSWERS\")\n",
    "print(blue_index)\n",
    "print(colors)\n",
    "print(colors_len)\n",
    "print(colors_copy)"
   ]
  },
  {
   "cell_type": "markdown",
   "metadata": {},
   "source": [
    "### Practice working with Tuples"
   ]
  },
  {
   "cell_type": "markdown",
   "metadata": {},
   "source": [
    "### <font color=\"blue\">Question 4 (10 points)</font>\n",
    "1. Create a tuple variable named __fruit__ with the following values: __'banana', 'apple', 'orange', 'pear', 'grape'__\n",
    "2. Assign __fruit__'s TYPE to variable __fruit_type__\n",
    "3. Assign the __2nd element__ in the tuple __fruit__ to variable __fruit_2__\n",
    "4. Assign the __index__ value of element __'pear'__ to variable __pear_index__\n",
    "5. Assign to the __2nd to last__ element in the tuple __fruit__ to variable __fruit_2fromlast__ \n",
    "- *** You MUST USE __negative indexing__ for credit ***\n",
    "6. Create a tuple variable named __vegi__ with the following elements: __'carrot', 'celery', 'lettuce', 'pepper'__\n",
    "7. Concatenate tuples __fruit____ & __vegi__ to form a tuple named __food__\n",
    "8. Assign the LENGTH of __food__ to variable __food_len__\n",
    "9. Convert the tuple __food__ to a LIST named __food_list__\n",
    "10. Assign __food_list__'s TYPE to variable __food_list_type__"
   ]
  },
  {
   "cell_type": "markdown",
   "metadata": {},
   "source": [
    "### <font color=\"red\">Question 4 - ANSWERS</font>"
   ]
  },
  {
   "cell_type": "code",
   "execution_count": 15,
   "metadata": {},
   "outputs": [],
   "source": [
    "# INSERT YOUR CODE HERE\n",
    "fruit = ('banana', 'apple', 'orange', 'pear', 'grape')\n",
    "fruit_type = type(fruit)\n",
    "fruit_2 = fruit[1]\n",
    "pear_index = fruit.index('pear')\n",
    "fruit_2fromlast = fruit[-2]\n",
    "\n",
    "vegi = ('carrot', 'celery', 'lettuce', 'pepper')\n",
    "food = fruit + vegi\n",
    "food_len = len(food)\n",
    "food_list = list(food)\n",
    "food_list_type = type(food_list)"
   ]
  },
  {
   "cell_type": "code",
   "execution_count": 16,
   "metadata": {},
   "outputs": [
    {
     "name": "stdout",
     "output_type": "stream",
     "text": [
      "QUESTION 4 - ANSWERS\n",
      "('banana', 'apple', 'orange', 'pear', 'grape')\n",
      "<class 'tuple'>\n",
      "orange\n",
      "3\n",
      "pear\n",
      "('carrot', 'celery', 'lettuce', 'pepper')\n",
      "('banana', 'apple', 'orange', 'pear', 'grape', 'carrot', 'celery', 'lettuce', 'pepper')\n",
      "9\n",
      "['banana', 'apple', 'orange', 'pear', 'grape', 'carrot', 'celery', 'lettuce', 'pepper']\n",
      "<class 'list'>\n"
     ]
    }
   ],
   "source": [
    "# DO NOT MODIFY!\n",
    "print(\"QUESTION 4 - ANSWERS\")\n",
    "print(fruit)\n",
    "print(fruit_type)\n",
    "print(fruit_2)\n",
    "print(pear_index)\n",
    "print(fruit_2fromlast)\n",
    "print(vegi)\n",
    "print(food)\n",
    "print(food_len)\n",
    "print(food_list)\n",
    "print(food_list_type)"
   ]
  },
  {
   "cell_type": "markdown",
   "metadata": {},
   "source": [
    "### Practice working with Sets"
   ]
  },
  {
   "cell_type": "markdown",
   "metadata": {},
   "source": [
    "### <font color=\"blue\">Question 5 (10 points)</font>\n",
    "1. Create a set named __dogs__ with the following values: __'Labrador', 'Beagle', 'Bulldog', 'Collie'__\n",
    "2. Assign __dogs__'s TYPE to variable __dogs_type__\n",
    "3. Add __'Boxer'__ to the set __dogs__\n",
    "4. Remove __'Bulldog'__ from __dogs__\n",
    "5. Create a set named __cats__ with the following values: __'Persian', 'Siamese', 'Scottish Fold', 'Burmese'__\n",
    "6. Join the sets __dogs__ & '__cats__ to form a new set named __pets__\n",
    "7. Create a set named __animals__ with the following values: __'Labrador', 'Collie', 'Beagle', 'Siamese', 'Boxer', 'Persian'__\n",
    "8. Assign the INTERSECTION of the sets __pets__ & __animals__ to variable __common__\n",
    "9. Assign the DIFFERENCE between the sets __pets__ & __animals__  to variable __diff__\n",
    "10. Check to see if set __dogs__ is a SUBSET of __animals__ -- assign the results to variable __is_subset__"
   ]
  },
  {
   "cell_type": "markdown",
   "metadata": {},
   "source": [
    "### <font color=\"red\">Question 5 - ANSWERS</font>"
   ]
  },
  {
   "cell_type": "code",
   "execution_count": 19,
   "metadata": {},
   "outputs": [],
   "source": [
    "# INSERT YOUR CODE HERE\n",
    "dogs = {'Labrador', 'Beagle', 'Bulldog', 'Collie'}\n",
    "dogs_type = type(dogs)\n",
    "dogs.add('Boxer')\n",
    "dogs.remove('Bulldog')\n",
    "\n",
    "cats = {'Persian', 'Siamese', 'Scottish Fold', 'Burmese'}\n",
    "pets = dogs.union(cats)\n",
    "\n",
    "animals = {'Labrador', 'Collie', 'Beagle', 'Siamese', 'Boxer', 'Persian'}\n",
    "common = pets.intersection(animals)\n",
    "diff = pets.difference(animals)\n",
    "is_subset = dogs.issubset(animals)\n"
   ]
  },
  {
   "cell_type": "code",
   "execution_count": 20,
   "metadata": {},
   "outputs": [
    {
     "name": "stdout",
     "output_type": "stream",
     "text": [
      "QUESTION 5 - ANSWERS\n",
      "{'Collie', 'Beagle', 'Labrador', 'Boxer'}\n",
      "<class 'set'>\n",
      "{'Persian', 'Burmese', 'Scottish Fold', 'Siamese'}\n",
      "{'Burmese', 'Collie', 'Beagle', 'Persian', 'Labrador', 'Boxer', 'Siamese', 'Scottish Fold'}\n",
      "{'Collie', 'Persian', 'Siamese', 'Boxer', 'Beagle', 'Labrador'}\n",
      "{'Collie', 'Persian', 'Beagle', 'Labrador', 'Siamese', 'Boxer'}\n",
      "{'Burmese', 'Scottish Fold'}\n",
      "True\n"
     ]
    }
   ],
   "source": [
    "# DO NOT MODIFY!\n",
    "print(\"QUESTION 5 - ANSWERS\")\n",
    "print(dogs)\n",
    "print(dogs_type)\n",
    "print(cats)\n",
    "print(pets)\n",
    "print(animals)\n",
    "print(common)\n",
    "print(diff)\n",
    "print(is_subset)"
   ]
  },
  {
   "cell_type": "markdown",
   "metadata": {},
   "source": [
    "### Practice working with Dictionaries"
   ]
  },
  {
   "cell_type": "markdown",
   "metadata": {},
   "source": [
    "### <font color=\"blue\">Question 6 (10 points)</font>\n",
    "1. Create a dictionary __NBAteams__ with the following KEY:VALUE pairs: <br> \n",
    "__'Boston': 'Celtics', 'Los Angeles': ['Lakers', 'Clippers'], 'Charlotte': 'Hornets', 'Denver': 'Nuggets', 'Miami': 'Heat'__\n",
    "2. Assign __NBAteams__ TYPE to variable __NBAteams_type__\n",
    "3. Assign the value whose KEY is __'Boston'__ to variable __boston__\n",
    "4. Assign __boston__ TYPE to variable __boston_type__\n",
    "5. Assign the value whose KEY is __'Los Angeles'__ to variable __los_angeles__\n",
    "6. Assign __los_angeles__ TYPE to variable __LA_type__\n",
    "7. Add a new KEY:VALUE pair __'Brooklyn': 'Nets'__ to the __NBAteams__ dictionary:  \n",
    "8. Remove the dictionary entry with the KEY __'Denver'__ from __NBAteams__\n",
    "9. Get all KEYS from __NBAteams__ and assign the KEYS to variable __NBAteams_keys__\n",
    "10. Get the VALUES from __NBAteams__ and assign the VALUE to variable __NBAteams_values__"
   ]
  },
  {
   "cell_type": "markdown",
   "metadata": {},
   "source": [
    "### <font color=\"red\">Question 6 - ANSWERS</font>"
   ]
  },
  {
   "cell_type": "code",
   "execution_count": 21,
   "metadata": {},
   "outputs": [],
   "source": [
    "# INSERT YOUR CODE HERE\n",
    "NBAteams = {\n",
    "    'Boston': 'Celtics', \n",
    "    'Los Angeles': ['Lakers', 'Clippers'], \n",
    "    'Charlotte': 'Hornets', \n",
    "    'Denver': 'Nuggets', \n",
    "    'Miami': 'Heat'\n",
    "}\n",
    "\n",
    "NBAteams_type = type(NBAteams)\n",
    "boston = NBAteams.get('Boston')\n",
    "boston_type = type(boston)\n",
    "los_angeles = NBAteams.get('Los Angeles')\n",
    "LA_type = type(los_angeles)\n",
    "NBAteams['Brooklyn'] = 'Nets'\n",
    "NBAteams.pop('Denver')\n",
    "NBAteams_keys = NBAteams.keys()\n",
    "NBAteams_values = NBAteams.values()\n"
   ]
  },
  {
   "cell_type": "code",
   "execution_count": 22,
   "metadata": {},
   "outputs": [
    {
     "name": "stdout",
     "output_type": "stream",
     "text": [
      "QUESTION 6 - ANSWERS\n",
      "{'Boston': 'Celtics', 'Los Angeles': ['Lakers', 'Clippers'], 'Charlotte': 'Hornets', 'Miami': 'Heat', 'Brooklyn': 'Nets'}\n",
      "<class 'dict'>\n",
      "Celtics\n",
      "<class 'str'>\n",
      "['Lakers', 'Clippers']\n",
      "<class 'list'>\n",
      "dict_keys(['Boston', 'Los Angeles', 'Charlotte', 'Miami', 'Brooklyn'])\n",
      "dict_values(['Celtics', ['Lakers', 'Clippers'], 'Hornets', 'Heat', 'Nets'])\n"
     ]
    }
   ],
   "source": [
    "print(\"QUESTION 6 - ANSWERS\")\n",
    "print(NBAteams)\n",
    "print(NBAteams_type)\n",
    "print(boston)\n",
    "print(boston_type)\n",
    "print(los_angeles)\n",
    "print(LA_type)\n",
    "print(NBAteams_keys)\n",
    "print(NBAteams_values)"
   ]
  },
  {
   "cell_type": "markdown",
   "metadata": {},
   "source": [
    "### Python Control Flows\n",
    "### if - statements\n",
    "Python uses logic conditions to control program flow.<br>\n",
    "Python uses indentation to define the scope of if-elif-else clauses (blocks). The standard (PEP8) indention is 4 spaces.\n",
    "\n",
    "#### Python Conditions\n",
    "- <strong>Equals:</strong> a == b\n",
    "- <strong>Not Equals:</strong> a != b\n",
    "- <strong>Less than:</strong> a < b\n",
    "- <strong>Less than or equal to:</strong> a <= b\n",
    "- <strong>Greater than:</strong> a > b\n",
    "- <strong>Greater than or equal to:</strong> a >= b\n",
    "\n",
    "    \n",
    "**w3schools.com**\n",
    "- if-else: https://www.w3schools.com/python/python_conditions.asp"
   ]
  },
  {
   "cell_type": "markdown",
   "metadata": {},
   "source": [
    "### <font color=\"blue\">Question 7 (10 points)</font>\n",
    "1. Create two variables: __child1__ = 9 and __child2__ = 8\n",
    "2. __Using if-else ...__ compare the two \n",
    "- if the age of __child1__ is greater than __child2__ ... print \"child1 is older than child2\"\n",
    "- (else) print \"child1 is younger than or the same age as child2\"\n",
    "3. Create a new variable: __child3__ = 3\n",
    "4. <strong>Using if-elif-else ... </strong>\n",
    "- if the age of __child2__ equals __child3__ ... print \"child2 is the same age as child3\"\n",
    "- (elif) if __child2__  greater than __child3__  ... print \"child2 is older than child3\"\n",
    "- (else) print \"child2 is younger than child3\"\n",
    "5. <strong>Using if-elif-else ... </strong>\n",
    "- if __child3__ greater than or equal to 13... print \"child3 is a teenager\" \n",
    "- (elif) if __child3__ greater than or equal to 9... print \"child3 is a pre-teen\"\n",
    "- (elif) if __child3__ greater than or equal to 4... print \"child3 is a child\"\n",
    "- else print \"child1 is a baby\""
   ]
  },
  {
   "cell_type": "markdown",
   "metadata": {},
   "source": [
    "### <font color=\"red\">Question 7 - ANSWERS</font>"
   ]
  },
  {
   "cell_type": "code",
   "execution_count": 23,
   "metadata": {},
   "outputs": [
    {
     "name": "stdout",
     "output_type": "stream",
     "text": [
      "QUESTION 7 - ANSWERS\n",
      "child1 is older than child2\n",
      "child2 is older than child3\n",
      "child1 is a baby\n"
     ]
    }
   ],
   "source": [
    "print(\"QUESTION 7 - ANSWERS\")\n",
    "# INSERT YOUR CODE HERE\n",
    "child1 = 9\n",
    "child2 = 8\n",
    "if child1 > child2:\n",
    "    print(\"child1 is older than child2\")\n",
    "else:\n",
    "    print(\"child1 is younger than or the same age as child2\")\n",
    "\n",
    "child3 = 3\n",
    "if child2 == child3:\n",
    "    print(\"child2 is the same age as child3\")\n",
    "elif child2 > child3:\n",
    "    print(\"child2 is older than child3\")\n",
    "else:\n",
    "    print(\"child2 is younger than child3\")\n",
    "\n",
    "if child3 >= 13:\n",
    "    print(\"child3 is a teenager\")\n",
    "elif child3 >= 9:\n",
    "    print(\"child3 is a pre-teen\")\n",
    "elif child3 >= 4:\n",
    "    print(\"child3 is a child\")\n",
    "else:\n",
    "    print(\"child1 is a baby\")\n",
    "\n"
   ]
  },
  {
   "cell_type": "markdown",
   "metadata": {},
   "source": [
    "### Python Loops\n",
    "**While Loops:** execute a set of statements as long as a condition is True<br>\n",
    "**For Loops:** iterate over a sequence executing a set of statements once for each item in the sequence\n",
    "    \n",
    "**w3schools.com**\n",
    "- while loops: https://www.w3schools.com/python/python_while_loops.asp\n",
    "- for loops: https://www.w3schools.com/python/python_for_loops.asp"
   ]
  },
  {
   "cell_type": "markdown",
   "metadata": {},
   "source": [
    "### <font color=\"blue\">Question 8 (10 points)</font>\n",
    "1. Create a list named 'subjects' with the following values: 'Math', 'Science', 'English'\n",
    "3. Assign the TYPE of 'subjects' to variable 'subjects_type'\n",
    "4. Assign the LENGTH of 'subjects' to variable 'subjects_len'\n",
    "5. <strong>Using a WHILE-loop ... </strong>\n",
    "- create a list named 'while_list' containing each element in 'subjects'\n",
    "6. <strong>Using a FOR-loop ... </strong>\n",
    "- create a list named 'for_list' containing each element in 'subjects'\n",
    "7. Assign the 2nd item in the list 'subjects' to variable 'science'\n",
    "8. Assign the TYPE of 'science' to variable 'science_type'\n",
    "9. Assign the LENGTH of 'science' to variable 'science_len'\n",
    "10. <strong>Using a FOR-loop ... </strong>\n",
    "- create a list named 'science_list' containing each character in 'science'"
   ]
  },
  {
   "cell_type": "markdown",
   "metadata": {},
   "source": [
    "### <font color=\"red\">Question 8 - ANSWERS</font>"
   ]
  },
  {
   "cell_type": "code",
   "execution_count": 27,
   "metadata": {},
   "outputs": [],
   "source": [
    "# INSERT YOUR CODE HERE\n",
    "subjects = ['Math', 'Science', 'English']\n",
    "subjects_type = type(subjects)\n",
    "subjects_len = len(subjects)\n",
    "\n",
    "while_list = []\n",
    "i = 0\n",
    "\n",
    "while (i < subjects_len):\n",
    "    while_list.append(subjects[i])\n",
    "    i = i + 1\n",
    "\n",
    "for_list = []\n",
    "\n",
    "for i in range (0, subjects_len):\n",
    "    for_list.append(subjects[i])\n",
    "\n",
    "science = subjects[1]\n",
    "science_type = type(science)\n",
    "science_len = len(science)\n",
    "\n",
    "science_list = []\n",
    "\n",
    "for y in range (0, science_len):\n",
    "    science_list.append(science[y])"
   ]
  },
  {
   "cell_type": "code",
   "execution_count": 28,
   "metadata": {},
   "outputs": [
    {
     "name": "stdout",
     "output_type": "stream",
     "text": [
      "QUESTION 8 - ANSWERS\n",
      "['Math', 'Science', 'English']\n",
      "<class 'list'>\n",
      "3\n",
      "['Math', 'Science', 'English']\n",
      "['Math', 'Science', 'English']\n",
      "Science\n",
      "<class 'str'>\n",
      "7\n",
      "['S', 'c', 'i', 'e', 'n', 'c', 'e']\n"
     ]
    }
   ],
   "source": [
    "# DO NOT MODIFY!\n",
    "print(\"QUESTION 8 - ANSWERS\")\n",
    "print(subjects)\n",
    "print(subjects_type)\n",
    "print(subjects_len)\n",
    "print(while_list)\n",
    "print(for_list)\n",
    "print(science)\n",
    "print(science_type)\n",
    "print(science_len)\n",
    "print(science_list)"
   ]
  },
  {
   "cell_type": "markdown",
   "metadata": {},
   "source": [
    "### Python Range function\n",
    "The range() function returns a sequence of numbers, starting from 0 by default, and increments by 1 (by default), and stops before a specified number.\n",
    "\n",
    "    - SYNTAX: range(<start>,<stop>,<step>) ~ where <step> default value = 1\n",
    "    \n",
    "**w3schools.com**\n",
    "- range: https://www.w3schools.com/python/ref_func_range.asp\n"
   ]
  },
  {
   "cell_type": "markdown",
   "metadata": {},
   "source": [
    "### <font color=\"blue\">Question 9 (5 points)</font>\n",
    "### *** YOU MUST USE LIST COMPREHENSION ***\n",
    "1. <strong>Using a FOR-loop and range() function ... </strong>\n",
    "- Create a list of __values 0-9__ specifying **ONLY specify the STOP value** \n",
    "- Assign the values to variable __loop1_list__\n",
    "2. <strong>Using a FOR-loop and range() function ... </strong>\n",
    "- Create a list of __values 5-10__ (use default step increment)\n",
    "- Assign the values to variable __loop2_list__\n",
    "3. <strong>Using a FOR-loop and range() function ... </strong>\n",
    "- Create a list of __EVEN numbers from 0-20__ **USE STEP value to get only EVEN numbers**\n",
    "- Assign the values to variable __loop3_list__\n",
    "4. <strong>Using a FOR-loop and range() function ... </strong>\n",
    "- Create a list containing __multiples of 5 from 0-50__ (EX: 0,5,10,15 ...)  **USE STEP value to get multiples of 5**\n",
    "- Assign the values to variable __loop4_list__\n",
    "5. <strong>Using a FOR-loop and range() function ... </strong>\n",
    "- Create a list containing __values 10-1__ (1-10 in REVERSE order) **USE a NEGATIVE STEP value -- NOT REVERSE!!!**\n",
    "- Assign the values to variable __loop5_list__"
   ]
  },
  {
   "cell_type": "markdown",
   "metadata": {},
   "source": [
    "### <font color=\"red\">Question 9 - ANSWERS</font>"
   ]
  },
  {
   "cell_type": "code",
   "execution_count": 65,
   "metadata": {},
   "outputs": [],
   "source": [
    "# INSERT YOUR CODE HERE\n",
    "\n",
    "loop1_list = [i for i in range(0, 10)]\n",
    "\n",
    "loop2_list = [i for i in range(5, 11)]\n",
    "\n",
    "loop3_list = [i for i in range(0, 22, 2)]\n",
    "\n",
    "loop4_list = [i for i in range(0, 55, 5)]\n",
    "\n",
    "loop5_list = [i for i in range(10, 0, -1)]\n"
   ]
  },
  {
   "cell_type": "code",
   "execution_count": 66,
   "metadata": {},
   "outputs": [
    {
     "name": "stdout",
     "output_type": "stream",
     "text": [
      "QUESTION 9 - ANSWERS\n",
      "[0, 1, 2, 3, 4, 5, 6, 7, 8, 9]\n",
      "[5, 6, 7, 8, 9, 10]\n",
      "[0, 2, 4, 6, 8, 10, 12, 14, 16, 18, 20]\n",
      "[0, 5, 10, 15, 20, 25, 30, 35, 40, 45, 50]\n",
      "[10, 9, 8, 7, 6, 5, 4, 3, 2, 1]\n"
     ]
    }
   ],
   "source": [
    "# DO NOT MODIFY!\n",
    "print(\"QUESTION 9 - ANSWERS\")\n",
    "print(loop1_list)\n",
    "print(loop2_list)\n",
    "print(loop3_list)\n",
    "print(loop4_list)\n",
    "print(loop5_list)"
   ]
  },
  {
   "cell_type": "markdown",
   "metadata": {},
   "source": [
    "### Python Functions\n",
    "#### A function is a block of code which only gets run when it is called\n",
    "\n",
    "\n",
    "Functions are defined using the keyword **def**\n",
    "    \n",
    "**w3schools.com**\n",
    "- Functions: https://www.w3schools.com/python/python_functions.asp\n",
    "\n",
    "For formatting strings easily you can use f-string\n",
    "print(x,\",\",y)\n",
    "new_string = x + \",\" + y    Lastname,Firstname\n",
    "\n",
    "{dept}.{course}.{section}__ EXAMPLE: CSC.221.0001\n",
    "\n",
    "dept='CSC'\n",
    "course='221'\n",
    "section='0001'\n",
    "\n",
    "(f'{dept}.{course}.{section}')\n",
    "outstring = \n",
    "print(dept + \".\" + course + \".\" + section) ---> CSC.221.0001"
   ]
  },
  {
   "cell_type": "markdown",
   "metadata": {},
   "source": [
    "### <font color=\"blue\">Question 10 (12 points)</font>\n",
    "1. Define a function named __say_hello()__ that prints the text \"Hello!\" every time it is called\n",
    "2. Define a function named __say_something(msg)__ that takes argument __msg__ as input \n",
    "- if __msg__ argument is passed in, print the __msg__ \n",
    "- if no __msg__ argument is passed in, print __\"Speak up!\"__\n",
    "- HINT: How do you set default values if arguments are not passed in?\n",
    "3. Define a function named __csc_class__ that takes arguments __dept, course, section__ as inputs\n",
    "- print a string in the following format: __{dept}.{course}.{section}__ EXAMPLE: CSC.221.0001\n",
    "4. Define a function named __my_color(color)__ that takes argument __color__ as input\n",
    "- set the __color__ argument to default to the value __'red'__\n",
    "- print the value of __color__\n",
    "5. Call function __say_hello()__\n",
    "6. Call function __say_something()__ DO NOT pass in any argument valu\n",
    "7. Call function __say_something(...)__ passing in the string __\"How are you doing today?\"__\n",
    "8. Call function __say_something(...)__ passing in the string __\"I am doing well. How about your?\"__\n",
    "9. Call function __csc_class(..)__ pass in dept 'CSC'; course '221' and section '0001'\n",
    "10. Call function __csc_class(..)__ use __KEYWORD arguments__ to pass in course '115', section '4202', and dept 'WEB'\n",
    "11. Call function __my_color(..)__ passing in the string 'blue'\n",
    "12. Call function __my_color(..)__ without passing in any color value "
   ]
  },
  {
   "cell_type": "markdown",
   "metadata": {},
   "source": [
    "### <font color=\"red\">Question 10 - ANSWERS</font>"
   ]
  },
  {
   "cell_type": "code",
   "execution_count": 56,
   "metadata": {},
   "outputs": [],
   "source": [
    "# INSERT YOUR CODE HERE - FUNCTION CODE ONLY\n",
    "\n",
    "# 1. Define function 'say_hello'\n",
    "def say_hello():\n",
    "    print(\"Hello!\")\n",
    "    \n",
    "# 2. Define function 'say_something' \n",
    "def say_something(msg = \"Speak up!\"):\n",
    "    print(msg) \n",
    "    \n",
    "# 3. Define function 'csc_class\n",
    "def csc_class(dept, course, section):\n",
    "    print(f\"{dept}.{course}.{section}\")\n",
    "    \n",
    "# 4. Define function 'favorite_color' \n",
    "def my_color(color = \"red\"):\n",
    "    print(color)"
   ]
  },
  {
   "cell_type": "code",
   "execution_count": 57,
   "metadata": {},
   "outputs": [
    {
     "name": "stdout",
     "output_type": "stream",
     "text": [
      "QUESTION 10 - ANSWERS\n",
      "Hello!\n",
      "Speak up!\n",
      "How are you doing today?\n",
      "I am doing well. How about you?\n",
      "CSC.221.0001\n",
      "WEB.115.4202\n",
      "blue\n",
      "red\n"
     ]
    }
   ],
   "source": [
    "print(\"QUESTION 10 - ANSWERS\")\n",
    "# INSERT YOUR CODE HERE TO CALL FUNCTIONS\n",
    "\n",
    "# 5. Call function say_hello()\n",
    "say_hello()\n",
    "\n",
    "# 6. Call function say_something(...) ~ no argument\n",
    "say_something()\n",
    "\n",
    "# 7. Call function say_something(...) ~ pass in \"How are you doing today?\"\n",
    "say_something(\"How are you doing today?\")\n",
    "\n",
    "# 8. Call function say_something(...) ~ pass in \"I am doing well. How about you?\"\n",
    "say_something(\"I am doing well. How about you?\")\n",
    "\n",
    "# 9. Call function csc_class(..) ~ pass in dept 'CSC'; course '221' and section '0001'\n",
    "csc_class(\"CSC\", \"221\", \"0001\")\n",
    "\n",
    "# 10. Call function csc_class(..) ~ use key arguments to pass in course '115', section '4202', and dept 'WEB'\n",
    "csc_class(course = \"115\", section = \"4202\", dept = \"WEB\")\n",
    "\n",
    "# 11. Call function my_color(..) ~ pass in 'blue'\n",
    "my_color(\"blue\")\n",
    "\n",
    "# 12. Call function  my_color(..) ~ no argument\n",
    "my_color()"
   ]
  },
  {
   "cell_type": "markdown",
   "metadata": {},
   "source": [
    "### Python Input/Output (I/O)\n",
    "#### Python I/O functions include: \n",
    "\n",
    "**open():** open a file<br>\n",
    "**read() / readline():** read a file or lines of a file<br>\n",
    "**write():** write to a file<br>\n",
    "**close():** close a file\n",
    "\n",
    "#### The syntax for open() is:\n",
    "- open(filename, mode) where the mode can be: read(\"r\"), write(\"w\"), append(\"a\"), create(\"x\") if not exist\n",
    "    \n",
    "**w3schools.com**\n",
    "- file open for read/read-line: https://www.w3schools.com/python/python_file_open.asp\n",
    "- file open for write: https://www.w3schools.com/python/python_file_write.asp"
   ]
  },
  {
   "cell_type": "markdown",
   "metadata": {},
   "source": [
    "### <font color=\"blue\">QUESTION 11 (3 points)</font>\n",
    "1. Open a new file __CSC221Lab1.txt__ using __\"w\"__ mode\n",
    "- Write the text __\"I am a student in course CSC 221 Section 0001 SPRING 2023\"__ to this file\n",
    "- Write the text __\"My name is {insert your name here}\"__ to this file (__<== ON A NEW LINE__)\n",
    "- Close the file\n",
    "2. Open the file using __\"r\"__ mode\n",
    "- Print the contents of the file\n",
    "- Close the file\n",
    "\n",
    "#### NOTE: If you look in your Jupyter Notebook Lab1 folder, you should see the new file \"CSC221Lab1.txt\""
   ]
  },
  {
   "cell_type": "markdown",
   "metadata": {},
   "source": [
    "### <font color=\"red\">Question 11 - ANSWERS</font>"
   ]
  },
  {
   "cell_type": "code",
   "execution_count": 58,
   "metadata": {},
   "outputs": [
    {
     "name": "stdout",
     "output_type": "stream",
     "text": [
      "QUESTION 11 - ANSWERS\n",
      "I am a student in course CSC 221 Section 0001 SPRING 2023\n",
      "My name is Aliyah Lewis\n"
     ]
    }
   ],
   "source": [
    "print(\"QUESTION 11 - ANSWERS\")\n",
    "# INSERT YOUR CODE HERE\n",
    "\n",
    "# Open a new file \"CSC221Lab1.txt\" using \"w\" mode\n",
    "f = open(\"CSC221Lab1.txt\", \"w\")\n",
    "f.write(\"I am a student in course CSC 221 Section 0001 SPRING 2023\")\n",
    "f.write(\"\\nMy name is Aliyah Lewis\")\n",
    "f.close()\n",
    "\n",
    "# Open file \"CSC221Lab1.txt\" using \"r\" mode\n",
    "f = open(\"CSC221Lab1.txt\", \"r\")\n",
    "print(f.read())\n",
    "f.close()\n"
   ]
  },
  {
   "cell_type": "code",
   "execution_count": null,
   "metadata": {},
   "outputs": [],
   "source": []
  }
 ],
 "metadata": {
  "kernelspec": {
   "display_name": "Python 3 (ipykernel)",
   "language": "python",
   "name": "python3"
  },
  "language_info": {
   "codemirror_mode": {
    "name": "ipython",
    "version": 3
   },
   "file_extension": ".py",
   "mimetype": "text/x-python",
   "name": "python",
   "nbconvert_exporter": "python",
   "pygments_lexer": "ipython3",
   "version": "3.12.0"
  }
 },
 "nbformat": 4,
 "nbformat_minor": 4
}
