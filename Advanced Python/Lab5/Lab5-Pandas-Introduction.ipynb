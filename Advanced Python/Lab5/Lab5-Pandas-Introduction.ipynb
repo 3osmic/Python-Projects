{
 "cells": [
  {
   "cell_type": "markdown",
   "metadata": {},
   "source": [
    "# Lab 5: Pandas Introduction"
   ]
  },
  {
   "cell_type": "markdown",
   "metadata": {},
   "source": [
    "### Author: <font color='red'> Aliyah Lewis </font>"
   ]
  },
  {
   "cell_type": "markdown",
   "metadata": {},
   "source": [
    "## Verify installation of Pandas"
   ]
  },
  {
   "cell_type": "code",
   "execution_count": 1,
   "metadata": {},
   "outputs": [
    {
     "name": "stdout",
     "output_type": "stream",
     "text": [
      "NumPy version: 1.26.4\n",
      "Pandas version: 2.2.0\n"
     ]
    },
    {
     "name": "stderr",
     "output_type": "stream",
     "text": [
      "C:\\Users\\Cosmic\\AppData\\Local\\Temp\\ipykernel_29168\\1034663105.py:3: DeprecationWarning: \n",
      "Pyarrow will become a required dependency of pandas in the next major release of pandas (pandas 3.0),\n",
      "(to allow more performant data types, such as the Arrow string type, and better interoperability with other libraries)\n",
      "but was not found to be installed on your system.\n",
      "If this would cause problems for you,\n",
      "please provide us feedback at https://github.com/pandas-dev/pandas/issues/54466\n",
      "        \n",
      "  import pandas as pd\n"
     ]
    }
   ],
   "source": [
    "# Verify Pandas libraries are installed\n",
    "import numpy as np\n",
    "import pandas as pd\n",
    "from pandas import DataFrame, Series\n",
    "\n",
    "# Display version information\n",
    "print(\"NumPy version:\", np.__version__)\n",
    "print(\"Pandas version:\", pd.__version__)"
   ]
  },
  {
   "cell_type": "code",
   "execution_count": 2,
   "metadata": {},
   "outputs": [],
   "source": [
    "# Import two more Python libraries ...\n",
    "import csv\n",
    "import os"
   ]
  },
  {
   "cell_type": "markdown",
   "metadata": {},
   "source": [
    "## PART A: Pandas Series (50 pts - 2pts/step)\n",
    "### Creating Pandas Series"
   ]
  },
  {
   "cell_type": "markdown",
   "metadata": {},
   "source": [
    "The base data structure of Pandas is the __Series object__. It is a one-dimensional array, similar to a NumPy array, but also has special index capabilities. Think of a __Series__ as a column in a table, a one-dimensional array that can hold data of any type. A simple way to create a Series object is by using a Python __list__, NumPy __array__, or a Python __dictionary__.\n",
    "\n",
    "Unlike a standard array, a __Series__ object has an index labels \n",
    "\n",
    "    - If no index labels are defined, the default is (integer) index numbers (eg. 0,1,2,3,...)\n",
    "    - If user-defined index labels are defined, the elements of a Series can be accessed using EITHER the (integer) index numbers OR the user-defined index labels\n",
    "    \n",
    "    EXAMPLE-1: pd.Series(['apple','banana','cherry'])\n",
    "    EXAMPLE-2: pd.Series(['apple','banana','cherry'], index=['A','B','C'])\n",
    "       \n",
    "       0  apple             A  apple       \n",
    "       1  banana     OR     B  banana\n",
    "       2  cherry            C  cherry\n",
    "\n",
    "\n",
    "\n",
    "__ADDITIONAL REFERENCES & EXAMPLES__\n",
    "\n",
    "w3schools.com site (Pandas Series creation examples)\n",
    "\n",
    "- REF: https://www.w3schools.com/python/pandas_series.asp\n",
    "    \n",
    "pandas.pydata.org site (information about Pandas Series attributes):\n",
    "\n",
    "- REF: https://pandas.pydata.org/pandas-docs/stable/reference/api/pandas.Series.html\n",
    "    \n",
    "Here are a few commonly used attributes of a Series:\n",
    "\n",
    "__ATTRIBUTES__\n",
    "\n",
    "- index  ~ Return the index (axis labels).\n",
    "- values ~ Return Series as ndarray or ndarray-like depending on the dtype.\n",
    "- ndim   ~ Number of dimensions of the underlying data, by definition 1.\n",
    "- shape  ~ Return a tuple of the shape of the underlying data.\n",
    "- size   ~ Return the number of elements in the underlying data.\n",
    "- values ~ Return Series as ndarray or ndarray-like depending on the dtype.\n",
    "\n",
    "Let's try a few ..."
   ]
  },
  {
   "cell_type": "markdown",
   "metadata": {},
   "source": [
    "<span style=\"color:blue\">\n",
    "<h3>Display various Series Attributes:</h3><br>    \n",
    "Using the Panda Series named <strong>S1</strong> ...<br>\n",
    "    1.Set variable <strong>S1_VALUES</strong> to the values of <strong>S1</strong> <br>\n",
    "    2.Set variable <strong>S1_INDEX</strong> to the index of <strong>S1</strong> <br>    \n",
    "    3.Set variable <strong>S1_NDIM</strong> to the number of dimensions of <strong>S1</strong> <br>\n",
    "    4.Set variable <strong>S1_SHAPE</strong> to the shape of <strong>S1</strong> <br>\n",
    "</span>"
   ]
  },
  {
   "cell_type": "code",
   "execution_count": 3,
   "metadata": {},
   "outputs": [],
   "source": [
    "# DO NOT MODIFY !!!\n",
    "# Create a Pandas Series from a Python list with different data types\n",
    "S1 = Series (['WTCC', 'CSC221', .0001, 'Spring', 2023])"
   ]
  },
  {
   "cell_type": "code",
   "execution_count": 4,
   "metadata": {},
   "outputs": [],
   "source": [
    "# INSERT CODE FOR STEPS 1 - 4\n",
    "S1_VALUES = S1.values\n",
    "S1_INDEX = S1.index\n",
    "S1_NDIM = S1.ndim\n",
    "S1_SHAPE = S1.shape"
   ]
  },
  {
   "cell_type": "code",
   "execution_count": 5,
   "metadata": {},
   "outputs": [
    {
     "name": "stdout",
     "output_type": "stream",
     "text": [
      "S1_VALUES: ['WTCC' 'CSC221' 0.0001 'Spring' 2023]\n",
      "S1_INDEX: RangeIndex(start=0, stop=5, step=1)\n",
      "S1_NDIM: 1\n",
      "S1_SHAPE: (5,)\n"
     ]
    }
   ],
   "source": [
    "# DO NOT MODIFY !!!\n",
    "# Print the Series values \n",
    "print(f\"S1_VALUES: {S1_VALUES}\")\n",
    "print(f\"S1_INDEX: {S1_INDEX}\")\n",
    "# Print the Series attributes\n",
    "print(f\"S1_NDIM: {S1_NDIM}\")\n",
    "print(f\"S1_SHAPE: {S1_SHAPE}\")"
   ]
  },
  {
   "cell_type": "markdown",
   "metadata": {},
   "source": [
    "### Series Creations"
   ]
  },
  {
   "cell_type": "markdown",
   "metadata": {},
   "source": [
    "Although the most common way to create a __Series__ is using a Python __List__, you can also create a Series object using a Python __dictionary__ {key:value,key:value,...}. The __keys__ become the labels.\n",
    "\n",
    "__NOTE the difference between the two -- specifically the first column -- the index__"
   ]
  },
  {
   "cell_type": "markdown",
   "metadata": {},
   "source": [
    "<span style=\"color:blue\">\n",
    "<h3>Create a Series using a Python List and a Python Dictionary:</h3><br>    \n",
    "    5.Create a Pandas <strong>Series</strong> named <strong>S2_MONTH_LIST</strong> using a <strong>Python list</strong> containing <strong>[31,28,31,30,31]</strong>. <br>\n",
    "    6.Create another Pandas <strong>Series</strong> named <strong>S2_MONTH_LIST2</strong> using a <strong>Python list</strong> containing <strong>[31,28,31,30,31]</strong> but adding a user-defined INDEX.\n",
    "    <ul>\n",
    "        <li>Index values: 'Jan', 'Feb', 'Mar', 'Apr', 'May'.</li>\n",
    "    </ul>\n",
    "    7.Create a Pandas <strong>Series</strong> named <strong>S2_MONTH_DICT</strong> using a <strong>Python dictionary</strong> containing <strong>{'Aug': 31, 'Sep': 30, 'Oct': 31, 'Nov': 30, 'Dec': 31}</strong>\n",
    "</span>"
   ]
  },
  {
   "cell_type": "code",
   "execution_count": 6,
   "metadata": {},
   "outputs": [],
   "source": [
    "# INSERT CODE FOR STEPS 5 - 7\n",
    "S2_MONTH_LIST = Series ([31,28,31,30,31])\n",
    "S2_MONTH_LIST2 = Series ([31,28,31,30,31], index = ['Jan', 'Feb', 'Mar', 'Apr', 'May'])\n",
    "S2_MONTH_DICT = Series ({'Aug': 31, 'Sep': 30, 'Oct': 31, 'Nov': 30, 'Dec': 31})"
   ]
  },
  {
   "cell_type": "code",
   "execution_count": 7,
   "metadata": {},
   "outputs": [
    {
     "name": "stdout",
     "output_type": "stream",
     "text": [
      "S2_MONTH_LIST\n",
      "0    31\n",
      "1    28\n",
      "2    31\n",
      "3    30\n",
      "4    31\n",
      "dtype: int64\n",
      "\n",
      "S2_MONTH_LIST2\n",
      "Jan    31\n",
      "Feb    28\n",
      "Mar    31\n",
      "Apr    30\n",
      "May    31\n",
      "dtype: int64\n",
      "\n",
      "S2_MONTH_DICT\n",
      "Aug    31\n",
      "Sep    30\n",
      "Oct    31\n",
      "Nov    30\n",
      "Dec    31\n",
      "dtype: int64\n",
      "\n"
     ]
    }
   ],
   "source": [
    "# DO NOT MODIFY !!!\n",
    "print(f\"S2_MONTH_LIST\\n{S2_MONTH_LIST}\\n\")\n",
    "print(f\"S2_MONTH_LIST2\\n{S2_MONTH_LIST2}\\n\")\n",
    "print(f\"S2_MONTH_DICT\\n{S2_MONTH_DICT}\\n\")"
   ]
  },
  {
   "cell_type": "markdown",
   "metadata": {},
   "source": [
    "<div class=\"alert alert-block alert-info\">\n",
    "    <b>NOTE: </b> Printing a Pandas Series results in <b>two columns</b> of output.<br><br>\n",
    "    The first column is <b>NOT</b> Series data; it contains <b>index labels</b>.The second column contains the <b>values</b> of the Series object.<br><br>\n",
    "    Each row represents the index label and the value for that label.<br>\n",
    "    <ul>\n",
    "    <li>If a Series is created <b>without</b> specifying an explicit index, Pandas automatically creates a <b>0-based index</b>, as with lists and NumPy arrays. Elements of a Series object can be accessed through the index using regular indexing brackets: [ ].</li></br>\n",
    "    <li>If a Series is created <b>with a user-defined index</b> (i.e. labels) using a Python <b>dictionary</b> OR using the <b>index=</b> parameter, elements of a Series object can be accessed using EITHER the <b>index labels OR the 0-based index</b>.</li>\n",
    "    </ul>\n",
    "</div> "
   ]
  },
  {
   "cell_type": "markdown",
   "metadata": {},
   "source": [
    "### Accessing values using the Index"
   ]
  },
  {
   "cell_type": "markdown",
   "metadata": {},
   "source": [
    "<span style=\"color:blue\">\n",
    "<h3>Create a new Series object specifying an explicit index</h3>\n",
    "    8. Create a new <strong>Series</strong> named <strong>S3_TRAFFIC_LIGHT</strong> using an <strong>explicit index</strong>.\n",
    "    <ul>\n",
    "    <li>Use a DICTIONARY with KEYS <strong>'STOP','YIELD','GO'</strong> and VALUES <strong>'red','yellow','green</strong>.</li> \n",
    "    </ul>\n",
    "    9.Set variable <strong>S3_VALUES</strong> to the values of <strong>S3_TRAFFIC_LIGHT</strong> <br>\n",
    "    10.Set variable <strong>S3_INDEX</strong> to the index values of <strong>S3_TRAFFIC_LIGHT</strong> <br>    \n",
    "</span>"
   ]
  },
  {
   "cell_type": "code",
   "execution_count": 8,
   "metadata": {},
   "outputs": [],
   "source": [
    "# INSERT CODE FOR STEPS 8 - 10\n",
    "S3_TRAFFIC_LIGHT = Series ({'STOP': 'red', 'YIELD': 'yellow', 'GO': 'green'})\n",
    "S3_VALUES = S3_TRAFFIC_LIGHT.values\n",
    "S3_INDEX = S3_TRAFFIC_LIGHT.index"
   ]
  },
  {
   "cell_type": "code",
   "execution_count": 9,
   "metadata": {},
   "outputs": [
    {
     "name": "stdout",
     "output_type": "stream",
     "text": [
      "S3_VALUES: ['red' 'yellow' 'green']\n",
      "S3_INDEX: Index(['STOP', 'YIELD', 'GO'], dtype='object')\n",
      "\n",
      "S3_TRAFFIC_LIGHT:\n",
      "STOP        red\n",
      "YIELD    yellow\n",
      "GO        green\n",
      "dtype: object\n"
     ]
    }
   ],
   "source": [
    "# DO NOT MODIFY !!!\n",
    "# Print the Series values \n",
    "print(f\"S3_VALUES: {S3_VALUES}\")\n",
    "print(f\"S3_INDEX: {S3_INDEX}\\n\")\n",
    "# Print the Series S3_Traffic_Light\n",
    "print(f\"S3_TRAFFIC_LIGHT:\\n{S3_TRAFFIC_LIGHT}\")"
   ]
  },
  {
   "cell_type": "markdown",
   "metadata": {},
   "source": [
    "<span style=\"color:blue\">\n",
    "    <h3>Access/Modify values using index values</h3>\n",
    "    11.Set variable <strong>S3_STOP_VALUE</strong> to the value associated with index <strong>'STOP'</strong><br>\n",
    "    12.Set variable <strong>S3_GO_VALUE</strong> to the value associated with index <strong>'GO'</strong> <br> \n",
    "    <ul>\n",
    "        <li>BUT you <strong>MUST</strong> use the 0-based index (NOT the label!)</li>\n",
    "    </ul>\n",
    "    13.Set variable <strong>S3_ROWS_12</strong> to the values in <strong>Row1 and Row2</strong><br>\n",
    "    14.Update the value associated with index <strong>'YIELD'</strong> to <strong>'Hurry!'</strong> <br>\n",
    "    15.Update the value associated with index <strong>'STOP'</strong> to <strong>'OH NO!'</strong><br>\n",
    "    <ul>\n",
    "        <li>BUT you <strong>MUST</strong> use the 0-based index (NOT the label!)</li>\n",
    "    </ul>\n",
    "</span>"
   ]
  },
  {
   "cell_type": "code",
   "execution_count": 10,
   "metadata": {},
   "outputs": [],
   "source": [
    "# INSERT CODE FOR STEPS 11 - 15\n",
    "S3_STOP_VALUE = S3_TRAFFIC_LIGHT.iloc[0]\n",
    "S3_GO_VALUE = S3_TRAFFIC_LIGHT.iloc[2]\n",
    "S3_ROWS_12 = S3_TRAFFIC_LIGHT.head(2).values\n",
    "S3_TRAFFIC_LIGHT.iloc[1] = 'Hurry!'\n",
    "S3_TRAFFIC_LIGHT.iloc[0] = 'OH NO!'"
   ]
  },
  {
   "cell_type": "code",
   "execution_count": 11,
   "metadata": {},
   "outputs": [
    {
     "name": "stdout",
     "output_type": "stream",
     "text": [
      "S3_STOP_VALUE: red\n",
      "S3_GO_VALUE: green\n",
      "\n",
      "S3_ROWS_12:\n",
      "['OH NO!' 'Hurry!']\n",
      "\n",
      "S3_TRAFFIC_LIGHT Updated Series:\n",
      "STOP     OH NO!\n",
      "YIELD    Hurry!\n",
      "GO        green\n",
      "dtype: object\n"
     ]
    }
   ],
   "source": [
    "# DO NOT MODIFY !!!\n",
    "# Print values accessed by indices\n",
    "print(f\"S3_STOP_VALUE: {S3_STOP_VALUE}\")\n",
    "print(f\"S3_GO_VALUE: {S3_GO_VALUE}\\n\")\n",
    "print(f\"S3_ROWS_12:\\n{S3_ROWS_12}\\n\")\n",
    "\n",
    "# Print updated Series values\n",
    "print(f\"S3_TRAFFIC_LIGHT Updated Series:\\n{S3_TRAFFIC_LIGHT}\")"
   ]
  },
  {
   "cell_type": "markdown",
   "metadata": {},
   "source": [
    "### DateTimeIndex"
   ]
  },
  {
   "cell_type": "markdown",
   "metadata": {},
   "source": [
    "A common usage for a Series is to represent a <b>time series</b> that associates date/time index labels with values. \n",
    "\n",
    "A date range can be created using the Pandas method <b>pd.date_range()</b>.\n",
    "\n",
    "- REF: https://pandas.pydata.org/pandas-docs/stable/reference/api/pandas.date_range.html\n",
    "\n",
    "A data range index in Pandas is referred to as a <b>DatetimeIndex</b>, which is a Pandas index optimized to index data with dates and times.\n",
    "\n",
    "- REF: https://pandas.pydata.org/docs/reference/api/pandas.DatetimeIndex.html\n",
    "\n",
    "Let's create a one ..."
   ]
  },
  {
   "cell_type": "markdown",
   "metadata": {},
   "source": [
    "<span style=\"color:blue\">\n",
    "    <h3>Create a DateTimeIndex </h3>\n",
    "16. Use the <strong>pd.date_range(...)</strong> command to create a <strong>DatetimeIndex</strong> named <strong>INDEX_DATES</strong> with indices:\n",
    "    <ul>\n",
    "        <li><strong>'2023-01-01'</strong> -thru- <strong>'2023-01-08'</strong> (inclusive)</li>\n",
    "    </ul>\n",
    "17. Create a <strong>Series</strong> named <strong>S4_JAN_MAXS</strong> with high temperature values for Raleigh this year <strong>[66,63,73,68,70,59,54,41]</strong> and <strong>dates for the index</strong> <br>\n",
    "</span>"
   ]
  },
  {
   "cell_type": "code",
   "execution_count": 12,
   "metadata": {},
   "outputs": [],
   "source": [
    "# INSERT CODE FOR STEPS 16-17\n",
    "INDEX_DATES = pd.date_range(start = '2023-01-01', end = '2023-01-08')\n",
    "S4_JAN_MAXS = Series ([66,63,73,68,70,59,54,41], index = INDEX_DATES)"
   ]
  },
  {
   "cell_type": "code",
   "execution_count": 13,
   "metadata": {},
   "outputs": [
    {
     "name": "stdout",
     "output_type": "stream",
     "text": [
      "INDEX_DATES:\n",
      "DatetimeIndex(['2023-01-01', '2023-01-02', '2023-01-03', '2023-01-04',\n",
      "               '2023-01-05', '2023-01-06', '2023-01-07', '2023-01-08'],\n",
      "              dtype='datetime64[ns]', freq='D')\n",
      "MAX RALEIGH JANUARY TEMPS:\n",
      "2023-01-01    66\n",
      "2023-01-02    63\n",
      "2023-01-03    73\n",
      "2023-01-04    68\n",
      "2023-01-05    70\n",
      "2023-01-06    59\n",
      "2023-01-07    54\n",
      "2023-01-08    41\n",
      "Freq: D, dtype: int64\n"
     ]
    }
   ],
   "source": [
    "## DO NOT MODIFY !!!\n",
    "print(f\"INDEX_DATES:\\n{INDEX_DATES}\")\n",
    "print(f\"MAX RALEIGH JANUARY TEMPS:\\n{S4_JAN_MAXS}\")"
   ]
  },
  {
   "cell_type": "markdown",
   "metadata": {},
   "source": [
    "__STATISTICAL METHODS__\n",
    "\n",
    "The same Statistical methods you saw with NumPy can be applied to a Pandas Series -- including mean, median, standard deviation, etc.\n",
    "\n",
    "    REF: https://pandas.pydata.org/pandas-docs/stable/reference/series.html#computations-descriptive-stats\n",
    "\n",
    "Here are just a few:\n",
    "\n",
    "- Series.max(...)    ~ Return the maximum of the values over the requested axis.\n",
    "- Series.mean(...)   ~ Return the mean of the values over the requested axis.\n",
    "- Series.median(...) ~ Return the median of the values over the requested axis.\n",
    "- Series.min(...)    ~ Return the minimum of the values over the requested axis.\n",
    "- Series.sum(...)    ~ Return the sum of the values over the requested axis.\n",
    "\n",
    "Let's try a few using the Series created above (<b>S4_JAN_MAXS</b>)"
   ]
  },
  {
   "cell_type": "markdown",
   "metadata": {},
   "source": [
    "<span style=\"color:blue\">\n",
    "    <h3>Try a few statistical methods ...</h3>\n",
    "    18.Set variable <strong>JAN_MAX</strong> to the <strong>max</strong> value of <strong>S4_JAN_MAXS</strong> <br> \n",
    "    19.Set variable <strong>JAN_MIN</strong> to the <strong>min</strong> value of <strong>S4_JAN_MAXS</strong> <br> \n",
    "    20.Set variable <strong>JAN_MEAN</strong> to the <strong>mean</strong> value of <strong>S4_JAN_MAXS</strong> <br> \n",
    "</span>"
   ]
  },
  {
   "cell_type": "code",
   "execution_count": 14,
   "metadata": {},
   "outputs": [],
   "source": [
    "# INSERT CODE FOR STEPS 18 - 20\n",
    "JAN_MAX = S4_JAN_MAXS.max()\n",
    "JAN_MIN = S4_JAN_MAXS.min()\n",
    "JAN_MEAN = S4_JAN_MAXS.mean()"
   ]
  },
  {
   "cell_type": "code",
   "execution_count": 15,
   "metadata": {},
   "outputs": [
    {
     "name": "stdout",
     "output_type": "stream",
     "text": [
      "JAN_MAX: 73\n",
      "JAN_MIN: 41\n",
      "JAN_MEAN: 61.75\n"
     ]
    }
   ],
   "source": [
    "# DO NOT MODIFY !!!\n",
    "print(f\"JAN_MAX: {JAN_MAX}\")\n",
    "print(f\"JAN_MIN: {JAN_MIN}\")\n",
    "print(f\"JAN_MEAN: {JAN_MEAN}\")"
   ]
  },
  {
   "cell_type": "markdown",
   "metadata": {},
   "source": [
    "__ADDITION / SUBTRACTION / MULTIPLY / DIVIDE__\n",
    "\n",
    "__NOTE:__ You can __add (+)__ , __subtract (-)__ , __multiply (*)__ and __divide (/)__ Series values as well\n",
    "\n",
    "Let's give it a try ..."
   ]
  },
  {
   "cell_type": "markdown",
   "metadata": {},
   "source": [
    "<span style=\"color:blue\">\n",
    "    <h3>Try some mathematical methods ...</h3>\n",
    "    21. Create a new <strong>Series</strong> named <strong>S5_JAN_MINS</strong> with minimum temperature values for Raleigh this year: <strong>[48,43,52,61,47,50,33,31]</strong> and <strong>INDEX_DATES</strong> (created above) for the index <br>\n",
    "    22. Create a <strong>Series</strong> named <strong>TEMP_DIFFS</strong> with temperature <strong>differences</strong> between the <strong>S4_JAN_MAXS</strong> and <strong>S5_JAN_MINS</strong> temperature: \n",
    "    <ul>\n",
    "        <li>Subtract S5_JAN_MINS from S4_JAN_MAXS -- your results should be positive values!</li>\n",
    "    </ul>\n",
    "    23. Create a <strong>Series</strong> named <strong>TEMP_SUM</strong> by adding the temperatures of <strong>S4_JAN_MAXS</strong> and <strong>S5_JAN_MINS</strong><br>\n",
    "    24. Create a <strong>Series</strong> named <strong>TEMP_AVG</strong> by dividing <strong>TEMP_SUM</strong> by <strong>2</strong><br>\n",
    "    25. Create a <strong>Series</strong> named <strong>TEMP_90PCT</strong> by multiplying <strong>S5_JAN_MINS</strong> by <strong>.90</strong> (90%).\n",
    "</span>"
   ]
  },
  {
   "cell_type": "code",
   "execution_count": 16,
   "metadata": {},
   "outputs": [],
   "source": [
    "# INSERT CODE FOR STEPS 21-25\n",
    "S5_JAN_MINS = Series ([48,43,52,61,47,50,33,31], index = INDEX_DATES)\n",
    "TEMP_DIFFS = S4_JAN_MAXS - S5_JAN_MINS \n",
    "TEMP_SUM = S4_JAN_MAXS + S5_JAN_MINS\n",
    "TEMP_AVG = TEMP_SUM / 2\n",
    "TEMP_90PCT = S5_JAN_MINS * 0.90"
   ]
  },
  {
   "cell_type": "code",
   "execution_count": 17,
   "metadata": {},
   "outputs": [
    {
     "name": "stdout",
     "output_type": "stream",
     "text": [
      "S4_JAN_MAXS:\n",
      " [66 63 73 68 70 59 54 41]\n",
      "\n",
      "S5_JAN_MINS:\n",
      " [48 43 52 61 47 50 33 31]\n",
      "\n",
      "TEMP_DIFFS:\n",
      " [18 20 21  7 23  9 21 10]\n",
      "TEMP_SUM:\n",
      " [114 106 125 129 117 109  87  72]\n",
      "TEMP_AVG:\n",
      " [57.  53.  62.5 64.5 58.5 54.5 43.5 36. ]\n",
      "TEMP_90PCT:\n",
      " [43.2 38.7 46.8 54.9 42.3 45.  29.7 27.9]\n"
     ]
    }
   ],
   "source": [
    "# DO NOT MODIFY !!!\n",
    "# Display both Series values - MAX & MIN for reference\n",
    "print(f\"S4_JAN_MAXS:\\n {S4_JAN_MAXS.values}\\n\")\n",
    "print(f\"S5_JAN_MINS:\\n {S5_JAN_MINS.values}\\n\")\n",
    "\n",
    "print(f\"TEMP_DIFFS:\\n {TEMP_DIFFS.values}\")\n",
    "print(f\"TEMP_SUM:\\n {TEMP_SUM.values}\")\n",
    "print(f\"TEMP_AVG:\\n {TEMP_AVG.values}\")\n",
    "print(f\"TEMP_90PCT:\\n {TEMP_90PCT.values}\")"
   ]
  },
  {
   "cell_type": "markdown",
   "metadata": {},
   "source": [
    "## PART B: DataFrame Object: (30 pts - 2pts/step)"
   ]
  },
  {
   "cell_type": "markdown",
   "metadata": {},
   "source": [
    "If you want to have more than one **Series** of data that is _aligned by a common index_, then a Pandas **DataFrame** is used. A **DataFrame** is like a database table, where **each column** has the same type of data, but the columns can have different types of data. Columns in a **DataFrame** object can be accessed using an array indexer [] with the name of the column or a list of column names.\n",
    "\n",
    "\n",
    "There is an indexing difference between **DataFrame** objects and **Series** objects. If you pass a **list** to the **indexing [ ] operator** of a **DataFrame**, it retrieves the specified **columns**, whereas a **Series** uses the list as index labels to retrieve rows. \n",
    "\n",
    "So, with a **DataFrame** object, if the name of a column *does not have spaces*, you can **use the column name** to access the column of data in a **DataFrame** (i.e. 'dot' syntax), for example: __TEMPDF.Atlanta__ instead of __TEMPDF['Atlanta']__"
   ]
  },
  {
   "cell_type": "markdown",
   "metadata": {},
   "source": [
    "### DataFrame Creation"
   ]
  },
  {
   "cell_type": "markdown",
   "metadata": {},
   "source": [
    "<span style=\"color:blue\">\n",
    "    <h3>Creating DataFrames ...</h3>\n",
    "        1. Create a <strong>DataFrame</strong> object named <strong>DF_RAL_CLT</strong> with <strong>two columns</strong> using the two Series objects created for you (below): <strong>RAL_TEMPS</strong> and <strong>CLT_TEMPS</strong>.\n",
    "    <ul>\n",
    "    <li>Give them <strong>column names</strong> of <strong>'Raleigh'</strong> and <strong>'Charlotte'</strong>.</li>\n",
    "    </ul>\n",
    "    2.Set variable <strong>RAL</strong> to the column of <strong>DF_RAL_CLT</strong> with the name <strong>'Raleigh'</strong> <br>\n",
    "    3.Set variable <strong>CLT</strong> to the column of <strong>DF_RAL_CLT</strong> with the name <strong>'Charlotte'</strong>\n",
    "    <ul>\n",
    "        <li><strong>YOU MUST USE 'dot' syntax to reference the column name!!!</strong></li>\n",
    "    </ul>\n",
    "    4.Create <strong>DF_CLT_RAL</strong> containing both columns in <strong>DF_RAL_CLT</strong> in the <strong>reverse order</strong> [Charlotte column 1st and Raleigh column 2nd] <br>\n",
    "</span>"
   ]
  },
  {
   "cell_type": "code",
   "execution_count": 18,
   "metadata": {},
   "outputs": [],
   "source": [
    "################################################################################\n",
    "# THIS CODE IS PROVIDED FOR YOU -- JUST RUN IT TO CREATE 2 SERIES OBJECTS!!!\n",
    "################################################################################\n",
    "RALEIGH_AUG_2022 = [92, 94, 94, 95, 94, 93, 93, 95]\n",
    "CHARLOTTE_AUG_2022= [85, 92, 94, 93, 91, 91, 92, 93]\n",
    "INDEX_DATES = pd.date_range ('2022-08-01', '2022-08-08')\n",
    "RAL_TEMPS = pd.Series(RALEIGH_AUG_2022,index=INDEX_DATES)\n",
    "CLT_TEMPS = pd.Series(CHARLOTTE_AUG_2022,index=INDEX_DATES)\n",
    "#print(\"RAL_TEMPS:\\n\", RAL_TEMPS)\n",
    "#print(\"CLT_TEMPS:\\n\", CLT_TEMPS)"
   ]
  },
  {
   "cell_type": "code",
   "execution_count": 32,
   "metadata": {},
   "outputs": [],
   "source": [
    "# INSERT CODE FOR STEPS 1 - 4\n",
    "DF_RAL_CLT = pd.DataFrame({'Raleigh':RAL_TEMPS, 'Charlotte':CLT_TEMPS})\n",
    "RAL = DF_RAL_CLT.Raleigh\n",
    "CLT = DF_RAL_CLT.Charlotte\n",
    "DF_CLT_RAL = DF_RAL_CLT.iloc[:,::-1]"
   ]
  },
  {
   "cell_type": "code",
   "execution_count": 33,
   "metadata": {},
   "outputs": [
    {
     "name": "stdout",
     "output_type": "stream",
     "text": [
      "\n",
      "DATAFRAME DF_RAL_CLT\n",
      "             Raleigh  Charlotte\n",
      "2022-08-01       92         85\n",
      "2022-08-02       94         92\n",
      "2022-08-03       94         94\n",
      "2022-08-04       95         93\n",
      "2022-08-05       94         91\n",
      "2022-08-06       93         91\n",
      "2022-08-07       93         92\n",
      "2022-08-08       95         93\n",
      "\n",
      "RALEIGH\n",
      "2022-08-01    92\n",
      "2022-08-02    94\n",
      "2022-08-03    94\n",
      "2022-08-04    95\n",
      "2022-08-05    94\n",
      "2022-08-06    93\n",
      "2022-08-07    93\n",
      "2022-08-08    95\n",
      "Freq: D, Name: Raleigh, dtype: int64\n",
      "\n",
      "CHARLOTTE\n",
      "2022-08-01    85\n",
      "2022-08-02    92\n",
      "2022-08-03    94\n",
      "2022-08-04    93\n",
      "2022-08-05    91\n",
      "2022-08-06    91\n",
      "2022-08-07    92\n",
      "2022-08-08    93\n",
      "Freq: D, Name: Charlotte, dtype: int64\n",
      "\n",
      "DATAFRAME DF_CLT_RAL\n",
      "             Charlotte  Raleigh\n",
      "2022-08-01         85       92\n",
      "2022-08-02         92       94\n",
      "2022-08-03         94       94\n",
      "2022-08-04         93       95\n",
      "2022-08-05         91       94\n",
      "2022-08-06         91       93\n",
      "2022-08-07         92       93\n",
      "2022-08-08         93       95\n"
     ]
    }
   ],
   "source": [
    "# DO NOT MODIFY !!!\n",
    "print(\"\\nDATAFRAME DF_RAL_CLT\\n\", DF_RAL_CLT)\n",
    "print(\"\\nRALEIGH\\n\", RAL, sep='')\n",
    "print(\"\\nCHARLOTTE\\n\", CLT, sep='')\n",
    "print(\"\\nDATAFRAME DF_CLT_RAL\\n\", DF_CLT_RAL)"
   ]
  },
  {
   "cell_type": "markdown",
   "metadata": {},
   "source": [
    "__ARITHMETIC OPERATIONS__\n",
    "\n",
    "Arithmetic operations between columns within a __DataFrame__ are identical to operations on multiple __Series__.\n",
    "Each column in a __DataFrame__ is a __Series__ so the use of mathematical operators is applicable. Ex: [+ - * /  // % **]\n",
    "\n",
    "__NOTE:__ You can also add new columns to a __DataFrame__ using the syntax:\n",
    "\n",
    "    <DataFrame>['columnheading'] = <DataFrame-to-Add>\n",
    " \n",
    "Let's do a little DataFrame arithmetic ... "
   ]
  },
  {
   "cell_type": "markdown",
   "metadata": {},
   "source": [
    "<span style=\"color:blue\">\n",
    "    <h3>Use some math functions and add some new columns</h3>\n",
    "5. Calculate the <strong>temperature difference</strong> between the two cities and save the results in <strong>DIFF_RAL_CLT</strong>\n",
    "    <ul>\n",
    "        <li>Use DataFrame <b>DF_RAL_CLT</b> and subtract Charlotte from Raleigh</li>\n",
    "    </ul>\n",
    "6. Calculate the <strong>Raleigh</strong> temperatures in <strong>Celcius ((F -32) * 5) / 9)</strong> and save the results in <strong>RAL_TEMPC</strong> <br>\n",
    "7. Calculate the <strong>Charlotte</strong> temperatures in <strong>Celcius ((F -32) * 5) / 9)</strong> and save the results in <strong>CLT_TEMPC</strong> <br>    \n",
    "8. Add a new column to <strong>DF_RAL_CLT</strong> with the <strong>DIFF_RAL_CLT</strong> values and the column heading <strong>'Diff'</strong>. <br>\n",
    "9. Add a new column to <strong>DF_RAL_CLT</strong> with the <strong>RAL_TEMPC</strong> values and the column heading <strong>'Ral-Celcius'</strong>. <br>\n",
    "10. Add a new column to <strong>DF_RAL_CLT</strong> with the <strong>CLT_TEMPC</strong> values and the column heading <strong>'Clt-Celcius'</strong>. \n",
    "</span>"
   ]
  },
  {
   "cell_type": "code",
   "execution_count": 42,
   "metadata": {},
   "outputs": [],
   "source": [
    "# INSERT CODE FOR STEPS 5 - 10\n",
    "DIFF_RAL_CLT = DF_RAL_CLT.Raleigh - DF_RAL_CLT.Charlotte\n",
    "RAL_TEMPC = ((DF_RAL_CLT.Raleigh - 32) * 5) / 9\n",
    "CLT_TEMPC = ((DF_RAL_CLT.Charlotte - 32) * 5) / 9\n",
    "DF_RAL_CLT['Diff'] = DIFF_RAL_CLT\n",
    "DF_RAL_CLT['Ral-Celcius'] = RAL_TEMPC\n",
    "DF_RAL_CLT['Clt-Celcius'] = CLT_TEMPC"
   ]
  },
  {
   "cell_type": "code",
   "execution_count": 43,
   "metadata": {},
   "outputs": [
    {
     "name": "stdout",
     "output_type": "stream",
     "text": [
      "DIFF_RAL_CLT DataFrame\n",
      "2022-08-01    7\n",
      "2022-08-02    2\n",
      "2022-08-03    0\n",
      "2022-08-04    2\n",
      "2022-08-05    3\n",
      "2022-08-06    2\n",
      "2022-08-07    1\n",
      "2022-08-08    2\n",
      "Freq: D, dtype: int64\n",
      "\n",
      "RAL_TEMPC DataFrame\n",
      "2022-08-01    33.333333\n",
      "2022-08-02    34.444444\n",
      "2022-08-03    34.444444\n",
      "2022-08-04    35.000000\n",
      "2022-08-05    34.444444\n",
      "2022-08-06    33.888889\n",
      "2022-08-07    33.888889\n",
      "2022-08-08    35.000000\n",
      "Freq: D, Name: Raleigh, dtype: float64\n",
      "\n",
      "CLT_TEMPC DataFrame\n",
      "2022-08-01    29.444444\n",
      "2022-08-02    33.333333\n",
      "2022-08-03    34.444444\n",
      "2022-08-04    33.888889\n",
      "2022-08-05    32.777778\n",
      "2022-08-06    32.777778\n",
      "2022-08-07    33.333333\n",
      "2022-08-08    33.888889\n",
      "Freq: D, Name: Charlotte, dtype: float64\n",
      "\n",
      "Updated DF_RAL_CLT DataFrame\n",
      "             Raleigh  Charlotte  Diff  Ral-Celcius  Clt-Celcius\n",
      "2022-08-01       92         85     7    33.333333    29.444444\n",
      "2022-08-02       94         92     2    34.444444    33.333333\n",
      "2022-08-03       94         94     0    34.444444    34.444444\n",
      "2022-08-04       95         93     2    35.000000    33.888889\n",
      "2022-08-05       94         91     3    34.444444    32.777778\n",
      "2022-08-06       93         91     2    33.888889    32.777778\n",
      "2022-08-07       93         92     1    33.888889    33.333333\n",
      "2022-08-08       95         93     2    35.000000    33.888889\n"
     ]
    }
   ],
   "source": [
    "# DO NOT MODIFY !!!\n",
    "\n",
    "# Print the temperature difference between the two cities\n",
    "print(\"DIFF_RAL_CLT DataFrame\\n\", DIFF_RAL_CLT, sep='')\n",
    "\n",
    "# Print the Raleigh temperatures in Celcius \n",
    "print(\"\\nRAL_TEMPC DataFrame\\n\", RAL_TEMPC, sep='')\n",
    "\n",
    "# Print the Charlotte temperatures in Celcium\n",
    "print(\"\\nCLT_TEMPC DataFrame\\n\", CLT_TEMPC, sep='')\n",
    "\n",
    "# Print DF1 with 3 new columns\n",
    "print(\"\\nUpdated DF_RAL_CLT DataFrame\\n\", DF_RAL_CLT)"
   ]
  },
  {
   "cell_type": "markdown",
   "metadata": {},
   "source": [
    "__DATAFRAME INDEXING__\n",
    "\n",
    "The __DataFrame__ objects can be __sliced__ to retrieve specific rows using __implicit indexing__. <br>\n",
    "Entire rows from a __DataFrame__ can be retrieved using:\n",
    "\n",
    "        - <DataFrame>.loc    ~ explicit indexing\n",
    "            - Access a group of rows and columns by label(s) or a boolean array.\n",
    "        - <DataFrame>.iloc   ~ implicit indexing\n",
    "            -Purely integer-location based indexing for selection by position.\n",
    "        \n",
    "Specific rows in a __DataFrame__ object can also be selected using:\n",
    "\n",
    "        - A __list__ of integer positions (Ex. [1,5,7]) \n",
    "        - A __logical expression__ applied to the data in each row (Ex. < > <= >= == ) \n",
    "\n",
    "    REF: https://pandas.pydata.org/pandas-docs/stable/reference/frame.html#indexing-iteration\n",
    "\n",
    "\n",
    "Let's use these index methods to retrieve various rows ..."
   ]
  },
  {
   "cell_type": "markdown",
   "metadata": {},
   "source": [
    "<span style=\"color:blue\">\n",
    "    <h3>Use index methods to retrive rows of a DataFrame</h3>\n",
    "    11.Set variable <strong>ROWS_2THRU4</strong> to <strong>DF_RAL_CLT</strong> column <strong>'Diff'</strong> rows with <strong>implicit index locations 2 through 4</strong><br>\n",
    "    12.Set variable <strong>ROWS_AUG6_AUG8</strong> to <strong>DF_RAL_CLT</strong> rows with dates <strong>‘2022-08-06’, ‘2022-08-07’ and ‘2022-08-08’</strong> using slicing on the <strong>explicit row index</strong><br>\n",
    "    13.Set variable <strong>ROW_AUG3</strong> to <strong>DF_RAL_CLT</strong> row with date <strong>'2022-08-03'</strong> using <strong>.loc</strong><br>\n",
    "    14.Set variable <strong>ROWS_257</strong> to <strong>DF_RAL_CLT</strong> column <strong>'Charlotte'</strong> rows with <strong>implicit indices 2, 5, and 7</strong> (0-based location). <br>\n",
    "    15.Set variable <strong>ROWS_OVER65</strong> to <strong>DF_RAL_CLT</strong> days where the temperature in <strong>'Raleigh'</strong> is <strong>above 93. <br>\n",
    "</span>"
   ]
  },
  {
   "cell_type": "code",
   "execution_count": 76,
   "metadata": {},
   "outputs": [],
   "source": [
    "# INSERT CODE FOR STEPS 11 - 15\n",
    "ROWS_2THRU4 = DF_RAL_CLT.Diff.iloc[:4]\n",
    "ROWS_AUG6_AUG8 = DF_RAL_CLT.loc[['2022-08-06','2022-08-07','2022-08-08']]\n",
    "ROW_AUG3 = DF_RAL_CLT.loc[['2022-08-03']]\n",
    "ROWS_257 = DF_RAL_CLT.Charlotte.iloc[[2, 5, 7]]\n",
    "ROWS_OVER65 = DF_RAL_CLT.loc[DF_RAL_CLT['Raleigh'] > 93]"
   ]
  },
  {
   "cell_type": "code",
   "execution_count": 77,
   "metadata": {},
   "outputs": [
    {
     "name": "stdout",
     "output_type": "stream",
     "text": [
      "Diff Column Rows 2-4:\n",
      "2022-08-01    7\n",
      "2022-08-02    2\n",
      "2022-08-03    0\n",
      "2022-08-04    2\n",
      "Freq: D, Name: Diff, dtype: int64\n",
      "\n",
      "Rows AUG6-AUG8:\n",
      "            Raleigh  Charlotte  Diff  Ral-Celcius  Clt-Celcius\n",
      "2022-08-06       93         91     2    33.888889    32.777778\n",
      "2022-08-07       93         92     1    33.888889    33.333333\n",
      "2022-08-08       95         93     2    35.000000    33.888889\n",
      "\n",
      "Row for Aug3:\n",
      "            Raleigh  Charlotte  Diff  Ral-Celcius  Clt-Celcius\n",
      "2022-08-03       94         94     0    34.444444    34.444444\n",
      "\n",
      "Rows 2,5,7 - Charlotte:\n",
      "2022-08-03    94\n",
      "2022-08-06    91\n",
      "2022-08-08    93\n",
      "Name: Charlotte, dtype: int64\n",
      "\n",
      "Raleigh temp>93:\n",
      "            Raleigh  Charlotte  Diff  Ral-Celcius  Clt-Celcius\n",
      "2022-08-02       94         92     2    34.444444    33.333333\n",
      "2022-08-03       94         94     0    34.444444    34.444444\n",
      "2022-08-04       95         93     2    35.000000    33.888889\n",
      "2022-08-05       94         91     3    34.444444    32.777778\n",
      "2022-08-08       95         93     2    35.000000    33.888889\n"
     ]
    }
   ],
   "source": [
    "# DO NOT MODIFY !!!\n",
    "print(\"Diff Column Rows 2-4:\\n\", ROWS_2THRU4, sep='')\n",
    "print(\"\\nRows AUG6-AUG8:\\n\", ROWS_AUG6_AUG8, sep='')\n",
    "print(\"\\nRow for Aug3:\\n\", ROW_AUG3, sep='')\n",
    "#print(\"\\nRow for Aug3 QUESTION:\\n\", ROW_AUG3, sep='')\n",
    "print(\"\\nRows 2,5,7 - Charlotte:\\n\", ROWS_257, sep='')\n",
    "print(\"\\nRaleigh temp>93:\\n\", ROWS_OVER65, sep='')"
   ]
  },
  {
   "cell_type": "markdown",
   "metadata": {},
   "source": [
    "## PART C: Reading & Writing CSV Dataset with Pandas: (20 pts - 2pts/step)"
   ]
  },
  {
   "cell_type": "markdown",
   "metadata": {},
   "source": [
    "<div class=\"alert alert-block alert-info\">\n",
    "    <b>IMPORTANT INFORMATION FOR PART C:</b> <br>In PART C, you will be reading data in from a CSV file to create a Pandas DataFrame.\n",
    "    <ul>\n",
    "        <li><b>Super Bowl Ratings History.csv</b> = Dataset with Super Bowl Ratings Information (edited)</li>\n",
    "    </ul>\n",
    "    <br>\n",
    "    <b>DATASET FORMAT:</b> \n",
    "    \n",
    "- COLUMN HEADINGS: 'SuperBowl', 'Date', 'Network', 'AVG_viewers', 'TOT_viewers', 'Rating', 'Share', '30secAD_Cost$'\n",
    "    \n",
    "<b>NOTE:</b> This data was downloaded from <b>kaggle.com</b>. The data in the CSV file has been edited to remove a few columns and the column heading row.\n",
    "</div>"
   ]
  },
  {
   "cell_type": "markdown",
   "metadata": {},
   "source": [
    "<div class=\"alert alert-block alert-warning\"><b>IMPORTANT: </b>\n",
    "Verify your <strong>current working directory</strong> using <strong>getcwd()</strong>. \n",
    "    \n",
    "The Super Bowl Ratings History CSV file <strong>MUST</strong> be located in the directory displayed as CWD.<br>\n",
    "</span></div>"
   ]
  },
  {
   "cell_type": "markdown",
   "metadata": {},
   "source": [
    "### Reading CSV files\n",
    "\n",
    "A common data format for storing and sharing data is a **CSV** file (i.e command separated value). **Pandas** has a **read_csv()** function to import such files.\n",
    "\n",
    "- REF: https://pandas.pydata.org/docs/reference/api/pandas.read_csv.html\n",
    "- REF: https://www.w3schools.com/python/pandas_csv.asp\n",
    "\n",
    "Before analyzing the data read into a DataFrame, you'll often want to take a quick look at the data. \n",
    "\n",
    "To print all the data in a DataFrame, you can use <b>to_string()</b>  <br>\n",
    "- REF: https://pandas.pydata.org/docs/reference/api/pandas.DataFrame.to_string.html<br>\n",
    "    EXAMPLE: <br>\n",
    "        print(df.to_string())\n",
    "\n",
    "\n",
    "To print just a subset of the DataFrame, you can use <b>head()</b> and/or <b>tail()</b>. If no value is specified, a <b>default = 5</b> is used.<br>\n",
    "\n",
    "- REF: https://pandas.pydata.org/pandas-docs/stable/reference/api/pandas.DataFrame.head.html <br>\n",
    "- REF: https://pandas.pydata.org/pandas-docs/stable/reference/api/pandas.DataFrame.tail.html <br>\n",
    "\n",
    "    EXAMPLES: <br>\n",
    "       df.head() ~ display first 5 rows\n",
    "       df.head(10) ~ display first 10 rows\n",
    "       df.tail() ~ display last 5 rows\n",
    "       df.head(10) ~ display last 10 rows\n"
   ]
  },
  {
   "cell_type": "markdown",
   "metadata": {},
   "source": [
    "<span style=\"color:blue\">\n",
    "    <h3>Reading data from a CSV file</h3>\n",
    "1. Define variable <strong>cols</strong> as a <strong>list</strong> of column headings for the Super Bowl Ratings History dataset. <br>&nbsp; &nbsp; &nbsp; &nbsp; The column headings were provided above (blue box)<strong>(You should have EIGHT column headings in your list</strong> <br> \n",
    "2. Use <strong>pd.read_csv</strong> to read the data file<strong>('Super Bowl Ratings History.csv')</strong> into <strong>DF_SUPERBOWL</strong> using the column headings defined by <strong>cols</strong><br>&nbsp; &nbsp; &nbsp; &nbsp; Remember: To set the column headings, you will need to use the <strong>names = </strong> parameter <br> \n",
    "3. Use the <strong>.head()</strong> command to display the first <strong>10</strong> records of the DataFrame <strong>DF_SUPERBOWL</strong>. <br>\n",
    "    <ul><li><b>NOTE:</b>You do not need to use a print(..) statement with the .head() command. As long as it is the last command in a code cell the values will be displayed and the output looks nicer without using print().</li></ul>\n",
    "</span>\n",
    "</span>"
   ]
  },
  {
   "cell_type": "code",
   "execution_count": 78,
   "metadata": {},
   "outputs": [
    {
     "name": "stdout",
     "output_type": "stream",
     "text": [
      "Current directory = C:\\Users\\Cosmic\\Documents\\School\\CSC 221\\Labs\\Lab5\n",
      "['.ipynb_checkpoints', 'Lab5-Pandas-Introduction.ipynb', 'Super Bowl Ratings History.csv']\n"
     ]
    },
    {
     "data": {
      "text/html": [
       "<div>\n",
       "<style scoped>\n",
       "    .dataframe tbody tr th:only-of-type {\n",
       "        vertical-align: middle;\n",
       "    }\n",
       "\n",
       "    .dataframe tbody tr th {\n",
       "        vertical-align: top;\n",
       "    }\n",
       "\n",
       "    .dataframe thead th {\n",
       "        text-align: right;\n",
       "    }\n",
       "</style>\n",
       "<table border=\"1\" class=\"dataframe\">\n",
       "  <thead>\n",
       "    <tr style=\"text-align: right;\">\n",
       "      <th></th>\n",
       "      <th>SuperBowl</th>\n",
       "      <th>Date</th>\n",
       "      <th>Network</th>\n",
       "      <th>AVG_viewers</th>\n",
       "      <th>TOT_viewers</th>\n",
       "      <th>Rating</th>\n",
       "      <th>Share</th>\n",
       "      <th>30secAD_Cost$</th>\n",
       "    </tr>\n",
       "  </thead>\n",
       "  <tbody>\n",
       "    <tr>\n",
       "      <th>0</th>\n",
       "      <td>I</td>\n",
       "      <td>1/15/1967</td>\n",
       "      <td>NBC</td>\n",
       "      <td>24430000</td>\n",
       "      <td>35600000.0</td>\n",
       "      <td>18.5</td>\n",
       "      <td>36</td>\n",
       "      <td>37500</td>\n",
       "    </tr>\n",
       "    <tr>\n",
       "      <th>1</th>\n",
       "      <td>II</td>\n",
       "      <td>1/14/1968</td>\n",
       "      <td>CBS</td>\n",
       "      <td>39120000</td>\n",
       "      <td>51300000.0</td>\n",
       "      <td>36.8</td>\n",
       "      <td>68</td>\n",
       "      <td>54500</td>\n",
       "    </tr>\n",
       "    <tr>\n",
       "      <th>2</th>\n",
       "      <td>III</td>\n",
       "      <td>1/12/1969</td>\n",
       "      <td>NBC</td>\n",
       "      <td>41660000</td>\n",
       "      <td>54500000.0</td>\n",
       "      <td>36.0</td>\n",
       "      <td>70</td>\n",
       "      <td>55000</td>\n",
       "    </tr>\n",
       "    <tr>\n",
       "      <th>3</th>\n",
       "      <td>IV</td>\n",
       "      <td>1/11/1970</td>\n",
       "      <td>CBS</td>\n",
       "      <td>44270000</td>\n",
       "      <td>59200000.0</td>\n",
       "      <td>39.4</td>\n",
       "      <td>69</td>\n",
       "      <td>78200</td>\n",
       "    </tr>\n",
       "    <tr>\n",
       "      <th>4</th>\n",
       "      <td>V</td>\n",
       "      <td>1/17/1971</td>\n",
       "      <td>NBC</td>\n",
       "      <td>46040000</td>\n",
       "      <td>58500000.0</td>\n",
       "      <td>39.9</td>\n",
       "      <td>75</td>\n",
       "      <td>72500</td>\n",
       "    </tr>\n",
       "    <tr>\n",
       "      <th>5</th>\n",
       "      <td>VI</td>\n",
       "      <td>1/16/1972</td>\n",
       "      <td>CBS</td>\n",
       "      <td>56640000</td>\n",
       "      <td>67300000.0</td>\n",
       "      <td>44.2</td>\n",
       "      <td>74</td>\n",
       "      <td>86100</td>\n",
       "    </tr>\n",
       "    <tr>\n",
       "      <th>6</th>\n",
       "      <td>VII</td>\n",
       "      <td>1/14/1973</td>\n",
       "      <td>NBC</td>\n",
       "      <td>53320000</td>\n",
       "      <td>67700000.0</td>\n",
       "      <td>42.7</td>\n",
       "      <td>72</td>\n",
       "      <td>88100</td>\n",
       "    </tr>\n",
       "    <tr>\n",
       "      <th>7</th>\n",
       "      <td>VIII</td>\n",
       "      <td>1/13/1974</td>\n",
       "      <td>CBS</td>\n",
       "      <td>51700000</td>\n",
       "      <td>63200000.0</td>\n",
       "      <td>41.6</td>\n",
       "      <td>73</td>\n",
       "      <td>103500</td>\n",
       "    </tr>\n",
       "    <tr>\n",
       "      <th>8</th>\n",
       "      <td>IX</td>\n",
       "      <td>1/12/1975</td>\n",
       "      <td>NBC</td>\n",
       "      <td>56050000</td>\n",
       "      <td>71300000.0</td>\n",
       "      <td>42.4</td>\n",
       "      <td>72</td>\n",
       "      <td>107000</td>\n",
       "    </tr>\n",
       "    <tr>\n",
       "      <th>9</th>\n",
       "      <td>X</td>\n",
       "      <td>1/18/1976</td>\n",
       "      <td>CBS</td>\n",
       "      <td>57710000</td>\n",
       "      <td>73300000.0</td>\n",
       "      <td>42.3</td>\n",
       "      <td>78</td>\n",
       "      <td>110000</td>\n",
       "    </tr>\n",
       "  </tbody>\n",
       "</table>\n",
       "</div>"
      ],
      "text/plain": [
       "  SuperBowl       Date Network  AVG_viewers  TOT_viewers  Rating  Share  \\\n",
       "0         I  1/15/1967     NBC     24430000   35600000.0    18.5     36   \n",
       "1        II  1/14/1968     CBS     39120000   51300000.0    36.8     68   \n",
       "2       III  1/12/1969     NBC     41660000   54500000.0    36.0     70   \n",
       "3        IV  1/11/1970     CBS     44270000   59200000.0    39.4     69   \n",
       "4         V  1/17/1971     NBC     46040000   58500000.0    39.9     75   \n",
       "5        VI  1/16/1972     CBS     56640000   67300000.0    44.2     74   \n",
       "6       VII  1/14/1973     NBC     53320000   67700000.0    42.7     72   \n",
       "7      VIII  1/13/1974     CBS     51700000   63200000.0    41.6     73   \n",
       "8        IX  1/12/1975     NBC     56050000   71300000.0    42.4     72   \n",
       "9         X  1/18/1976     CBS     57710000   73300000.0    42.3     78   \n",
       "\n",
       "   30secAD_Cost$  \n",
       "0          37500  \n",
       "1          54500  \n",
       "2          55000  \n",
       "3          78200  \n",
       "4          72500  \n",
       "5          86100  \n",
       "6          88100  \n",
       "7         103500  \n",
       "8         107000  \n",
       "9         110000  "
      ]
     },
     "execution_count": 78,
     "metadata": {},
     "output_type": "execute_result"
    }
   ],
   "source": [
    "print(\"Current directory =\", os.getcwd())\n",
    "print(os.listdir(\".\"))\n",
    "\n",
    "# INSERT CODE FOR STEPS 1 - 3\n",
    "cols = ['SuperBowl', 'Date', 'Network', 'AVG_viewers', 'TOT_viewers', 'Rating', 'Share', '30secAD_Cost$']\n",
    "DF_SUPERBOWL = pd.read_csv('Super Bowl Ratings History.csv', names=cols)\n",
    "DF_SUPERBOWL.head(10)"
   ]
  },
  {
   "cell_type": "markdown",
   "metadata": {},
   "source": [
    "<span style=\"color:blue\">\n",
    "<h3>Display some information about this DataFrame</h3>\n",
    "4. Set variable <strong>SUPERBOWL_COLS</strong> to display the columns in <strong>DF_SUPERBOWL</strong><br>\n",
    "    - <b>REMEMBER there should be 8</b><br>\n",
    "5. Set variable <strong>SUPERBOWL_SHAPE</strong> to the shape of <strong>DF_SUPERBOWL</strong><br>\n",
    "6. Set variable <strong>SUPERBOWL_NDIM</strong> to the number of dimensions of <strong>DF_SUPERBOWL</strong><br>\n",
    "7. Set variable <strong>SUPERBOWL_DTYPES</strong> to the data types Pandas assigned to the <strong>DF_SUPERBOWL</strong> column data.\n",
    "</span>"
   ]
  },
  {
   "cell_type": "code",
   "execution_count": 85,
   "metadata": {},
   "outputs": [],
   "source": [
    "# INSERT CODE FOR STEPS 4 - 7\n",
    "SUPERBOWL_COLS = DF_SUPERBOWL.columns\n",
    "SUPERBOWL_SHAPE = DF_SUPERBOWL.shape\n",
    "SUPERBOWL_NDIM = DF_SUPERBOWL.ndim\n",
    "SUPERBOWL_DTYPES = DF_SUPERBOWL.dtypes"
   ]
  },
  {
   "cell_type": "code",
   "execution_count": 86,
   "metadata": {},
   "outputs": [
    {
     "name": "stdout",
     "output_type": "stream",
     "text": [
      "SUPERBOWL_COLS:  Index(['SuperBowl', 'Date', 'Network', 'AVG_viewers', 'TOT_viewers', 'Rating',\n",
      "       'Share', '30secAD_Cost$'],\n",
      "      dtype='object')\n",
      "\n",
      "SUPERBOWL_SHAPE:  (55, 8)\n",
      "\n",
      "SUPERBOWL_NDIM:  2\n",
      "\n",
      "SUPERBOWL_DTYPES: SuperBowl         object\n",
      "Date              object\n",
      "Network           object\n",
      "AVG_viewers        int64\n",
      "TOT_viewers      float64\n",
      "Rating           float64\n",
      "Share              int64\n",
      "30secAD_Cost$      int64\n",
      "dtype: object\n"
     ]
    }
   ],
   "source": [
    "# DO NOT MODIFY !!!\n",
    "print(f\"SUPERBOWL_COLS:  {SUPERBOWL_COLS}\\n\")\n",
    "print(f\"SUPERBOWL_SHAPE:  {SUPERBOWL_SHAPE}\\n\")\n",
    "print(f\"SUPERBOWL_NDIM:  {SUPERBOWL_NDIM}\\n\")\n",
    "print(f\"SUPERBOWL_DTYPES: {SUPERBOWL_DTYPES}\")"
   ]
  },
  {
   "cell_type": "markdown",
   "metadata": {},
   "source": [
    "### Writing CSV files\n",
    "\n",
    "Again, a common data format for storing and sharing data is a **CSV** file (i.e command separated value). **Pandas** has a **to_csv()** function to write DataFrames to CSV.\n",
    "\n",
    "- REF: https://pandas.pydata.org/docs/reference/api/pandas.DataFrame.to_csv.html\n",
    "- REF: https://www.w3schools.com/python/pandas_csv.asp\n",
    "\n",
    "    EXAMPLE: <br>\n",
    "        df.to_csv(file_name)\n",
    "        df.to_csv(file_name, sep='\\t', encoding='utf-8') ~ to specify a separator ('\\t') and encoding\n",
    "        \n",
    "If you want to copy one DataFrame to another, you can use the **.copy()** command. Using this command, you can copy the entire DataFrame **OR** just some of the columns by referencing their column headings.\n",
    "\n",
    "- REF: https://pandas.pydata.org/docs/reference/api/pandas.DataFrame.copy.html\n",
    "\n",
    "\n",
    "    EXAMPLE: <br>\n",
    "        newdf = olddf.copy()\n",
    "        newdf = olddf[['col1','col2']].copy()   ~ copies only 'col1' & 'col2' to newdf"
   ]
  },
  {
   "cell_type": "markdown",
   "metadata": {},
   "source": [
    "<span style=\"color:blue\">\n",
    "<h3>Write  this DataFrame</h3>\n",
    "8. Create a new DataFrame named <strong>DF_SUPERBOWL_VIEWERS</strong> containing <strong>ONLY 4 COLUMNS</strong> from <strong>DF_SUPERBOWL</strong><br>\n",
    "    - Only copy the following columns to the new DataFrame: 'SuperBowl', 'Date', 'AVG_viewers', 'TOT_viewers'<br>\n",
    "9. Set variable <strong>SUPERBOWL_VIEWERS_SHAPE</strong> to the shape of <strong>DF_SUPERBOWL_VIEWERS</strong><br>\n",
    "10. Write DataFrame <strong>DF_SUPERBOWL_VIEWERS</strong> to a CSV file named: <strong>'Super Bowl Viewers.csv'</strong><br>\n",
    "    - Separator should be a comma (,) and encoding 'utf-8'\n",
    "</span>"
   ]
  },
  {
   "cell_type": "code",
   "execution_count": 87,
   "metadata": {},
   "outputs": [],
   "source": [
    "# INSERT CODE FOR STEPS 8-10\n",
    "DF_SUPERBOWL_VIEWERS = DF_SUPERBOWL[['SuperBowl', 'Date', 'AVG_viewers', 'TOT_viewers']].copy()\n",
    "SUPERBOWL_VIEWERS_SHAPE = DF_SUPERBOWL_VIEWERS.shape\n",
    "DF_SUPERBOWL_VIEWERS.to_csv('Super Bowl Viewers.csv', encoding='utf-8')"
   ]
  },
  {
   "cell_type": "code",
   "execution_count": 88,
   "metadata": {},
   "outputs": [
    {
     "name": "stdout",
     "output_type": "stream",
     "text": [
      "SUPERBOWL_VIEWERS_SHAPE:  (55, 4)\n",
      "\n"
     ]
    },
    {
     "data": {
      "text/html": [
       "<div>\n",
       "<style scoped>\n",
       "    .dataframe tbody tr th:only-of-type {\n",
       "        vertical-align: middle;\n",
       "    }\n",
       "\n",
       "    .dataframe tbody tr th {\n",
       "        vertical-align: top;\n",
       "    }\n",
       "\n",
       "    .dataframe thead th {\n",
       "        text-align: right;\n",
       "    }\n",
       "</style>\n",
       "<table border=\"1\" class=\"dataframe\">\n",
       "  <thead>\n",
       "    <tr style=\"text-align: right;\">\n",
       "      <th></th>\n",
       "      <th>SuperBowl</th>\n",
       "      <th>Date</th>\n",
       "      <th>AVG_viewers</th>\n",
       "      <th>TOT_viewers</th>\n",
       "    </tr>\n",
       "  </thead>\n",
       "  <tbody>\n",
       "    <tr>\n",
       "      <th>0</th>\n",
       "      <td>I</td>\n",
       "      <td>1/15/1967</td>\n",
       "      <td>24430000</td>\n",
       "      <td>35600000.0</td>\n",
       "    </tr>\n",
       "    <tr>\n",
       "      <th>1</th>\n",
       "      <td>II</td>\n",
       "      <td>1/14/1968</td>\n",
       "      <td>39120000</td>\n",
       "      <td>51300000.0</td>\n",
       "    </tr>\n",
       "    <tr>\n",
       "      <th>2</th>\n",
       "      <td>III</td>\n",
       "      <td>1/12/1969</td>\n",
       "      <td>41660000</td>\n",
       "      <td>54500000.0</td>\n",
       "    </tr>\n",
       "    <tr>\n",
       "      <th>3</th>\n",
       "      <td>IV</td>\n",
       "      <td>1/11/1970</td>\n",
       "      <td>44270000</td>\n",
       "      <td>59200000.0</td>\n",
       "    </tr>\n",
       "    <tr>\n",
       "      <th>4</th>\n",
       "      <td>V</td>\n",
       "      <td>1/17/1971</td>\n",
       "      <td>46040000</td>\n",
       "      <td>58500000.0</td>\n",
       "    </tr>\n",
       "    <tr>\n",
       "      <th>5</th>\n",
       "      <td>VI</td>\n",
       "      <td>1/16/1972</td>\n",
       "      <td>56640000</td>\n",
       "      <td>67300000.0</td>\n",
       "    </tr>\n",
       "    <tr>\n",
       "      <th>6</th>\n",
       "      <td>VII</td>\n",
       "      <td>1/14/1973</td>\n",
       "      <td>53320000</td>\n",
       "      <td>67700000.0</td>\n",
       "    </tr>\n",
       "    <tr>\n",
       "      <th>7</th>\n",
       "      <td>VIII</td>\n",
       "      <td>1/13/1974</td>\n",
       "      <td>51700000</td>\n",
       "      <td>63200000.0</td>\n",
       "    </tr>\n",
       "    <tr>\n",
       "      <th>8</th>\n",
       "      <td>IX</td>\n",
       "      <td>1/12/1975</td>\n",
       "      <td>56050000</td>\n",
       "      <td>71300000.0</td>\n",
       "    </tr>\n",
       "    <tr>\n",
       "      <th>9</th>\n",
       "      <td>X</td>\n",
       "      <td>1/18/1976</td>\n",
       "      <td>57710000</td>\n",
       "      <td>73300000.0</td>\n",
       "    </tr>\n",
       "  </tbody>\n",
       "</table>\n",
       "</div>"
      ],
      "text/plain": [
       "  SuperBowl       Date  AVG_viewers  TOT_viewers\n",
       "0         I  1/15/1967     24430000   35600000.0\n",
       "1        II  1/14/1968     39120000   51300000.0\n",
       "2       III  1/12/1969     41660000   54500000.0\n",
       "3        IV  1/11/1970     44270000   59200000.0\n",
       "4         V  1/17/1971     46040000   58500000.0\n",
       "5        VI  1/16/1972     56640000   67300000.0\n",
       "6       VII  1/14/1973     53320000   67700000.0\n",
       "7      VIII  1/13/1974     51700000   63200000.0\n",
       "8        IX  1/12/1975     56050000   71300000.0\n",
       "9         X  1/18/1976     57710000   73300000.0"
      ]
     },
     "execution_count": 88,
     "metadata": {},
     "output_type": "execute_result"
    }
   ],
   "source": [
    "# DO NOT MODIFY !!!\n",
    "print(f\"SUPERBOWL_VIEWERS_SHAPE:  {SUPERBOWL_VIEWERS_SHAPE}\\n\")\n",
    "DF_SUPERBOWL_VIEWERS.head(10)"
   ]
  },
  {
   "cell_type": "code",
   "execution_count": null,
   "metadata": {},
   "outputs": [],
   "source": []
  }
 ],
 "metadata": {
  "kernelspec": {
   "display_name": "Python 3 (ipykernel)",
   "language": "python",
   "name": "python3"
  },
  "language_info": {
   "codemirror_mode": {
    "name": "ipython",
    "version": 3
   },
   "file_extension": ".py",
   "mimetype": "text/x-python",
   "name": "python",
   "nbconvert_exporter": "python",
   "pygments_lexer": "ipython3",
   "version": "3.12.0"
  }
 },
 "nbformat": 4,
 "nbformat_minor": 4
}
