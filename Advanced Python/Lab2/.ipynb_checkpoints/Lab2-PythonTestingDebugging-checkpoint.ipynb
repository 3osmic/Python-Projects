{
 "cells": [
  {
   "cell_type": "markdown",
   "metadata": {},
   "source": [
    "# Lab2: Python Testing and Debugging"
   ]
  },
  {
   "cell_type": "markdown",
   "metadata": {},
   "source": [
    "## Author: <font color = \"red\">Aliyah Lewis</font>"
   ]
  },
  {
   "cell_type": "markdown",
   "metadata": {},
   "source": [
    "### This Lab will have you try a few Python testing and debugging strategies using Jupyter Notebook. \n",
    "\n",
    "<div class=\"alert alert-warning\">\n",
    "    <strong>Read through the information and ...</strong><br>\n",
    "    - Provide code for each step in the <font color=\"blue\">Question x</font> sections below.</strong><br>\n",
    "    - Insert your code following the <font color=\"red\">Question x - ANSWERS</font> heading in the cell containing '# INSERT YOUR CODE HERE'<br>\n",
    "    - <strong>DO NOT MAKE CHANGES</strong> to the cells containing '# DO NOT MODIFY!' comments - just run the cell to print the resulting values<br>These cells are used to generate the output used to verify your code.\n",
    "  \n",
    "</div>"
   ]
  },
  {
   "cell_type": "markdown",
   "metadata": {},
   "source": [
    "### Python Testing using Assert statements\n",
    "\n",
    "Asserts test a condition, and raise an AssertionError if the condition is False\n",
    "\n",
    "**Syntax:**\n",
    "- **assert &lt;_condition_&gt;, &lt;_error message_&gt;**\n",
    "\n",
    "**EXAMPLES:**\n",
    "- assert y != 0, \"divide by zero error\"\n",
    "- assert len(student_list) < 32, \"too many students in the class\"\n",
    "- assert type(ck_amt) != str, \"check amount must be int or float\"\n",
    "\n",
    "**w3schools.com**\n",
    "- Asserts: https://www.w3schools.com/python/ref_keyword_assert.asp"
   ]
  },
  {
   "cell_type": "markdown",
   "metadata": {},
   "source": [
    "### <font color='blue'>Question 1 (10 points)</font>\n",
    "1. Create a function named **yards_to_meters(yds)** <br>\n",
    "    1.1 Include an **assert** to check 'yds' is an **int** with error message text = 'yds value is not an integer' <br>\n",
    "    1.2 Convert 'yds' to 'meters' <br>\n",
    "    1.3 Return the value of 'meters'"
   ]
  },
  {
   "cell_type": "markdown",
   "metadata": {},
   "source": [
    "### <font color=\"red\">Question 1 - ANSWERS</font>"
   ]
  },
  {
   "cell_type": "code",
   "execution_count": 31,
   "metadata": {},
   "outputs": [],
   "source": [
    "# INSERT YOUR CODE HERE FOR FUNCTION yards_to_meters(yds)\n",
    "def yards_to_meters(yds):\n",
    "    assert isinstance(yds, int), 'yds value is not an integer'\n",
    "    meters = yds * 0.9144\n",
    "    return meters"
   ]
  },
  {
   "cell_type": "code",
   "execution_count": 32,
   "metadata": {},
   "outputs": [
    {
     "name": "stdout",
     "output_type": "stream",
     "text": [
      "QUESTION 1 - ANSWERS\n",
      "TEST1:  yards_to_meters(100) passed\n",
      "TEST1:  METERS =  91.44\n",
      "\n",
      "TEST2:  yards_to_meters(100) failed\n",
      "TEST2:  yds value is not an integer\n",
      "\n",
      "TEST3:  yards_to_meters(100) failed\n",
      "TEST3:  yds value is not an integer\n",
      "\n",
      "TEST4:  yards_to_meters(100) passed\n",
      "TEST4:  METERS =  36.576\n",
      "\n"
     ]
    }
   ],
   "source": [
    "# DO NOT MODIFY!\n",
    "print(\"QUESTION 1 - ANSWERS\")\n",
    "\n",
    "# TEST CASE 1\n",
    "try: \n",
    "    meters = yards_to_meters(100)\n",
    "except AssertionError as msg:\n",
    "    print(\"TEST1: \", \"yards_to_meters(100) failed\")\n",
    "    print(\"TEST1: \", msg)\n",
    "else:\n",
    "    print(\"TEST1: \", \"yards_to_meters(100) passed\")\n",
    "    print(\"TEST1:  METERS = \", meters) \n",
    "    \n",
    "print()\n",
    "\n",
    "# TEST CASE 2    \n",
    "try: \n",
    "    meters = yards_to_meters(60.5)\n",
    "except AssertionError as msg:\n",
    "    print(\"TEST2: \", \"yards_to_meters(100) failed\")\n",
    "    print(\"TEST2: \", msg)\n",
    "else:\n",
    "    print(\"TEST2: \", \"yards_to_meters(100) passed\")\n",
    "    print(\"TEST2:  METERS = \", meters) \n",
    "    \n",
    "print()\n",
    "\n",
    "# TEST CASE 3\n",
    "try: \n",
    "    meters = yards_to_meters('100')\n",
    "except AssertionError as msg:\n",
    "    print(\"TEST3: \", \"yards_to_meters(100) failed\")\n",
    "    print(\"TEST3: \", msg)\n",
    "else:\n",
    "    print(\"TEST3: \", \"yards_to_meters(100) passed\")\n",
    "    print(\"TEST3:  METERS = \", meters) \n",
    "    \n",
    "print()\n",
    "    \n",
    "# TEST CASE 4\n",
    "try: \n",
    "    meters = yards_to_meters(40)\n",
    "except AssertionError as msg:\n",
    "    print(\"TEST4: \", \"yards_to_meters(100) failed\")\n",
    "    print(\"TEST4: \", msg)\n",
    "else:\n",
    "    print(\"TEST4: \", \"yards_to_meters(100) passed\")\n",
    "    print(\"TEST4:  METERS = \", meters) \n",
    "    \n",
    "print()"
   ]
  },
  {
   "cell_type": "markdown",
   "metadata": {},
   "source": [
    "### <font color='blue'>Question 2 (10 points)</font>\n",
    "1. Use the function named **avg_grades(grades)** provided below to start, then ... <br>\n",
    "<font color='blue'>Insert the following two **assert** statements after the comment # INSERT YOUR TWO ASSERT STATEMENTS HERE </font><br><br>\n",
    "    1.1 Add **assert** to check if 'grade' is **greater than or equal to 0** with <br>\n",
    "    error message = 'Invalid grade: [ _grade_ ] is not greater than or equal to 0' <br><br>\n",
    "    1.2 Add **assert** to check if 'grade' is **less than 100** with <br>\n",
    "    error message = 'Invalid grade: [ _grade_ ] is greater than 100' <br>    \n",
    "   **NOTE:** Your messages can be created using concatenated strings, so please **display the BAD _grade_ value** in the assert message<br><br>\n",
    " \n",
    "<font color='blue'>Define the following 3 grade variable definitions after the comment # INSERT YOUR CODE HERE. Do NOT indent these lines, they are NOT part of the function.</font><br><br>\n",
    "2. Define variable grades1 = [88, 92, 80, 90, 95] <br>\n",
    "3. Define variable grades2 = [65, -15, 75, 62, 73] <br>\n",
    "4. Define variable grades3 = [95, 95, 90, 110, 92]"
   ]
  },
  {
   "cell_type": "markdown",
   "metadata": {},
   "source": [
    "### <font color=\"red\">Question 2 - ANSWERS</font>"
   ]
  },
  {
   "cell_type": "code",
   "execution_count": 33,
   "metadata": {},
   "outputs": [],
   "source": [
    "def avg_grades(grades):\n",
    "    total = 0\n",
    "    for grade in grades:\n",
    "        # INSERT YOUR TWO ASSERT STATEMENTS HERE\n",
    "        assert grade >= 0, f\"Invalid grade: {grade} is not greater than or equal to 0\"\n",
    "        assert grade < 100, f\"Invalid grade: {grade} is greater than 100\"\n",
    "\n",
    "        total += grade\n",
    "    return total / len(grades)\n",
    "\n",
    "# INSERT YOUR CODE HERE TO DEFINE grades1 & grades2 & grades3\n",
    "grades1 = [88, 92, 80, 90, 95]\n",
    "grades2 = [65, -15, 75, 62, 73]\n",
    "grades3 = [95, 95, 90, 110, 92]"
   ]
  },
  {
   "cell_type": "code",
   "execution_count": 34,
   "metadata": {},
   "outputs": [
    {
     "name": "stdout",
     "output_type": "stream",
     "text": [
      "QUESTION 2 - ANSWERS\n",
      "TEST1:  avg_grades(grades1) passed\n",
      "TEST1:  89.0\n",
      "\n",
      "TEST2:  avg_grades(grades2) failed\n",
      "TEST2:  Invalid grade: -15 is not greater than or equal to 0\n",
      "\n",
      "TEST3:  avg_grades(grades3) failed\n",
      "TEST3:  Invalid grade: 110 is greater than 100\n"
     ]
    }
   ],
   "source": [
    "# DO NOT MODIFY!\n",
    "print(\"QUESTION 2 - ANSWERS\")\n",
    "\n",
    "# TEST CASE 1\n",
    "try: \n",
    "    avg = avg_grades(grades1)\n",
    "except AssertionError as msg:\n",
    "    print (\"TEST1: \", \"avg_grades(grades1) failed\")\n",
    "    print (\"TEST1: \", msg)\n",
    "else:\n",
    "    print (\"TEST1: \", \"avg_grades(grades1) passed\")\n",
    "    print (\"TEST1: \", avg)\n",
    "    \n",
    "print()\n",
    "\n",
    "# TEST CASE 2    \n",
    "try: \n",
    "    avg = avg_grades(grades2)\n",
    "except AssertionError as msg:\n",
    "    print (\"TEST2: \", \"avg_grades(grades2) failed\")\n",
    "    print (\"TEST2: \", msg)\n",
    "else:\n",
    "    print (\"TEST2: \", \"avg_grades(grades2) passed\")\n",
    "    print (\"TEST2: \", avg)    \n",
    "      \n",
    "print()\n",
    "\n",
    "# TEST CASE 3    \n",
    "try: \n",
    "    avg = avg_grades(grades3)\n",
    "except AssertionError as msg:\n",
    "    print (\"TEST3: \", \"avg_grades(grades3) failed\")\n",
    "    print (\"TEST3: \", msg)\n",
    "else:\n",
    "    print (\"TEST3: \", \"avg_grades(grades3) passed\")\n",
    "    print (\"TEST3: \", avg)             "
   ]
  },
  {
   "cell_type": "markdown",
   "metadata": {},
   "source": [
    "### Python Testing using unittest\n",
    "\n",
    "**IMPORTANT:** To Run unittest in Jupyter Notebook you have to modify unittest.main()\n",
    "- See https://medium.com/@vladbezden/using-python-unittest-in-ipython-or-jupyter-732448724e31 \n",
    "\n",
    "EXAMPLE:<br>\n",
    "```\n",
    "if __name__ == '__main__':\n",
    "    unittest.main(argv=['first-arg-is-ignored'], exit=False)\n",
    "```    \n",
    "\n",
    "\n",
    "**python.org**\n",
    "- unittest: https://docs.python.org/2/library/unittest.html"
   ]
  },
  {
   "cell_type": "markdown",
   "metadata": {
    "tags": []
   },
   "source": [
    "### <font color='blue'>Question 3 (10 points)</font>\n",
    "1. Use the function named **lbs_to_stones** provided below (no changes required) <br>\n",
    "2. Use **unittest** to test this function (required 'import' statement provided)\n",
    "3. Define a class **Tests(unittest.TestCase)**\n",
    "4. Define a test method named **test_lbs_to_stones(self)** that contains to assertion tests:<br>\n",
    "    4.1 TEST1: Use **assertEqual** to test if **lbs_to_stones(196)** is equal to **14**<br>\n",
    "    4.2 TEST2: Use **assertEqual** to test if **lbs_to_stones(140)** is equal to **11**<br>\n",
    "5. RUN CELL containing: **if __name__ == '__main__' ...*** code to invoke the unit tests (code provided)"
   ]
  },
  {
   "cell_type": "markdown",
   "metadata": {},
   "source": [
    "### <font color=\"red\">Question 3 - ANSWERS</font>"
   ]
  },
  {
   "cell_type": "code",
   "execution_count": 7,
   "metadata": {},
   "outputs": [],
   "source": [
    "# DO NOT MODIFY! -- PROVIDED CODE\n",
    "\"\"\"\n",
    "Function that needs to be unit tested\n",
    "\"\"\"\n",
    "def lbs_to_stones(lbs):\n",
    "    return lbs/14"
   ]
  },
  {
   "cell_type": "code",
   "execution_count": 8,
   "metadata": {},
   "outputs": [],
   "source": [
    "import unittest\n",
    "\n",
    "# INSERT YOUR CODE HERE\n",
    "class Tests(unittest.TestCase):\n",
    "    def test_lbs_to_stones(self):\n",
    "        self.assertEqual(lbs_to_stones(196), 14)\n",
    "        self.assertEqual(lbs_to_stones(140), 11)"
   ]
  },
  {
   "cell_type": "code",
   "execution_count": 9,
   "metadata": {},
   "outputs": [
    {
     "name": "stderr",
     "output_type": "stream",
     "text": [
      "F\n",
      "======================================================================\n",
      "FAIL: test_lbs_to_stones (__main__.Tests.test_lbs_to_stones)\n",
      "----------------------------------------------------------------------\n",
      "Traceback (most recent call last):\n",
      "  File \"C:\\Users\\Cosmic\\AppData\\Local\\Temp\\ipykernel_36992\\1349635406.py\", line 7, in test_lbs_to_stones\n",
      "    self.assertEqual(lbs_to_stones(140), 11)\n",
      "AssertionError: 10.0 != 11\n",
      "\n",
      "----------------------------------------------------------------------\n",
      "Ran 1 test in 0.001s\n",
      "\n",
      "FAILED (failures=1)\n"
     ]
    },
    {
     "name": "stdout",
     "output_type": "stream",
     "text": [
      "QUESTION 3 - ANSWERS\n"
     ]
    }
   ],
   "source": [
    "# DO NOT MODIFY!\n",
    "print(\"QUESTION 3 - ANSWERS\")\n",
    "\n",
    "# PROVIDED CODE - to call your unittest code  \n",
    "if __name__ == '__main__':\n",
    "    unittest.main(argv=['first-arg-is-ignored'], exit=False)"
   ]
  },
  {
   "cell_type": "markdown",
   "metadata": {},
   "source": [
    "### Python Debugging with Print()\n",
    "Often, the quickest and most simple way to debug a problem in your code is an added print() statement.\n",
    "\n",
    "Using a print() statement allows you to target a specific line(s) of code and specific variable(s).\n",
    "\n",
    "#### Helpful Hint:\n",
    "***Label your print() statements** in some way to identify its purpose as **DEBUG** so that you do NOT leave them in your program when the problem has been resolved. Using a unique, easy to find string at the beginning of your **DEBUG** print() statement(s) will make them easy to find in any output generated. If you insert multiple in a large program, consider numbering them to more easily identify which statement your are seeing and to make locating the line of code quickly.\n",
    "\n",
    "EXAMPLES:<br>\n",
    "```\n",
    "for x in range(0,len(states)):\n",
    "    print(\"***DEBUG-1***: x=\", x)\n",
    "    print(\">>>DEBUG-2<<<  x=\", x)\n",
    "    ...\n",
    "```    "
   ]
  },
  {
   "cell_type": "markdown",
   "metadata": {},
   "source": [
    "### <font color=\"blue\">Question 4 (15 points)</font>\n",
    "Using print() statements, determine the location of the problem in this function\n",
    "\n",
    "1. Insert at least 1 print(\"DEBUG: <some variable & value>\") statement in the code provided for debugging purposes\n",
    "2. Use the information provided to debug and correct the code.\n",
    "\n",
    "#### LEAVE the print(\"DEBUG <some variable & value>\") statements in the code -- EVEN AFTER YOU CORRECT THE CODE \n",
    "<strong>You must include the text string \"DEBUG:\" in your debugging print statements</strong>\n",
    "\n",
    "<font color=\"blue\">Answers/output values should be:</font>\n",
    "- student1: 82.50\n",
    "- student2: 90.00\n",
    "- student3: 70.00\n",
    "- Class average: 80.83"
   ]
  },
  {
   "cell_type": "markdown",
   "metadata": {},
   "source": [
    "### <font color=\"red\">Question 4 - ANSWERS</font>"
   ]
  },
  {
   "cell_type": "code",
   "execution_count": null,
   "metadata": {},
   "outputs": [],
   "source": [
    "# DO NOT MODIFY THE NEXT LINE!\n",
    "print(\"QUESTION 4 - ANSWERS\")"
   ]
  },
  {
   "cell_type": "code",
   "execution_count": 31,
   "metadata": {},
   "outputs": [
    {
     "name": "stdout",
     "output_type": "stream",
     "text": [
      "***DEBUG-1***: grades= [80, 81, 82, 83, 84, 85]\n",
      ">>>DEBUG-2<<<  grade= 80\n",
      ">>>DEBUG-2<<<  grade= 81\n",
      ">>>DEBUG-2<<<  grade= 82\n",
      ">>>DEBUG-2<<<  grade= 83\n",
      ">>>DEBUG-2<<<  grade= 84\n",
      ">>>DEBUG-2<<<  grade= 85\n",
      "student1: 82.50\n",
      ">>>DEBUG-3<<<  student_count= 1\n",
      "---DEBUG-4---  student_avg= 82.5\n",
      "***DEBUG-1***: grades= [85, 85, 95, 95, 90, 90]\n",
      ">>>DEBUG-2<<<  grade= 85\n",
      ">>>DEBUG-2<<<  grade= 85\n",
      ">>>DEBUG-2<<<  grade= 95\n",
      ">>>DEBUG-2<<<  grade= 95\n",
      ">>>DEBUG-2<<<  grade= 90\n",
      ">>>DEBUG-2<<<  grade= 90\n",
      "student2: 90.00\n",
      ">>>DEBUG-3<<<  student_count= 2\n",
      "---DEBUG-4---  student_avg= 90.0\n",
      "***DEBUG-1***: grades= [75, 65, 75, 65, 75, 65]\n",
      ">>>DEBUG-2<<<  grade= 75\n",
      ">>>DEBUG-2<<<  grade= 65\n",
      ">>>DEBUG-2<<<  grade= 75\n",
      ">>>DEBUG-2<<<  grade= 65\n",
      ">>>DEBUG-2<<<  grade= 75\n",
      ">>>DEBUG-2<<<  grade= 65\n",
      "student3: 70.00\n",
      ">>>DEBUG-3<<<  student_count= 3\n",
      "---DEBUG-4---  student_avg= 70.0\n",
      "---DEBUG-5---  class_total= 242.5\n",
      "Class average: 80.83\n"
     ]
    }
   ],
   "source": [
    "##########################################################\n",
    "# CORRECT THE CODE PROBLEMS IN THE PROVIDED CODE\n",
    "# REMEMBER TO LEAVE YOUR DEBUG STATEMENT(S) IN THE CODE!\n",
    "##########################################################\n",
    "\n",
    "\"\"\"\n",
    "Purpose:\n",
    " 1. Calculate & print the average grade for each student\n",
    " 2. Calculate & print the average grade for the class (3 students)\n",
    "\"\"\"\n",
    "\n",
    "student_grades = {\n",
    "  \"student1\": [80, 81, 82, 83, 84, 85],\n",
    "  \"student2\": [85, 85, 95, 95, 90, 90],\n",
    "  \"student3\": [75, 65, 75, 65, 75, 65]\n",
    "}\n",
    "\n",
    "student_count = 0\n",
    "student_avg = 0\n",
    "\n",
    "class_total = 0\n",
    "class_avg = 0\n",
    "\n",
    "for student, grades in student_grades.items():\n",
    "    student_total = 0\n",
    "    print(\"***DEBUG-1***: grades=\", grades)\n",
    "    for grade in grades:\n",
    "        student_total += grade\n",
    "        print(\">>>DEBUG-2<<<  grade=\", grade)\n",
    "        \n",
    "        # Calculate student average\n",
    "        student_avg = student_total / len(grades)\n",
    "        \n",
    "    \n",
    "    # Display each student's name and average\n",
    "    print(f'{student}: {student_avg:.2f}')\n",
    "    \n",
    "    student_count += 1\n",
    "    print(\">>>DEBUG-3<<<  student_count=\", student_count)\n",
    "\n",
    "    # Add student avg to class total\n",
    "    class_total += student_avg\n",
    "    print(\"---DEBUG-4---  student_avg=\", student_avg)\n",
    "\n",
    "# Calculate class average\n",
    "class_avg = class_total / student_count\n",
    "print(\"---DEBUG-5---  class_total=\", class_total)\n",
    "    \n",
    "# Display class average\n",
    "print(f'Class average: {class_avg:.2f}')"
   ]
  },
  {
   "cell_type": "markdown",
   "metadata": {},
   "source": [
    "### <font color=\"blue\">Question 5 (10 points)</font>\n",
    "Describe the problem(s) you found and corrected in the program code provided above.\n",
    "\n",
    "1. Describe two(2) errors you found and corrected in the program code.\n",
    "\n",
    "<strong>NOTE Insert your answers in the print(\".... XXXXXX\") statements provided below</strong>"
   ]
  },
  {
   "cell_type": "markdown",
   "metadata": {
    "tags": []
   },
   "source": [
    "### <font color=\"red\">Question 5 - ANSWERS</font>"
   ]
  },
  {
   "cell_type": "code",
   "execution_count": 22,
   "metadata": {},
   "outputs": [
    {
     "name": "stdout",
     "output_type": "stream",
     "text": [
      "QUESTION 5 - ANSWERS\n",
      "1. PROBLEM1: The student_total variable was placed outside of the loop. It should be place within the for loop and set to 0 each time a new student is being calculated.\n",
      "2. PROBLEM2: I indented the student_count variable once so it can count the amount of students in the dictionary correctly.\n"
     ]
    }
   ],
   "source": [
    "# DO NOT MODIFY THE NEXT LINE!\n",
    "print(\"QUESTION 5 - ANSWERS\")\n",
    "\n",
    "# INSERT YOUR ANSWERS HERE\n",
    "# Describe 2 errors you found and corrected in the program code.\n",
    "# Replace the XXXXXXXX text with your answers\n",
    "print(\"1. PROBLEM1: The student_total variable was placed outside of the loop. It should be place within the for loop and set to 0 each time a new student is being calculated.\")\n",
    "print(\"2. PROBLEM2: I indented the student_count variable once so it can count the amount of students in the dictionary correctly.\")"
   ]
  },
  {
   "cell_type": "markdown",
   "metadata": {},
   "source": [
    "### Python Debugging using Logging\n",
    "Logging is standard practice in any reasonably sized application. Logging can be used to trace the flow of your code and to flag events using different severity levels. This helps with debugging and troubleshooting problems and provides an excellent means for understanding the process flow of your application:\n",
    "\n",
    "#### Logging Core Components\n",
    "- Logger ~ the **Logger** class provides the several method to log messages with different priorites\n",
    "- Logging Levels ~ a way to set different priorities for different logging events (see levels below)\n",
    "- Logging formatter ~ allows formatting of messages - i.e. time, module name, line number\n",
    "- Logging handler ~ writes log data to the appropriate destination - i.e. console, file, email \n",
    "\n",
    "#### Logging Levels \n",
    "- logging.critical() ~ highest level - application can no longer execute properly\n",
    "- logging.error() ~ serious issue or problem that may indicate application not working properly\n",
    "- logging.warning() ~ provides info about an unexpected event - possible problem\n",
    "- logging.info() ~ provide general info - used for tracking application behavior\n",
    "- logging.debug() ~ provides detailed information - intended for troubleshooting (diagnostics)\n",
    "\n",
    "#### Logging Handler \n",
    "Various logging handlers are provided. A few commonly used handlers are:\n",
    "- StreamHandler ~ to display on console\n",
    "- FileHandler ~ to write to files\n",
    "- SMTPHandler ~ to email\n",
    "\n",
    "**REQUIRES:** import logging\n",
    "\n",
    "\n",
    "**python.org**\n",
    "- https://docs.python.org/3/howto/logging.html"
   ]
  },
  {
   "cell_type": "markdown",
   "metadata": {},
   "source": [
    "### <font color=\"blue\">Question 6 (10 points)</font>\n",
    "#### Using the DEFAULT logger\n",
    "Without creating an instance of any logger class, there is already a default logger available in Python. \n",
    "The default logger (**root logger**) can be used by simply importing the **logging** module\n",
    "\n",
    "- EXAMPLE: **import logging**\n",
    "\n",
    "Using the default logger, generate the following messages:\n",
    "1. Generate a DEBUG logging message 'This is a DEBUG message. I am useful when trying to find a BUG'\n",
    "2. Generate an INFO logging message 'This is an INFO message. I can be used to track program flow and variable values.'\n",
    "3. Generate a WARNING logging message 'This is a WARNING message. I can be used to issue a warning when something does not seem right'\n",
    "4. Generate a ERROR logging message 'This is an ERROR message. UH-OH -- we have a REAL PROBLEM!'\n",
    "5. Generate a CRITICAL logging message 'This is a CRITICAL message. Dial 911 - something REALLY BAD has just happened!!!'\n",
    "\n",
    "#### REFERENCE: https://docs.python.org/3/howto/logging.html"
   ]
  },
  {
   "cell_type": "markdown",
   "metadata": {},
   "source": [
    "#### Additional Logging info:\n",
    "Loggers have a concept of **effective level**. If a level is not explicitly set on a logger, the **level of its parent is used** instead as its effective level. \n",
    "If the parent has no explicit level set, its parent is examined, and so on. All ancestors are searched until an explicitly set level is found or the **root logger** is reached.\n",
    "\n",
    "**NOTE:** The **root logger** always has an explicit level set **(WARNING by default)**. \n",
    "\n",
    "When deciding whether to process an event, the effective level of the logger is used to determine whether the event is passed to the logger’s handlers."
   ]
  },
  {
   "cell_type": "markdown",
   "metadata": {},
   "source": [
    "### <font color=\"red\">Question 6 - ANSWERS</font>"
   ]
  },
  {
   "cell_type": "code",
   "execution_count": null,
   "metadata": {},
   "outputs": [],
   "source": [
    "# DO NOT MODIFY!\n",
    "print(\"QUESTION 6 - ANSWERS\")"
   ]
  },
  {
   "cell_type": "code",
   "execution_count": 32,
   "metadata": {},
   "outputs": [
    {
     "name": "stderr",
     "output_type": "stream",
     "text": [
      "WARNING:root:This is a WARNING message. I can be used to issue a warning when something does not seem right\n",
      "ERROR:root:This is an ERROR message. UH-OH -- we have a REAL PROBLEM!\n",
      "CRITICAL:root:This is a CRITICAL message. Dial 911 - something REALLY BAD has just happened!!!\n"
     ]
    }
   ],
   "source": [
    "\n",
    "import logging\n",
    "\n",
    "\"\"\"\n",
    "Generate a variety of logging messages\n",
    "\"\"\"\n",
    "# INSERT YOUR CODE HERE\n",
    "logging.debug('This is a DEBUG message. I am useful when trying to find a BUG')\n",
    "logging.info('This is an INFO message. I can be used to track program flow and variable values.')\n",
    "logging.warning('This is a WARNING message. I can be used to issue a warning when something does not seem right')\n",
    "logging.error('This is an ERROR message. UH-OH -- we have a REAL PROBLEM!')\n",
    "logging.critical('This is a CRITICAL message. Dial 911 - something REALLY BAD has just happened!!!')"
   ]
  },
  {
   "cell_type": "markdown",
   "metadata": {},
   "source": [
    "### <font color=\"blue\">Question 7 (10 points)</font>\n",
    "Answer the following 2 questions based on the logging messages displayed after running the above (Question 6) code.\n",
    "\n",
    "1. What message Levels are displayed?\n",
    "2. Why are those message Levels displayed (and not the others)?\n",
    "\n",
    "<strong>NOTE Insert your answers in the print(\".... XXXXXX\") statements provided below</strong>"
   ]
  },
  {
   "cell_type": "markdown",
   "metadata": {},
   "source": [
    "### <font color=\"red\">Question 7 - ANSWERS</font>"
   ]
  },
  {
   "cell_type": "code",
   "execution_count": null,
   "metadata": {},
   "outputs": [],
   "source": [
    "# DO NOT MODIFY!\n",
    "print(\"QUESTION 7 - ANSWERS\")"
   ]
  },
  {
   "cell_type": "code",
   "execution_count": 36,
   "metadata": {},
   "outputs": [
    {
     "name": "stdout",
     "output_type": "stream",
     "text": [
      "1. The levels displayed are: Warning, Error, and Critical\n",
      "2. The reason is because the default logging level is warning. In order to change that, you need to adjust the logging level.\n"
     ]
    }
   ],
   "source": [
    "# INSERT YOUR ANSWERS HERE\n",
    "# Replace the XXXXXXXX text with your answers\n",
    "print(\"1. The levels displayed are: Warning, Error, and Critical\")\n",
    "print(\"2. The reason is because the default logging level is warning. In order to change that, you need to adjust the logging level.\")"
   ]
  },
  {
   "cell_type": "markdown",
   "metadata": {},
   "source": [
    "### <font color=\"blue\">Question 8 (15 points)</font>\n",
    "#### Using a NAMED logger\n",
    "Instead of using the DEFAULT logger, you can create your own NAMED logger.<br>\n",
    "Create a separate logger with its own **name** with its own **log level and handler**.\n",
    "This will allow you to log messages to a file.<br><br>\n",
    "\n",
    "**NOTE: When opening Logger File Handlers ... make sure to CLOSE them again!!!**\n",
    "\n",
    "1. Create a new **my_logger** with the name **'Q8_logger'**\n",
    "```\n",
    "        my_logger = logging.getLogger('question8_log')\n",
    "```\n",
    "2. Use **setLevel(...)** to set the logging level of **my_logger** to **logging.DEBUG**\n",
    "3. Create a logging.FileHandler named **fh** specifying a log filename of **CSC221Lab2.log**\n",
    "4. Use **setLevel(...)** to set the logging level of **fh** to **logging.ERROR**\n",
    "5. Create a the following formatter ...\n",
    "```\n",
    "        formatter = logging.Formatter('%(asctime)s - %(name)s - %(levelname)s - %(message)s')\n",
    "```\n",
    "6. Use **setFormatter(...)** to set the **fh** to use **formatter**\n",
    "7. Use **addHandler** to add the **fh** file handler to the **my_logger**\n",
    "8. Generate a DEBUG logger message: 'This is a DEBUG message.' to **my_logger** \n",
    "9. Generate an INFO logger message: 'This is an INFO message.' to **my_logger** \n",
    "10. Generate a WARNING logger message: 'This is a WARNING message.' to **my_logger** \n",
    "11. Generate an ERROR logger message: 'This is an ERROR message.' to **my_logger** \n",
    "12. Generate a CRITICAL logger message: 'This is a CRITICAL message.' to **my_logger** \n",
    "\n",
    "***REFERENCE:*** https://docs.python.org/3/howto/logging-cookbook.html\n",
    "- See the sample code provided at the **REFERENCE** provided as a guide: Heading \"Using logging in multiple modules\""
   ]
  },
  {
   "cell_type": "markdown",
   "metadata": {},
   "source": [
    "### <font color=\"red\">Question 8 - ANSWERS</font>"
   ]
  },
  {
   "cell_type": "code",
   "execution_count": null,
   "metadata": {},
   "outputs": [],
   "source": [
    "# DO NOT MODIFY!\n",
    "print(\"QUESTION 8 - ANSWERS\")"
   ]
  },
  {
   "cell_type": "code",
   "execution_count": 35,
   "metadata": {},
   "outputs": [
    {
     "name": "stderr",
     "output_type": "stream",
     "text": [
      "DEBUG:question8_log:This is a DEBUG message.\n",
      "INFO:question8_log:This is an INFO message.\n",
      "WARNING:question8_log:This is a WARNING message.\n",
      "ERROR:question8_log:This is an ERROR message.\n",
      "CRITICAL:question8_log:This is a CRITICAL message.\n"
     ]
    }
   ],
   "source": [
    "\"\"\"\n",
    "Generate a variety of logging messages to the console and a log file\n",
    "\"\"\"\n",
    "import logging\n",
    "\n",
    "# INSERT YOUR CODE HERE\n",
    "my_logger = logging.getLogger('question8_log')\n",
    "my_logger.setLevel(logging.DEBUG)\n",
    "\n",
    "fh = logging.FileHandler('CSC221Lab2.log')\n",
    "fh.setLevel(logging.ERROR)\n",
    "\n",
    "formatter = logging.Formatter('%(asctime)s - %(name)s - %(levelname)s - %(message)s')\n",
    "fh.setFormatter(formatter)\n",
    "my_logger.addHandler(fh)\n",
    "\n",
    "my_logger.debug('This is a DEBUG message.')\n",
    "my_logger.info('This is an INFO message.')\n",
    "my_logger.warning('This is a WARNING message.')\n",
    "my_logger.error('This is an ERROR message.')\n",
    "my_logger.critical('This is a CRITICAL message.')\n",
    "\n",
    "# CLOSE file handler\n",
    "fh.close()"
   ]
  },
  {
   "cell_type": "markdown",
   "metadata": {},
   "source": [
    "### <font color=\"blue\">Question 9 (10 points)</font>\n",
    "Answer the following 2 questions based on the logging messages written to the file after running the above (Question 8) code.\n",
    "\n",
    "1. What message Levels are written to file CSC221Lab2.log?\n",
    "2. Why are those message Levels written (and not the others)?\n",
    "\n",
    "<strong>NOTE Insert your answers in the print(\".... XXXXXX\") statements provided below</strong>"
   ]
  },
  {
   "cell_type": "markdown",
   "metadata": {},
   "source": [
    "### <font color=\"red\">Question 9 - ANSWERS</font>"
   ]
  },
  {
   "cell_type": "code",
   "execution_count": null,
   "metadata": {},
   "outputs": [],
   "source": [
    "# DO NOT MODIFY!\n",
    "print(\"QUESTION 9 - ANSWERS\")"
   ]
  },
  {
   "cell_type": "code",
   "execution_count": 11,
   "metadata": {},
   "outputs": [
    {
     "name": "stdout",
     "output_type": "stream",
     "text": [
      "1. The levels written to log file (CSC221Lab2.log) are: Error(2) and Critical(2)\n",
      "2. The reason is because the file handler level is set to error.\n"
     ]
    }
   ],
   "source": [
    "# INSERT YOUR ANSWERS HERE\n",
    "# Replace the XXXXXXXX text with your answers\n",
    "print(\"1. The levels written to log file (CSC221Lab2.log) are: Error(2) and Critical(2)\")\n",
    "print(\"2. The reason is because the file handler level is set to error.\")"
   ]
  },
  {
   "cell_type": "code",
   "execution_count": null,
   "metadata": {},
   "outputs": [],
   "source": []
  }
 ],
 "metadata": {
  "kernelspec": {
   "display_name": "Python 3 (ipykernel)",
   "language": "python",
   "name": "python3"
  },
  "language_info": {
   "codemirror_mode": {
    "name": "ipython",
    "version": 3
   },
   "file_extension": ".py",
   "mimetype": "text/x-python",
   "name": "python",
   "nbconvert_exporter": "python",
   "pygments_lexer": "ipython3",
   "version": "3.12.0"
  }
 },
 "nbformat": 4,
 "nbformat_minor": 4
}
