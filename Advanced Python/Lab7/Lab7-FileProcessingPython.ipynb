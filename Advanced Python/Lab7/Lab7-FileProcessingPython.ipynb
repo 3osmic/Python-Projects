{
 "cells": [
  {
   "cell_type": "markdown",
   "metadata": {},
   "source": [
    "# Lab 7:Reading and writing TXT, CSV, JSON, XML and YAML with Python"
   ]
  },
  {
   "cell_type": "markdown",
   "metadata": {},
   "source": [
    "### Author: <font color='red'>Aliyah Lewis</font>"
   ]
  },
  {
   "cell_type": "code",
   "execution_count": 1,
   "metadata": {},
   "outputs": [],
   "source": [
    "# Import necessary libraries for this lab\n",
    "import os\n",
    "import csv"
   ]
  },
  {
   "cell_type": "markdown",
   "metadata": {},
   "source": [
    "## Part A - Reading and parsing a TXT file (10 points)"
   ]
  },
  {
   "cell_type": "markdown",
   "metadata": {},
   "source": [
    "<div class=\"alert alert-warning\">\n",
    "    <strong>IMPORTANT: </strong>Make sure file <strong>charlotte_hornets_stats.txt</strong> is located in the current directory.\n",
    "</div>"
   ]
  },
  {
   "cell_type": "markdown",
   "metadata": {},
   "source": [
    "### File \"charlotte_hornets_stats.txt\" layout\n",
    "\n",
    "This file has __15 columns__ of data. The column headings are: \n",
    "\n",
    "    Player,POS,GP,GS,MIN,PTS,OR,DR,REB,AST,STL,BLK,TO,PF,AST/TO\n",
    "    \n",
    "    - Each field is separated by the '#' character\n",
    "    - Use Python's \"with open() as <filehandle>:\" syntax to open the file\n",
    "    - Save each line as an entry in a Python LIST\n",
    "\n",
    "\n",
    "__NOTE:__ The data used to create this file was exported from the following website: \n",
    "\n",
    "> Charlotte Hornets Stats 2022-23 (ESPN webpage) \n",
    ">> URL: https://www.espn.com/nba/team/stats/_/name/cha/table/game/sort/gamesPlayed/dir/desc\n"
   ]
  },
  {
   "cell_type": "markdown",
   "metadata": {},
   "source": [
    "### Read a TXT file 'charlotte_hornets_stats.txt' using Python's 'with open() ...' function\n",
    "\n",
    "Python files are read using the Python's open() function<br>\n",
    "\n",
    "REFERENCES: Information about the __open()__ library can be found here:<br>\n",
    "> REF: https://www.w3schools.com/python/python_file_open.asp <br>\n",
    "> REF: https://docs.python.org/3/tutorial/inputoutput.html#reading-and-writing-files <br>\n",
    "\n",
    "<strong>HOWEVER</strong>, a better method for opening files in Python is to use the __with open() as _file___ syntax, <br>where ___file___ references the file name/handle <br><br>\n",
    "Using __with open() as _file___ syntax eliminates the need to __close()__ the file.<br>\n",
    "\n",
    "> REF: https://www.geeksforgeeks.org/with-statement-in-python/\n",
    "\n",
    "You MUST use the __with open() as _file___ syntax when reading the <b>charlotte_hornets_stats.txt</b> file.\n",
    "\n",
    "<b>REMINDER:</b> Python has multiple <b>read()</b> methods:\n",
    "- _file_.read() ~ The read() method by default returns the whole file (text)\n",
    "  \n",
    "- _file_.readline() ~ The readline() method returns one line of the file \n",
    "\n",
    "> REF: https://www.w3schools.com/python/python_file_open.asp"
   ]
  },
  {
   "cell_type": "markdown",
   "metadata": {},
   "source": [
    "<div class=\"alert alert-block alert-danger\">\n",
    "    <strong>REMINDER: </strong>Make sure you use the correct <b>with open() as XXXX</b> syntax to open &amp; read the <b>charlotte_hornets_stats.txt</b> file!!!\n",
    "</div>"
   ]
  },
  {
   "cell_type": "markdown",
   "metadata": {},
   "source": [
    "<span style=\"color:blue\">\n",
    "Read the <b>charlotte_hornets_stats.txt</b> file into a list ...<br><br>\n",
    "    1. Create an empty list with the variable name <b>hornets_stats</b> <br>\n",
    "    2. Read file <b>charlotte_hornets_stats.txt</b> using Python's <b>with open() as <i>file</i></b> syntax. <br>\n",
    "    -- Read the file <b>one line at a time</b><br>\n",
    "    -- Use <b>with open() as <i>file</i></b> to eliminate having to <b>close()</b> the file.<br>\n",
    "    -- HINT: Remember to <b>strip()</b> all whitespace<br>\n",
    "    3. Parse each line using the <b>.split()</b> method <br>\n",
    "    -- HINT: Refer to file format information to determine how to split the lines.<br>\n",
    "    4. Save the results of the line parsing in a variable named <b>player_stats</b> <br>\n",
    "    5. Add(append) <b>player_stats</b> to the <b>hornets_stats</b> list.\n",
    "</span>"
   ]
  },
  {
   "cell_type": "code",
   "execution_count": 6,
   "metadata": {},
   "outputs": [],
   "source": [
    "# Read a TXT file 'charlotte_hornets.txt' using Python's 'with open() as XXXX' command\n",
    "\n",
    "# INSERT CODE FOR STEPS 1-5\n",
    "hornets_stats = []\n",
    "with open('charlotte_hornets_stats.txt', 'r') as file:\n",
    "    for line in file:\n",
    "        player_stats = line.strip().split(',')\n",
    "        hornets_stats.append(player_stats)"
   ]
  },
  {
   "cell_type": "code",
   "execution_count": 7,
   "metadata": {},
   "outputs": [
    {
     "name": "stdout",
     "output_type": "stream",
     "text": [
      "PART A\n",
      "STEPS 1-5 - hornets_stats LIST\n",
      "Lines in hornets_stats = 18\n",
      "\n",
      "['NAME              #POS#GP#GS#MIN#PTS#OR#DR#REB#AST#STL#BLK#TO#PF#AST/TO']\n",
      "['P.J. Washington   #PF #59#59#32.9#15.2#1.0#3.7#4.7#2.4#0.9#1.1#1.4#2.6#1.7']\n",
      "['Mason Plumlee     #C  #56#56#28.5#12.2#3.3#6.3#9.7#3.7#0.6#0.6#1.6#2.9#2.4']\n",
      "['Jalen McDaniels   #PF #56#21#26.7#10.6#0.8#4.0#4.8#2.0#1.2#0.5#1.4#2.8#1.4']\n",
      "['Terry Rozier      #SG #49#49#35.6#21.8#1.0#3.3#4.3#4.9#1.1#0.3#2.1#1.9#2.3']\n",
      "['JT Thor           #F  #47#0#10.8#2.6#0.5#1.2#1.7#0.4#0.2#0.2#0.5#0.8#0.8']\n",
      "['Nick Richards     #C  #45#0#17.3#8.0#2.5#3.3#5.8#0.5#0.2#1.0#0.9#2.3#0.6']\n",
      "['Dennis Smith Jr.  #PG #38#12#25.0#8.4#0.4#2.3#2.8#4.4#1.4#0.4#1.6#2.2#2.8']\n",
      "['Theo Maledon      #PG #36#1#16.1#5.6#0.3#2.1#2.4#2.4#0.8#0.2#1.0#1.0#2.5']\n",
      "['Kelly Oubre Jr.   #SG #35#30#32.6#20.2#1.5#3.6#5.1#1.2#1.6#0.4#1.3#3.0#1.0']\n",
      "['Gordon Hayward    #SF #34#34#31.1#13.9#0.7#3.5#4.2#3.6#0.9#0.2#1.9#1.3#2.0']\n",
      "['LaMelo Ball       #PG #33#33#35.4#23.3#1.2#5.1#6.3#8.4#1.3#0.3#3.5#3.4#2.4']\n",
      "['Mark Williams     #C  #29#4#15.9#7.6#1.7#3.9#5.6#0.3#0.7#1.2#0.8#2.1#0.4']\n",
      "['Kai Jones         #PF #27#0#8.8#2.7#0.7#1.2#1.9#0.2#0.2#0.4#0.3#1.1#0.6']\n",
      "['James Bouknight   #SG #26#0#13.6#4.3#0.2#1.8#2.0#1.1#0.5#0.2#0.7#1.1#1.5']\n",
      "['Bryce McGowens    #G  #26#1#14.7#4.1#0.3#1.3#1.7#1.0#0.3#0.2#0.6#0.8#1.8']\n",
      "['Cody Martin       #SF #7#0#19.1#5.0#1.1#2.3#3.4#1.6#0.6#0.1#0.3#1.9#5.5']\n",
      "['Svi Mykhailiuk    #SG #1#0#25.0#12.0#1.0#1.0#2.0#0.0#0.0#0.0#1.0#1.0#0.0']\n"
     ]
    }
   ],
   "source": [
    "# DO NOT MODIFY !!!\n",
    "print('PART A')\n",
    "print('STEPS 1-5 - hornets_stats LIST')\n",
    "print(f'Lines in hornets_stats = {len(hornets_stats)}\\n')\n",
    "# Print each line in hornets_stats list\n",
    "for line in hornets_stats:\n",
    "    print(line)"
   ]
  },
  {
   "cell_type": "markdown",
   "metadata": {},
   "source": [
    "## Part B - Reading and writing a CSV file (20 points)"
   ]
  },
  {
   "cell_type": "markdown",
   "metadata": {},
   "source": [
    "<div class=\"alert alert-warning\">\n",
    "<strong>IMPORTANT:</strong> You will be using the <strong>hornets_stats</strong> LIST created in Part A to write a new CSV file named <strong>charlotte_hornets_stats.csv</strong>. \n",
    "<br>Be sure you get Part A working correctly before starting Part B.<br><br>\n",
    "    <b>VERIFICATION INFORMATION</b>: You should have <b>18</b> lines in the CSV file and the first <b>3</b> lines should look like this:<br>(with trailing spaces in NAME &amp; POS columns):<br><br>\n",
    "['NAME              ', 'POS', 'GP', 'GS', 'MIN', 'PTS', 'OR', 'DR', 'REB', 'AST', 'STL', 'BLK', 'TO', 'PF', 'AST/TO']<br>\n",
    "['P.J. Washington   ', 'PF ', '59', '59', '32.9', '15.2', '1.0', '3.7', '4.7', '2.4', '0.9', '1.1', '1.4', '2.6', '1.7']<br>\n",
    "['Mason Plumlee     ', 'C  ', '56', '56', '28.5', '12.2', '3.3', '6.3', '9.7', '3.7', '0.6', '0.6', '1.6', '2.9', '2.4']<br>\n",
    "</div>"
   ]
  },
  {
   "cell_type": "markdown",
   "metadata": {},
   "source": [
    "### Write a CSV file 'charlotte_hornets_stats.csv' using Python's csv.writer() function\n",
    "\n",
    "CSV files are plain text files used to store data in a tabular format, with each piece of data separated by a comma (,)<br>\n",
    "Python has a __csv__ library that allows you to read, parse and write CSV files.<br>\n",
    "\n",
    "SYNTAX:<br>\n",
    "* csv.writer((_csvfile, dialect='excel', \\*\\*fmtparams_) ~ returns a writer object responsible for converting the user's data into delimited strings <br>\n",
    "    * csvwriter.writerow(row) ~ Writes the row parameter to the writer’s file object\n",
    "    * csvwriter.writerows(rows) ~ Write all elements in rows (an iterable of row objects) to the writer’s file object\n",
    "    \n",
    "\n",
    "REFERENCES:  Information about the __csv__ library can be found here: <br> \n",
    ">REF: https://docs.python.org/3/library/csv.html <br>\n",
    ">REF: https://www.geeksforgeeks.org/writing-csv-files-in-python/ <br>\n",
    ">REF: https://docs.python.org/3/library/csv.html\n",
    "(shows use of newline=' ' parameter) <br>"
   ]
  },
  {
   "cell_type": "markdown",
   "metadata": {},
   "source": [
    "<span style=\"color:blue\">\n",
    "    1. Open a file named <strong>charlotte_hornets_stats.csv</strong> using <b>with open() as <i>file</i></b> <br>\n",
    "    2. Use <b>csv.writer(...)</b> to get a \"writer object\" <br>\n",
    "    3. Iterate thru the <b>hornets_stats</b> list using <b>.writerow(...)</b> to create the new CSV file named <b>charlotte_hornets_stats.csv</b><br>\n",
    "    -- REMINDER: Make sure you specify the correct delimiter for a CSV file!\n",
    "</span>"
   ]
  },
  {
   "cell_type": "code",
   "execution_count": 8,
   "metadata": {},
   "outputs": [
    {
     "name": "stdout",
     "output_type": "stream",
     "text": [
      "PART B\n",
      "STEPS 1-6 - charlotte_hornets_stats.csv FILE CREATION\n"
     ]
    }
   ],
   "source": [
    "# DO NOT MODIFY !!!\n",
    "print('PART B')\n",
    "print('STEPS 1-6 - charlotte_hornets_stats.csv FILE CREATION')"
   ]
  },
  {
   "cell_type": "code",
   "execution_count": 9,
   "metadata": {},
   "outputs": [],
   "source": [
    "# Write a CSV file named 'charlotte_hornets_stats.csv' using Python's csv.writer() function\n",
    "\n",
    "# INSERT CODE FOR STEPS 1-3\n",
    "with open('charlotte_hornets_stats.csv', 'w', newline='') as csv_file:\n",
    "    csv_writer = csv.writer(csv_file, delimiter=',')\n",
    "    for player_stats in hornets_stats:\n",
    "        csv_writer.writerow(player_stats)"
   ]
  },
  {
   "cell_type": "markdown",
   "metadata": {},
   "source": [
    "<div class=\"alert alert-block alert-danger\">\n",
    "    <b>IMPORTANT: </b>Verify the contents of the <b>charlotte_hornets_stats.csv</b> you created.<br>\n",
    "    * <b>Question:</b> Is it a CSV file? Are there commas(,) separating each field on a line?<br>\n",
    "    * <b>Question:</b> Do you have extra blank lines in the file? (The file should not be double-spaced)<br>\n",
    "    -- You can view the file in Jupyter Notebook or a simple editor to check.\n",
    "</div>"
   ]
  },
  {
   "cell_type": "markdown",
   "metadata": {},
   "source": [
    "### Read a CSV file 'charlotte_hornets_stats.csv' using Python's csv.reader() function"
   ]
  },
  {
   "cell_type": "markdown",
   "metadata": {},
   "source": [
    "Now that you have written a new CSV file containing the Charlotte Hornets statistics data, <br>\n",
    "let's see if you can <b>read</b> the data back in correctly.<br>\n",
    "\n",
    "SYNTAX:<br>\n",
    "* csv.reader(_csvfile, dialect='excel', \\*\\*fmtparams_) ~ returns a reader object which will iterate over the lines in the csv file<br>\n",
    "    * Each row read from the csv file is returned as a list of strings.\n",
    "\n",
    "\n",
    "REFERENCES:  Information about the __csv__ library can be found here: <br> \n",
    ">REF: https://docs.python.org/3/library/csv.html <br>\n",
    ">REF: https://www.geeksforgeeks.org/writing-csv-files-in-python/ <br>\n",
    ">REF: https://docs.python.org/3/library/csv.html\n",
    "(shows use of newline=' ' parameter) <br>"
   ]
  },
  {
   "cell_type": "markdown",
   "metadata": {},
   "source": [
    "<span style=\"color:blue\">\n",
    "    4. Open the newly created file named <b>charlotte_hornets_stats.csv</b> using <b>with open() as <i>file</i></b>, then: <br>\n",
    "    5. Use <b>csv.reader(...)</b> to get a \"reader object\" <br>\n",
    "    6. Use a <b>FOR-loop</b> to iterate thru each row/line of the file and <b>print</b> the row/line.</span>"
   ]
  },
  {
   "cell_type": "code",
   "execution_count": 10,
   "metadata": {},
   "outputs": [
    {
     "name": "stdout",
     "output_type": "stream",
     "text": [
      "['NAME              #POS#GP#GS#MIN#PTS#OR#DR#REB#AST#STL#BLK#TO#PF#AST/TO']\n",
      "['P.J. Washington   #PF #59#59#32.9#15.2#1.0#3.7#4.7#2.4#0.9#1.1#1.4#2.6#1.7']\n",
      "['Mason Plumlee     #C  #56#56#28.5#12.2#3.3#6.3#9.7#3.7#0.6#0.6#1.6#2.9#2.4']\n",
      "['Jalen McDaniels   #PF #56#21#26.7#10.6#0.8#4.0#4.8#2.0#1.2#0.5#1.4#2.8#1.4']\n",
      "['Terry Rozier      #SG #49#49#35.6#21.8#1.0#3.3#4.3#4.9#1.1#0.3#2.1#1.9#2.3']\n",
      "['JT Thor           #F  #47#0#10.8#2.6#0.5#1.2#1.7#0.4#0.2#0.2#0.5#0.8#0.8']\n",
      "['Nick Richards     #C  #45#0#17.3#8.0#2.5#3.3#5.8#0.5#0.2#1.0#0.9#2.3#0.6']\n",
      "['Dennis Smith Jr.  #PG #38#12#25.0#8.4#0.4#2.3#2.8#4.4#1.4#0.4#1.6#2.2#2.8']\n",
      "['Theo Maledon      #PG #36#1#16.1#5.6#0.3#2.1#2.4#2.4#0.8#0.2#1.0#1.0#2.5']\n",
      "['Kelly Oubre Jr.   #SG #35#30#32.6#20.2#1.5#3.6#5.1#1.2#1.6#0.4#1.3#3.0#1.0']\n",
      "['Gordon Hayward    #SF #34#34#31.1#13.9#0.7#3.5#4.2#3.6#0.9#0.2#1.9#1.3#2.0']\n",
      "['LaMelo Ball       #PG #33#33#35.4#23.3#1.2#5.1#6.3#8.4#1.3#0.3#3.5#3.4#2.4']\n",
      "['Mark Williams     #C  #29#4#15.9#7.6#1.7#3.9#5.6#0.3#0.7#1.2#0.8#2.1#0.4']\n",
      "['Kai Jones         #PF #27#0#8.8#2.7#0.7#1.2#1.9#0.2#0.2#0.4#0.3#1.1#0.6']\n",
      "['James Bouknight   #SG #26#0#13.6#4.3#0.2#1.8#2.0#1.1#0.5#0.2#0.7#1.1#1.5']\n",
      "['Bryce McGowens    #G  #26#1#14.7#4.1#0.3#1.3#1.7#1.0#0.3#0.2#0.6#0.8#1.8']\n",
      "['Cody Martin       #SF #7#0#19.1#5.0#1.1#2.3#3.4#1.6#0.6#0.1#0.3#1.9#5.5']\n",
      "['Svi Mykhailiuk    #SG #1#0#25.0#12.0#1.0#1.0#2.0#0.0#0.0#0.0#1.0#1.0#0.0']\n"
     ]
    }
   ],
   "source": [
    "# Read CSV file 'charlotte_hornets_stats.csv' using Python's csv.writer() function\n",
    "\n",
    "# INSERT CODE FOR STEPS 4-6\n",
    "with open('charlotte_hornets_stats.csv', 'r') as csv_file:\n",
    "    csv_reader = csv.reader(csv_file)\n",
    "    for row in csv_reader:\n",
    "        print(row)"
   ]
  },
  {
   "cell_type": "markdown",
   "metadata": {},
   "source": [
    "### Read a CSV file 'charlotte_hornets_stats.csv' using Pandas read_csv() function\n",
    "\n",
    "Now that you've used Python's CSV Read & Write functions, let's see what Pandas has to offer! \n",
    "\n",
    "Pandas provides a quick &amp; simple way to read a CSV file into a <b>DataFrame</b> using <b>read_csv()</b> &amp; <b>write_csv()</b>.\n",
    "\n",
    "SYNTAX:<br>\n",
    "<b>import pandas as pd</b> <== REQUIRED\n",
    "\n",
    "* _df_ = pd.read_csv(_csvfilename_) ~ Reads a comma-separated values (csv) file into DataFrame.\n",
    "    * EXAMPLE: df = pd.read_csv('myCSVfile.csv')\n",
    "    \n",
    "To __print__ the contents of the ___df___ you can use the following command:\n",
    "* print(_df_.to_string()) \n",
    "\n",
    "REFERENCES:  Information about the __csv__ library can be found here: <br> \n",
    ">REF: https://www.w3schools.com/python/pandas/pandas_csv.asp <br>\n",
    ">REF: https://pythonbasics.org/read-csv-with-pandas/ <br>\n",
    ">REF: https://pandas.pydata.org/docs/reference/api/pandas.read_csv.html\n",
    "\n",
    "Let's give it a try ..."
   ]
  },
  {
   "cell_type": "markdown",
   "metadata": {},
   "source": [
    "<span style=\"color:blue\">\n",
    "    7. Add the required <b>import</b> statement for pandas <br>\n",
    "    8. Read file <b>charlotte_hornets_stats.csv</b> using Pandas <b>read_csv(...)</b> function. <br>\n",
    "    9. Save the file contents in a <b>DataFrame</b> named <b>hornets_df</b> <br>\n",
    "    10. Print the DataFrame <b>hornets_df</b>\n",
    "</span>"
   ]
  },
  {
   "cell_type": "code",
   "execution_count": 12,
   "metadata": {},
   "outputs": [
    {
     "name": "stdout",
     "output_type": "stream",
     "text": [
      "['NAME              #POS#GP#GS#MIN#PTS#OR#DR#REB#AST#STL#BLK#TO#PF#AST/TO']\n",
      "['P.J. Washington   #PF #59#59#32.9#15.2#1.0#3.7#4.7#2.4#0.9#1.1#1.4#2.6#1.7']\n",
      "['Mason Plumlee     #C  #56#56#28.5#12.2#3.3#6.3#9.7#3.7#0.6#0.6#1.6#2.9#2.4']\n",
      "['Jalen McDaniels   #PF #56#21#26.7#10.6#0.8#4.0#4.8#2.0#1.2#0.5#1.4#2.8#1.4']\n",
      "['Terry Rozier      #SG #49#49#35.6#21.8#1.0#3.3#4.3#4.9#1.1#0.3#2.1#1.9#2.3']\n",
      "['JT Thor           #F  #47#0#10.8#2.6#0.5#1.2#1.7#0.4#0.2#0.2#0.5#0.8#0.8']\n",
      "['Nick Richards     #C  #45#0#17.3#8.0#2.5#3.3#5.8#0.5#0.2#1.0#0.9#2.3#0.6']\n",
      "['Dennis Smith Jr.  #PG #38#12#25.0#8.4#0.4#2.3#2.8#4.4#1.4#0.4#1.6#2.2#2.8']\n",
      "['Theo Maledon      #PG #36#1#16.1#5.6#0.3#2.1#2.4#2.4#0.8#0.2#1.0#1.0#2.5']\n",
      "['Kelly Oubre Jr.   #SG #35#30#32.6#20.2#1.5#3.6#5.1#1.2#1.6#0.4#1.3#3.0#1.0']\n",
      "['Gordon Hayward    #SF #34#34#31.1#13.9#0.7#3.5#4.2#3.6#0.9#0.2#1.9#1.3#2.0']\n",
      "['LaMelo Ball       #PG #33#33#35.4#23.3#1.2#5.1#6.3#8.4#1.3#0.3#3.5#3.4#2.4']\n",
      "['Mark Williams     #C  #29#4#15.9#7.6#1.7#3.9#5.6#0.3#0.7#1.2#0.8#2.1#0.4']\n",
      "['Kai Jones         #PF #27#0#8.8#2.7#0.7#1.2#1.9#0.2#0.2#0.4#0.3#1.1#0.6']\n",
      "['James Bouknight   #SG #26#0#13.6#4.3#0.2#1.8#2.0#1.1#0.5#0.2#0.7#1.1#1.5']\n",
      "['Bryce McGowens    #G  #26#1#14.7#4.1#0.3#1.3#1.7#1.0#0.3#0.2#0.6#0.8#1.8']\n",
      "['Cody Martin       #SF #7#0#19.1#5.0#1.1#2.3#3.4#1.6#0.6#0.1#0.3#1.9#5.5']\n",
      "['Svi Mykhailiuk    #SG #1#0#25.0#12.0#1.0#1.0#2.0#0.0#0.0#0.0#1.0#1.0#0.0']\n",
      "   NAME              #POS#GP#GS#MIN#PTS#OR#DR#REB#AST#STL#BLK#TO#PF#AST/TO\n",
      "0   P.J. Washington   #PF #59#59#32.9#15.2#1.0#3.7...                     \n",
      "1   Mason Plumlee     #C  #56#56#28.5#12.2#3.3#6.3...                     \n",
      "2   Jalen McDaniels   #PF #56#21#26.7#10.6#0.8#4.0...                     \n",
      "3   Terry Rozier      #SG #49#49#35.6#21.8#1.0#3.3...                     \n",
      "4   JT Thor           #F  #47#0#10.8#2.6#0.5#1.2#1...                     \n",
      "5   Nick Richards     #C  #45#0#17.3#8.0#2.5#3.3#5...                     \n",
      "6   Dennis Smith Jr.  #PG #38#12#25.0#8.4#0.4#2.3#...                     \n",
      "7   Theo Maledon      #PG #36#1#16.1#5.6#0.3#2.1#2...                     \n",
      "8   Kelly Oubre Jr.   #SG #35#30#32.6#20.2#1.5#3.6...                     \n",
      "9   Gordon Hayward    #SF #34#34#31.1#13.9#0.7#3.5...                     \n",
      "10  LaMelo Ball       #PG #33#33#35.4#23.3#1.2#5.1...                     \n",
      "11  Mark Williams     #C  #29#4#15.9#7.6#1.7#3.9#5...                     \n",
      "12  Kai Jones         #PF #27#0#8.8#2.7#0.7#1.2#1....                     \n",
      "13  James Bouknight   #SG #26#0#13.6#4.3#0.2#1.8#2...                     \n",
      "14  Bryce McGowens    #G  #26#1#14.7#4.1#0.3#1.3#1...                     \n",
      "15  Cody Martin       #SF #7#0#19.1#5.0#1.1#2.3#3....                     \n",
      "16  Svi Mykhailiuk    #SG #1#0#25.0#12.0#1.0#1.0#2...                     \n"
     ]
    }
   ],
   "source": [
    "# INSERT CODE FOR STEPS 7-10\n",
    "import pandas as pd\n",
    "\n",
    "with open('charlotte_hornets_stats.csv', 'r') as csv_file:\n",
    "    csv_reader = csv.reader(csv_file)\n",
    "    for row in csv_reader:\n",
    "        print(row)\n",
    "\n",
    "hornets_df = pd.read_csv('charlotte_hornets_stats.csv')\n",
    "\n",
    "print(hornets_df)\n"
   ]
  },
  {
   "cell_type": "markdown",
   "metadata": {},
   "source": [
    "<div class=\"alert alert-success\">\n",
    " <strong>NOTE how much less code is required to read a CSV file using Pandas!!!</strong>\n",
    "</div>"
   ]
  },
  {
   "cell_type": "markdown",
   "metadata": {},
   "source": [
    "## Part C - Reading and writing JSON files (20 points)"
   ]
  },
  {
   "cell_type": "markdown",
   "metadata": {},
   "source": [
    "<div class=\"alert alert-warning\">\n",
    "    <strong>IMPORTANT: </strong>Make sure file <strong>best_selling_books.json</strong> is located in the current directory.<br>\n",
    "    -- File Format: There are 6 keys: Book, Authors(s), Original Language, First Published, Approximate Sales, Genre<br></div>"
   ]
  },
  {
   "cell_type": "markdown",
   "metadata": {},
   "source": [
    "### Read a JSON file 'best_selling_books.json' using Python's json.load(...)function\n",
    "\n",
    "JSON can easily be read or writen in Python by using a __Dictionary__ object (read into/write from)<br> \n",
    "To read a JSON file into a Python dictionary, you use __json.load()__ <br>\n",
    "\n",
    "SYNTAX:<br>\n",
    "<b>import json</b> <== REQUIRED\n",
    "\n",
    "* json.load(...) ~ accepts a file object, parses the JSON data \n",
    "    - Populates a Python dictionary with the data and returns it back to you\n",
    "    - EXAMPLE: _dict_ = json.load(_fileobject_)\n",
    "\n",
    "\n",
    "REFERENCES:  Information about Python & JSON can be found here: <br> \n",
    ">REF: https://www.w3schools.com/python/python_json.asp <br>\n",
    ">REF: https://www.geeksforgeeks.org/read-json-file-using-python/ <br>\n",
    ">REF: https://docs.python.org/3/library/json.html <br>\n",
    "\n",
    "Let's give it a try ..."
   ]
  },
  {
   "cell_type": "markdown",
   "metadata": {},
   "source": [
    "<span style=\"color:blue\">\n",
    "    1. Add the required import statement for <b>json</b> <br>\n",
    "    2. Open for 'read' the file <b>'best_selling_books.json'</b> <br> \n",
    "    3. Use the <b>json.load()</b> command to parse the JSON into a variable named <b>bookdata_dict</b>.\n",
    "</span>"
   ]
  },
  {
   "cell_type": "code",
   "execution_count": 13,
   "metadata": {},
   "outputs": [],
   "source": [
    "# INSERT CODE FOR STEPS 1-3\n",
    "import json\n",
    "\n",
    "with open('best_selling_books.json', 'r') as file:\n",
    "    bookdata_dict = json.load(file)"
   ]
  },
  {
   "cell_type": "code",
   "execution_count": 14,
   "metadata": {},
   "outputs": [
    {
     "name": "stdout",
     "output_type": "stream",
     "text": [
      "PART C\n",
      "STEPS 1-3 - best_selling_books.json file\n",
      "bookdata_dict has 1 entries\n",
      "bookdata_dict is TYPE: <class 'dict'>\n",
      "\n",
      "{'Book': 'A Tale of Two Cities', 'Author(s)': 'Charles Dickens', 'Language': 'English', 'Published': 1859, 'Sales': '200 million', 'Genre': 'Historical fiction'}\n",
      "{'Book': 'The Little Prince', 'Author(s)': 'Antoine de Saint-Exupery', 'Language': 'English', 'Published': 1943, 'Sales': '200 million', 'Genre': 'Novella'}\n",
      "{'Book': \"Harry Potter and the Philosopher's Stone\", 'Author(s)': 'J. K. Rowling', 'Language': 'English', 'Published': 1997, 'Sales': '120 million', 'Genre': 'Fantasy'}\n",
      "{'Book': 'And Then There Were None', 'Author(s)': 'Agatha Christie', 'Language': 'English', 'Published': 1939, 'Sales': '100 million', 'Genre': 'Mystery'}\n",
      "{'Book': 'Dream of the Red Chamber', 'Author(s)': 'Cao Xueqin', 'Language': 'Chinese', 'Published': 1791, 'Sales': '100 million', 'Genre': 'Family saga'}\n",
      "{'Book': 'The Hobbit', 'Author(s)': 'J. R. R. Tolkien', 'Language': 'English', 'Published': 1937, 'Sales': '100 million', 'Genre': 'Fantasy'}\n",
      "{'Book': 'The Lion, the Witch and the Wardrobe', 'Author(s)': 'C. S. Lewis', 'Language': 'English', 'Published': 1950, 'Sales': '85 million', 'Genre': 'Fantasy'}\n",
      "{'Book': 'She: A History of Adventure', 'Author(s)': 'H. Rider Haggard', 'Language': 'English', 'Published': 1887, 'Sales': '83 million', 'Genre': 'Adventure'}\n",
      "{'Book': 'Vardi Wala Gunda', 'Author(s)': 'Ved Prakash Sharma', 'Language': 'Hindi', 'Published': 1992, 'Sales': '80 million', 'Genre': 'Detective'}\n",
      "{'Book': 'The Da Vinci Code', 'Author(s)': 'Dan Brown', 'Language': 'English', 'Published': 2003, 'Sales': '80 million', 'Genre': 'Mystery thriller'}\n",
      "{'Book': 'Harry Potter and the Chamber of Serets', 'Author(s)': 'J. K. Rowling', 'Language': 'English', 'Published': 1998, 'Sales': '77 million', 'Genre': 'Fantasy'}\n",
      "{'Book': 'Harry Potter and the Prisoner of Azkaban', 'Author(s)': 'J. K. Rowling', 'Language': 'English', 'Published': 1999, 'Sales': '65 million', 'Genre': 'Fantasy'}\n",
      "{'Book': 'Harry Potter and the Goblet of Fire', 'Author(s)': 'J. K. Rowling', 'Language': 'English', 'Published': 2000, 'Sales': '65 million', 'Genre': 'Fantasy'}\n",
      "{'Book': 'Harry Potter and the Order of the Phoenix', 'Author(s)': 'J. K. Rowling', 'Language': 'English', 'Published': 2003, 'Sales': '65 million', 'Genre': 'Fantasy'}\n",
      "{'Book': 'Harry Potter and the Half-Blood Prince', 'Author(s)': 'J. K. Rowling', 'Language': 'English', 'Published': 2005, 'Sales': '65 million', 'Genre': 'Fantasy'}\n",
      "{'Book': 'Harry Potter and the Deathly Hallows', 'Author(s)': 'J. K. Rowling', 'Language': 'English', 'Published': 2007, 'Sales': '65 million', 'Genre': 'Fantasy'}\n",
      "{'Book': 'The Alchemist (O Alquimista)', 'Author(s)': 'Paulo Coelho', 'Language': 'Portuguese', 'Published': 1988, 'Sales': '65 million', 'Genre': 'Fantasy'}\n",
      "{'Book': 'The Catcher in the Rye', 'Author(s)': 'J. D. Salinger', 'Language': 'English', 'Published': 1951, 'Sales': '65 million', 'Genre': 'Coming-of-age'}\n",
      "{'Book': 'The Bridges of Madison County', 'Author(s)': 'Robert James Waller', 'Language': 'English', 'Published': 1992, 'Sales': '60 million', 'Genre': 'Romance'}\n",
      "{'Book': 'Ben-Hur: A Tale of the Christ', 'Author(s)': 'Lew Wallace', 'Language': 'English', 'Published': 1880, 'Sales': '50 million', 'Genre': 'Historical fiction'}\n"
     ]
    }
   ],
   "source": [
    "# DO NOT MODIFY !!!\n",
    "print('PART C')\n",
    "print('STEPS 1-3 - best_selling_books.json file')\n",
    "print(f'bookdata_dict has {len(bookdata_dict)} entries')\n",
    "print(f'bookdata_dict is TYPE: {type(bookdata_dict)}\\n')\n",
    "# Print contents using FOR-loop\n",
    "for b in bookdata_dict['Best Selling Books']:\n",
    "    print(b)"
   ]
  },
  {
   "cell_type": "markdown",
   "metadata": {},
   "source": [
    "<div class=\"alert alert-success\">\n",
    "    Take a look at the <b>best_selling_books.json</b> file in an editor (or another Jupyter Notebook tab)<br>\n",
    "    <b>NOTICE how much the JSON looks like a Python Dictionary!</b>\n",
    "</div>"
   ]
  },
  {
   "cell_type": "markdown",
   "metadata": {},
   "source": [
    "### Create JSON formatted string from a Python dictionary using json.dumps() function\n",
    "\n",
    "If you look at the format of a JSON file, you will notice how similar it is to Python's Dictionary format.<br><br>\n",
    "So ... it should be no surprise that you can use a Python Dictionary to <b>create</b> a JSON file.<br>\n",
    "To write a Python dictionary to a JSON formatted string, you use the __json.dumps()__ method<br>\n",
    "\n",
    "SYNTAX:<br>\n",
    "- json.dumps(dictionary, indent=#) ~ converts a Python object into a JSON string \n",
    "    - where indent=# specifies spaces to indent to make for easy reading\n",
    "    \n",
    "<b>Here is a GeeksForGeeks reference that explains json.dumps():</b>\n",
    "    \n",
    "> REF: https://www.geeksforgeeks.org/json-dump-in-python/\n",
    "\n",
    "\n",
    "<b>NOTE:</b> There is a subtle difference between <b>json.dumps()</b> and <b>json.dump()</b> and the two commands often get confused. Make sure you know which you want to use -- and watch out for typos.\n",
    "\n",
    "\n",
    "REFERENCES:  Information about Python & JSON can be found here: <br> \n",
    ">REF: https://www.w3schools.com/python/python_json.asp <br>\n",
    ">REF: https://www.geeksforgeeks.org/reading-and-writing-json-to-a-file-in-python/ <br>\n",
    ">REF: https://docs.python.org/3/library/json.html <br>\n",
    "\n",
    "Let's give it a try ..."
   ]
  },
  {
   "cell_type": "markdown",
   "metadata": {},
   "source": [
    "<span style=\"color:blue\">\n",
    "4. Use <strong>json.dumps()</strong> with <strong>indent=4</strong> to create a JSON object named <strong>json_desserts</strong> <br>\n",
    " \n",
    "<strong>NOTE:</strong> Use the <strong>desserts_dict</strong> dictionary definition provided for you below!!!\n",
    "</span>"
   ]
  },
  {
   "cell_type": "code",
   "execution_count": 16,
   "metadata": {},
   "outputs": [],
   "source": [
    "# DO NOT MODIFY !!!\n",
    "# Dictionary of Desserts (PROVIDED)\n",
    "desserts_dict = {'Cookies': ['Chocolate Chip','Peanut Butter', 'Oatmeal Raisin', 'Macaroons', 'Sugar'],\n",
    "                'Cakes': ['Chocolate', 'Red Velvet', 'Lemon', 'Black Forest', 'Cheesecake'],\n",
    "                'Ice Cream': ['Vanilla', 'Chocolate', 'Strawberry', 'Mint Chocolate Chip', 'Butter Pecan'],\n",
    "                'Pastries': ['Bear Claw', 'Cinnamon Roll', 'Beignets', 'Doughnut', 'Pain Au Chocolat']\n",
    "                }"
   ]
  },
  {
   "cell_type": "code",
   "execution_count": 17,
   "metadata": {},
   "outputs": [],
   "source": [
    "# Convert Python dictionary (desserts_dict) to JSON formatted string\n",
    "\n",
    "# INSERT CODE FOR STEP 4\n",
    "json_desserts = json.dumps(desserts_dict, indent=4)\n"
   ]
  },
  {
   "cell_type": "code",
   "execution_count": 18,
   "metadata": {},
   "outputs": [
    {
     "name": "stdout",
     "output_type": "stream",
     "text": [
      "PART C\n",
      "STEP 4 - JSON desserts_dict\n",
      "Contents of desserts_dict:\n",
      "{'Cookies': ['Chocolate Chip', 'Peanut Butter', 'Oatmeal Raisin', 'Macaroons', 'Sugar'], 'Cakes': ['Chocolate', 'Red Velvet', 'Lemon', 'Black Forest', 'Cheesecake'], 'Ice Cream': ['Vanilla', 'Chocolate', 'Strawberry', 'Mint Chocolate Chip', 'Butter Pecan'], 'Pastries': ['Bear Claw', 'Cinnamon Roll', 'Beignets', 'Doughnut', 'Pain Au Chocolat']}\n",
      "\n",
      "Contents of json_desserts:\n",
      "{\n",
      "    \"Cookies\": [\n",
      "        \"Chocolate Chip\",\n",
      "        \"Peanut Butter\",\n",
      "        \"Oatmeal Raisin\",\n",
      "        \"Macaroons\",\n",
      "        \"Sugar\"\n",
      "    ],\n",
      "    \"Cakes\": [\n",
      "        \"Chocolate\",\n",
      "        \"Red Velvet\",\n",
      "        \"Lemon\",\n",
      "        \"Black Forest\",\n",
      "        \"Cheesecake\"\n",
      "    ],\n",
      "    \"Ice Cream\": [\n",
      "        \"Vanilla\",\n",
      "        \"Chocolate\",\n",
      "        \"Strawberry\",\n",
      "        \"Mint Chocolate Chip\",\n",
      "        \"Butter Pecan\"\n",
      "    ],\n",
      "    \"Pastries\": [\n",
      "        \"Bear Claw\",\n",
      "        \"Cinnamon Roll\",\n",
      "        \"Beignets\",\n",
      "        \"Doughnut\",\n",
      "        \"Pain Au Chocolat\"\n",
      "    ]\n",
      "}\n"
     ]
    }
   ],
   "source": [
    "# DO NOT MODIFY !!!\n",
    "print('PART C')\n",
    "print('STEP 4 - JSON desserts_dict')\n",
    "# Print the Python Dictionary & JSON object\n",
    "print(f'Contents of desserts_dict:\\n{desserts_dict}\\n')\n",
    "print(f'Contents of json_desserts:\\n{json_desserts}')"
   ]
  },
  {
   "cell_type": "markdown",
   "metadata": {},
   "source": [
    "### Create JSON formatted file from a Python dictionary using the json.dump() function\n",
    "\n",
    "The process of writing JSON to a file is called Serialization. Serializing JSON refers to the transformation of data into a series of bytes to be stored or often transmitted across a network. The command used to do this is: <b>json.dump()</b> \n",
    "\n",
    "SYNTAX:<br>\n",
    "- json.dump(dictionary, file pointer, indent=#) ~ writes the dictionary to a file without conversion to JSON object\n",
    "    - where # is the number of spaces to use for indentation\n",
    "    \n",
    "<b>Again, here is a GeeksForGeeks reference that explains json.dump():</b>\n",
    "    \n",
    "> REF: https://www.geeksforgeeks.org/json-dump-in-python/\n",
    "\n",
    "<b>NOTE:</b> There is a subtle difference between <b>json.dumps()</b> and <b>json.dump()</b> and the two commands often get confused. Make sure you know which you want to use -- and watch out for typos.\n",
    "\n",
    "\n",
    "REFERENCES:  Information about Python & JSON can be found here: <br> \n",
    ">REF: https://www.w3schools.com/python/python_json.asp <br>\n",
    ">REF: https://www.geeksforgeeks.org/reading-and-writing-json-to-a-file-in-python/ <br>\n",
    ">REF: https://docs.python.org/3/library/json.html <br>\n",
    "\n",
    "Let's give it a try ..."
   ]
  },
  {
   "cell_type": "markdown",
   "metadata": {},
   "source": [
    "<span style=\"color:blue\">\n",
    "5. Write a JSON file named <strong>desserts.json</strong> using Pythons <strong>json.dump()</strong> command. <br>\n",
    " \n",
    "<strong>NOTE:</strong> Use the <strong>desserts_dict</strong> dictionary created in the precious steps!!!\n",
    "</span>"
   ]
  },
  {
   "cell_type": "code",
   "execution_count": 19,
   "metadata": {},
   "outputs": [],
   "source": [
    "# Write desserts_dict to file in JSON format using Python\n",
    "\n",
    "# INSERT CODE FOR STEP 5\n",
    "with open('desserts.json', 'w') as json_file:\n",
    "    json.dump(desserts_dict, json_file, indent=4)\n"
   ]
  },
  {
   "cell_type": "markdown",
   "metadata": {},
   "source": [
    "<div class=\"alert alert-success\">\n",
    " <b>NOTE:</b>  You should VISUALLY VERIFY the existance of this new file in your current directory. <br>\n",
    "    * <b>Question:</b> Does the file <b>'desserts.json'</b> now appear in Jupyter Notebook directory list (left pane)?<br>\n",
    "    * <b>Question:</b> If you open the file, does the content look like a JSON file?<br>\n",
    "    -- You can view the file in Jupyter Notebook or a simple editor to check. \n",
    "</div>"
   ]
  },
  {
   "cell_type": "code",
   "execution_count": 20,
   "metadata": {},
   "outputs": [
    {
     "name": "stdout",
     "output_type": "stream",
     "text": [
      "PART C\n",
      "STEP 5 - desserts.json\n",
      "\n",
      "{\n",
      "    \"Cookies\": [\n",
      "        \"Chocolate Chip\",\n",
      "        \"Peanut Butter\",\n",
      "        \"Oatmeal Raisin\",\n",
      "        \"Macaroons\",\n",
      "        \"Sugar\"\n",
      "    ],\n",
      "    \"Cakes\": [\n",
      "        \"Chocolate\",\n",
      "        \"Red Velvet\",\n",
      "        \"Lemon\",\n",
      "        \"Black Forest\",\n",
      "        \"Cheesecake\"\n",
      "    ],\n",
      "    \"Ice Cream\": [\n",
      "        \"Vanilla\",\n",
      "        \"Chocolate\",\n",
      "        \"Strawberry\",\n",
      "        \"Mint Chocolate Chip\",\n",
      "        \"Butter Pecan\"\n",
      "    ],\n",
      "    \"Pastries\": [\n",
      "        \"Bear Claw\",\n",
      "        \"Cinnamon Roll\",\n",
      "        \"Beignets\",\n",
      "        \"Doughnut\",\n",
      "        \"Pain Au Chocolat\"\n",
      "    ]\n",
      "}\n"
     ]
    }
   ],
   "source": [
    "# DO NOT MODIFY !!!\n",
    "print('PART C')\n",
    "print('STEP 5 - desserts.json')\n",
    "print(f'')\n",
    "# Read JSON data from file and pretty print it\n",
    "with open('desserts.json', 'r') as newfile:\n",
    "    # Convert JSON file to Python Types\n",
    "    data = json.load(newfile)\n",
    "    print(json.dumps(data, indent=4))"
   ]
  },
  {
   "cell_type": "markdown",
   "metadata": {},
   "source": [
    "## Part D - Reading and parsing XML files (20 points)"
   ]
  },
  {
   "cell_type": "markdown",
   "metadata": {},
   "source": [
    "<div class=\"alert alert-warning\">\n",
    "<strong>IMPORTANT: </strong>Make sure file <strong>best_selling_books.xml</strong> is located in the current directory.  \n",
    "</div>"
   ]
  },
  {
   "cell_type": "markdown",
   "metadata": {},
   "source": [
    "### Read and parse XML file best_selling_books.xml' using ElementTree\n",
    "\n",
    "\n",
    "XML stands for eXtensible Markup Language. It was originally designed to store and transport data while being both human & machine readable. XML has been around for quite awhile, but is gradually being replaced by JSON & YAML.\n",
    "\n",
    "XML is a hierarchical data format, so it is often represented by a tree structure. The xml.etree.ElementTree (ET in short) is comprised of two classes: \n",
    "\n",
    "- ElementTree.parse() ~ method used to enable parsing of xml file \n",
    "    - EXAMPLE: mytree = ET.parse('file.xml')\n",
    "    \n",
    "- tree.getroot() ~ used to get the ROOT element of the XML tree\n",
    "    - EXAMPLE: mytree.getroot()\n",
    "   \n",
    "There are various __find__ methods that can be used to search for specific XML elements (ie. by TAG)\n",
    "    \n",
    "- tree.find()       ~ .find() method returns an element of the tree\n",
    "- tree.findall()    ~ .findall() method returns all matching subelements of the tree.\n",
    "    \n",
    "\n",
    "REFERENCES:  Information about using XML ElementTree() to read and parse XML files can be found here: <br> \n",
    ">REF: https://www.w3schools.com/xml/xml_parser.asp <br>\n",
    ">REF: https://www.edureka.co/blog/python-xml-parser-tutorial/ <br>\n",
    ">REF: https://docs.python.org/3/library/xml.etree.elementtree.html <br>\n",
    ">REF: https://www.geeksforgeeks.org/reading-and-writing-xml-files-in-python/\n",
    "\n",
    "Let's give it a try ..."
   ]
  },
  {
   "cell_type": "markdown",
   "metadata": {},
   "source": [
    "<div class=\"alert alert-success\">\n",
    "    Take a look at the <b>best_selling_books.xml</b> file in an editor (or another Jupyter Notebook tab)<br>\n",
    "    <b>NOTICE the HTML-like tagging used to for what could be thought of as KEYS.</b><br>\n",
    "    Also take note of the hierarchical structure of the data -- how would you reference an individual element?\n",
    "</div>"
   ]
  },
  {
   "cell_type": "markdown",
   "metadata": {},
   "source": [
    "<span style=\"color:blue\">\n",
    "Use <strong>ElementTree()</strong> to read and parse file <strong>best_selling_books.xml</strong> <br><br>\n",
    "    1. Use <strong>ET.parse('best_selling_books.xml')</strong> to read and part the XML file into <strong>mytree</strong> <br>\n",
    "    2. Use <strong>mytree.getroot()</strong> to get the root of the tree in <strong>myroot</strong>\n",
    "</span>"
   ]
  },
  {
   "cell_type": "code",
   "execution_count": 21,
   "metadata": {},
   "outputs": [],
   "source": [
    "# Import necessary libraries\n",
    "import xml.etree.ElementTree as ET\n",
    "\n",
    "# INSERT CODE FOR STEPS 1-2\n",
    "mytree = ET.parse('best_selling_books.xml')\n",
    "myroot = mytree.getroot()\n"
   ]
  },
  {
   "cell_type": "code",
   "execution_count": 23,
   "metadata": {},
   "outputs": [
    {
     "name": "stdout",
     "output_type": "stream",
     "text": [
      "PART D\n",
      "STEPS 1-2 - myroot.tag\n",
      "BESTSELLERS\n"
     ]
    }
   ],
   "source": [
    "# DO NOT MODIFY !!!\n",
    "print('PART D')\n",
    "print('STEPS 1-2 - myroot.tag')\n",
    "\n",
    "# Print myroot.tag value\n",
    "print(myroot.tag)"
   ]
  },
  {
   "cell_type": "markdown",
   "metadata": {},
   "source": [
    "<span style=\"color:blue\">\n",
    "Now that you have the root of the tree, use it to find ALL the book titles <br>\n",
    "    3. Use a <strong>for loop</strong> to <strong>findall('BOOK')</strong> elements, then ... <br>\n",
    "    4. Use <strong>.find('TITLE').text</strong> to get the <strong>TITLE text</strong> from each book element <br>\n",
    "    5. Use <strong>.find('AUTHOR').text</strong> to get the <strong>AUTHOR text</strong> from each book element <br>\n",
    "    6. Use <strong>.find('PUBLISHED').text</strong> to get the <strong>PUBLISHED year</strong> from each book element <br>\n",
    "    7. Use <strong>.find('SALES').text</strong> to get the <strong>SALES text</strong> from each book element <br>\n",
    "    8. Use <strong>.find('GENRE').text</strong> to get the <strong>GENRE text</strong> from each book element <br>\n",
    "    9. Create a STRING variable named <strong>book_info</strong> by concatenating the 5 fields: TITLE, AUTHOR, PUBLISHED, SALES, GENRE.<br>\n",
    "    -- Separate each field with a <b>SPACE COLON SPACE (' : ')</b> to make the output easier to read!<br>\n",
    "    -- <b>EXAMPLE:</b> The Hobbit : J. R. R. Tolkien : 1937 : 100 million : Fantasy<br>\n",
    "    10. Print the <strong>book_info</strong> <br><br>\n",
    "</span>"
   ]
  },
  {
   "cell_type": "code",
   "execution_count": 24,
   "metadata": {},
   "outputs": [
    {
     "name": "stdout",
     "output_type": "stream",
     "text": [
      "PART D\n",
      "STEPS 3-10 - Print the Title, Author, Publish Year, Sales & Genre for each book\n"
     ]
    }
   ],
   "source": [
    "# DO NOT MODIFY !!!\n",
    "print('PART D')\n",
    "print('STEPS 3-10 - Print the Title, Author, Publish Year, Sales & Genre for each book')"
   ]
  },
  {
   "cell_type": "code",
   "execution_count": 26,
   "metadata": {},
   "outputs": [
    {
     "name": "stdout",
     "output_type": "stream",
     "text": [
      "A Tale of Two Cities : Charles Dickens : 1859 : 200 million : Historical fiction\n",
      "The Little Prince : Antoine de Saint-Exupery : 1943 : 200 million : Novella\n",
      "Harry Potter and the Philosopher's Stone : J. K. Rowling : 1997 : 120 million : Fantasy\n",
      "And Then There Were None : Agatha Christie : 1939 : 100 million : Mystery\n",
      "Dream of the Red Chamber : Cao Xueqin : 1791 : 100 million : Family saga\n",
      "The Hobbit : J. R. R. Tolkien : 1937 : 100 million : Fantasy\n",
      "The Lion, the Witch and the Wardrobe : C. S. Lewis : 1950 : 85 million : Fantasy\n",
      "She: A History of Adventure : H. Rider Haggard : 1887 : 83 million : Adventure\n",
      "Vardi Wala Gunda : Ved Prakash Sharma : 1992 : 80 million : Detective\n",
      "The Da Vinci Code : Dan Brown : 2003 : 80 million : Mystery thriller\n",
      "Harry Potter and the Chamber of Serets : J. K. Rowling : 1998 : 77 million : Fantasy\n",
      "Harry Potter and the Prisoner of Azkaban : J. K. Rowling : 1999 : 65 million : Fantasy\n",
      "Harry Potter and the Goblet of Fire : J. K. Rowling : 2000 : 65 million : Fantasy\n",
      "Harry Potter and the Order of the Phoenix : J. K. Rowling : 2003 : 65 million : Fantasy\n",
      "Harry Potter and the Half-Blood Prince : J. K. Rowling : 2005 : 65 million : Fantasy\n",
      "Harry Potter and the Deathly Hallows : J. K. Rowling : 2007 : 65 million : Fantasy\n",
      "The Alchemist (O Alquimista) : Paulo Coelho : 1988 : 65 million : Fantasy\n",
      "The Catcher in the Rye : J. D. Salinger : 1951 : 65 million : Coming-of-age\n",
      "The Bridges of Madison County : Robert James Waller : 1992 : 60 million : Romance\n",
      "Ben-Hur: A Tale of the Christ : Lew Wallace : 1880 : 50 million : Historical fiction\n"
     ]
    }
   ],
   "source": [
    "# Find and print ALL the TITLE values (text) for every BOOK element\n",
    "\n",
    "# INSERT CODE FOR STEPS 3-5\n",
    "for book_element in myroot.findall('BOOK'):\n",
    "    title = book_element.find('TITLE').text\n",
    "    author = book_element.find('AUTHOR').text\n",
    "    published = book_element.find('PUBLISHED').text\n",
    "    sales = book_element.find('SALES').text\n",
    "    genre = book_element.find('GENRE').text\n",
    "    book_info = f\"{title} : {author} : {published} : {sales} : {genre}\"\n",
    "\n",
    "    print(book_info)"
   ]
  },
  {
   "cell_type": "markdown",
   "metadata": {},
   "source": [
    "## Part E - Reading and parsing YAML files (20 points)"
   ]
  },
  {
   "cell_type": "markdown",
   "metadata": {},
   "source": [
    "<div class=\"alert alert-warning\">\n",
    "<strong>IMPORTANT: </strong>Make sure file <strong>charlotte_hornets.yaml</strong> is located in the current directory.\n",
    "</div>"
   ]
  },
  {
   "cell_type": "markdown",
   "metadata": {},
   "source": [
    "### Read and parse YAML file charlotte_hornets.xml' using yaml.load()\n",
    "\n",
    "The YAML file syntax is structured very much like a Python Dictionary, but without the __{ }s__<br>\n",
    "However, the YAML file syntax does have a close tie-in to Python -- <b>INDENTATION!</b> <br>\n",
    "- Indentation is a key aspect of YAML and is integral to defining the structure of a YAML file.<br>\n",
    "- Indentation problems cause ERRORS, so you have to be very careful when creating YAML files <b>(NO TABS!)</b>.<br>\n",
    "- The good news is there are lots of YAML verification tools available, here are a few:<br>\n",
    ">http://www.yamllint.com/<br>\n",
    ">https://codebeautify.org/yaml-validator<br>\n",
    "\n",
    "It is in simple human-readable format makes which makes it suitable for the Configuration files.<br> \n",
    "To read a YAML file into a Python dictionary, you use __yaml.load()__ <br>\n",
    "\n",
    "SYNTAX:<br>\n",
    "<b>import yaml</b> <== REQUIRED\n",
    "\n",
    "* yaml.load(fileobject, Loader) ~ parses and converts a YAML object to a Python dictionary\n",
    "    - There are 4 types of Loaders that can be used:\n",
    "        - BaseLoader: Loads all the basic YAML scalars as Strings\n",
    "        - SafeLoader: Loads subset of the YAML safely, mainly used if the input is from an untrusted source.\n",
    "        - FullLoader: Loads the full YAML but avoids arbitrary code execution. \n",
    "        - UnsafeLoader: Original loader for untrusted inputs and generally used for backward compatibility.\n",
    "        \n",
    "    - EXAMPLE: _dict_ = yaml.load(_fileobject_, Loader=yaml.FullLoader)\n",
    "\n",
    "REFERENCES:  Information about using reading & writing YAML in Python can be found here: <br> \n",
    ">REF: https://python.land/data-processing/python-yaml <br>\n",
    ">REF: https://stackabuse.com/reading-and-writing-yaml-to-a-file-in-python/ <br>\n",
    "\n",
    "Let's give it a try ..."
   ]
  },
  {
   "cell_type": "markdown",
   "metadata": {},
   "source": [
    "<span style=\"color:blue\">\n",
    "    1. Open file <strong>charlotte_hornets.yaml</strong> <br>\n",
    "    - NOTE: Use <strong>with open(...) as XXXXX:</strong> to eliminate having to <strong>close()</strong> the file.<br>\n",
    "    2. Use <strong>yaml.load()</strong> with <strong>Loader=yaml.FullLoader</strong> to read file <strong>charlotte_hornets.yaml</strong> into a variable named <strong>charlotte_hornets</strong>.<br>\n",
    "</span>"
   ]
  },
  {
   "cell_type": "code",
   "execution_count": 29,
   "metadata": {},
   "outputs": [],
   "source": [
    "# Import necessary libraries\n",
    "import yaml\n",
    "\n",
    "# Read and parse YAML file using yaml.load() with Loader=yaml.FullLoader\n",
    "\n",
    "# INSERT CODE FOR STEPS 1-2\n",
    "with open('charlotte_hornets.yaml', 'r') as file:\n",
    "    charlotte_hornets_dict = yaml.load(file, Loader=yaml.FullLoader)\n"
   ]
  },
  {
   "cell_type": "code",
   "execution_count": 30,
   "metadata": {},
   "outputs": [
    {
     "name": "stdout",
     "output_type": "stream",
     "text": [
      "PART E\n",
      "STEPS 1-2 - charlotte_hornets_dict\n",
      "{'hornets': {'players': [{'rank': 1, 'name': 'LaMelo Ball', 'pos': 'PG', 'ppg': 23.3}, {'rank': 2, 'name': 'Terry Rozier', 'pos': 'SG', 'ppg': 21.8}, {'rank': 3, 'name': 'Kelly Oubre Jr', 'pos': 'SG', 'ppg': 20.2}, {'rank': 4, 'name': 'P.J. Washington', 'pos': 'PF', 'ppg': 15.2}, {'rank': 5, 'name': 'Gordon Hayward', 'pos': 'SF', 'ppg': 13.9}, {'rank': 6, 'name': 'Mason Plumlee', 'pos': 'C', 'ppg': 12.2}, {'rank': 7, 'name': 'Svi Mykhailiuk', 'pos': 'SG', 'ppg': 12.0}, {'rank': 8, 'name': 'Jalen McDaniels', 'pos': 'PF', 'ppg': 10.6}, {'rank': 9, 'name': 'Dennis Smith Jr', 'pos': 'PG', 'ppg': 8.4}, {'rank': 10, 'name': 'Nick Richards', 'pos': 'C', 'ppg': 8.0}, {'rank': 11, 'name': 'Mark Williams', 'pos': 'C', 'ppg': 7.6}, {'rank': 12, 'name': 'Theo Maledon', 'pos': 'PG', 'ppg': 5.6}, {'rank': 13, 'name': 'Cody Martin', 'pos': 'SF', 'ppg': 5.0}, {'rank': 14, 'name': 'James Bouknight', 'pos': 'SG', 'ppg': 4.3}, {'rank': 15, 'name': 'Bryce McGowens', 'pos': 'G', 'ppg': 4.1}]}}\n"
     ]
    }
   ],
   "source": [
    "# DO NOT MODIFY !!!\n",
    "print('PART E')\n",
    "print('STEPS 1-2 - charlotte_hornets_dict')\n",
    "print(charlotte_hornets_dict)"
   ]
  },
  {
   "cell_type": "markdown",
   "metadata": {},
   "source": [
    "<div class=\"alert alert-success\">\n",
    "    <strong>NOTE</strong> the structure of the <b>charlotte_hornets_dict</b> dictionary data ... you have a dictionary entry that contains another dictionary entry that contains a list of dictionaries. This needs to be taken into consideration when \"drilling\" down into the data structure.\n",
    "</div>"
   ]
  },
  {
   "cell_type": "markdown",
   "metadata": {},
   "source": [
    "<span style=\"color:blue\">   \n",
    "    Start \"drilling\" down into the various levels of <b>charlotte_hornets_dict</b> ...<br>\n",
    "    3. Create a dictionary named <b>hornets_dict</b> containing the values using KEY = <b>hornets</b><br>\n",
    "    -- NOTE: You should be referencing the <b>charlotte_hornets_dict</b>\n",
    "</span>"
   ]
  },
  {
   "cell_type": "code",
   "execution_count": 37,
   "metadata": {},
   "outputs": [],
   "source": [
    "# INSERT CODE FOR STEP 3\n",
    "\n",
    "# Get the Charlotte Hornet players using 'hornets' as the KEY\n",
    "hornets_dict = charlotte_hornets_dict.get('hornets', {})"
   ]
  },
  {
   "cell_type": "code",
   "execution_count": 38,
   "metadata": {},
   "outputs": [
    {
     "name": "stdout",
     "output_type": "stream",
     "text": [
      "STEP 3  - hornets_dict\n",
      "hornets_dict is of TYPE: <class 'dict'>\n",
      "\n",
      "Contents of hornets_dict:\n",
      " {'players': [{'rank': 1, 'name': 'LaMelo Ball', 'pos': 'PG', 'ppg': 23.3}, {'rank': 2, 'name': 'Terry Rozier', 'pos': 'SG', 'ppg': 21.8}, {'rank': 3, 'name': 'Kelly Oubre Jr', 'pos': 'SG', 'ppg': 20.2}, {'rank': 4, 'name': 'P.J. Washington', 'pos': 'PF', 'ppg': 15.2}, {'rank': 5, 'name': 'Gordon Hayward', 'pos': 'SF', 'ppg': 13.9}, {'rank': 6, 'name': 'Mason Plumlee', 'pos': 'C', 'ppg': 12.2}, {'rank': 7, 'name': 'Svi Mykhailiuk', 'pos': 'SG', 'ppg': 12.0}, {'rank': 8, 'name': 'Jalen McDaniels', 'pos': 'PF', 'ppg': 10.6}, {'rank': 9, 'name': 'Dennis Smith Jr', 'pos': 'PG', 'ppg': 8.4}, {'rank': 10, 'name': 'Nick Richards', 'pos': 'C', 'ppg': 8.0}, {'rank': 11, 'name': 'Mark Williams', 'pos': 'C', 'ppg': 7.6}, {'rank': 12, 'name': 'Theo Maledon', 'pos': 'PG', 'ppg': 5.6}, {'rank': 13, 'name': 'Cody Martin', 'pos': 'SF', 'ppg': 5.0}, {'rank': 14, 'name': 'James Bouknight', 'pos': 'SG', 'ppg': 4.3}, {'rank': 15, 'name': 'Bryce McGowens', 'pos': 'G', 'ppg': 4.1}]}\n"
     ]
    }
   ],
   "source": [
    "# DO NOT MODIFY !!!\n",
    "print('STEP 3  - hornets_dict')\n",
    "print(f'hornets_dict is of TYPE: {type(hornets_dict)}\\n')\n",
    "print(f'Contents of hornets_dict:\\n {hornets_dict}')"
   ]
  },
  {
   "cell_type": "markdown",
   "metadata": {},
   "source": [
    "<span style=\"color:blue\">\n",
    "    Now \"drill\" down another level to get the <b>players</b> LIST ... using <b>hornets_dict</b> from previous step.<br>    \n",
    "    4. Create a Python LIST named <b>players_list</b> containing the values using KEY = <b>players</b>\n",
    "</span>"
   ]
  },
  {
   "cell_type": "code",
   "execution_count": 35,
   "metadata": {},
   "outputs": [],
   "source": [
    "# INSERT CODE FOR STEP 4\n",
    "\n",
    "# Get the player list using 'players' as the KEY\n",
    "players_list = hornets_dict.get('players', [])"
   ]
  },
  {
   "cell_type": "code",
   "execution_count": 36,
   "metadata": {},
   "outputs": [
    {
     "name": "stdout",
     "output_type": "stream",
     "text": [
      "STEP 4  - players_list\n",
      "players_list is of TYPE: <class 'list'>\n",
      "\n",
      "Contents of players_list:\n",
      " [{'rank': 1, 'name': 'LaMelo Ball', 'pos': 'PG', 'ppg': 23.3}, {'rank': 2, 'name': 'Terry Rozier', 'pos': 'SG', 'ppg': 21.8}, {'rank': 3, 'name': 'Kelly Oubre Jr', 'pos': 'SG', 'ppg': 20.2}, {'rank': 4, 'name': 'P.J. Washington', 'pos': 'PF', 'ppg': 15.2}, {'rank': 5, 'name': 'Gordon Hayward', 'pos': 'SF', 'ppg': 13.9}, {'rank': 6, 'name': 'Mason Plumlee', 'pos': 'C', 'ppg': 12.2}, {'rank': 7, 'name': 'Svi Mykhailiuk', 'pos': 'SG', 'ppg': 12.0}, {'rank': 8, 'name': 'Jalen McDaniels', 'pos': 'PF', 'ppg': 10.6}, {'rank': 9, 'name': 'Dennis Smith Jr', 'pos': 'PG', 'ppg': 8.4}, {'rank': 10, 'name': 'Nick Richards', 'pos': 'C', 'ppg': 8.0}, {'rank': 11, 'name': 'Mark Williams', 'pos': 'C', 'ppg': 7.6}, {'rank': 12, 'name': 'Theo Maledon', 'pos': 'PG', 'ppg': 5.6}, {'rank': 13, 'name': 'Cody Martin', 'pos': 'SF', 'ppg': 5.0}, {'rank': 14, 'name': 'James Bouknight', 'pos': 'SG', 'ppg': 4.3}, {'rank': 15, 'name': 'Bryce McGowens', 'pos': 'G', 'ppg': 4.1}]\n"
     ]
    }
   ],
   "source": [
    "# DO NOT MODIFY !!!\n",
    "print('STEP 4  - players_list')\n",
    "print(f'players_list is of TYPE: {type(players_list)}\\n')\n",
    "print(f'Contents of players_list:\\n {players_list}')"
   ]
  },
  {
   "cell_type": "markdown",
   "metadata": {},
   "source": [
    "<span style=\"color:blue\">  \n",
    "Now create a new LIST to collect the player data (rank,name,pos,ppg) -- one entry per player ...<br>    \n",
    "    5. Create a Python LIST named <b>player_data</b> using the following formatting:<br>\n",
    "    - 5a. Each entry in the list should contain the <b>values</b> for <b>keys = 'rank', 'name', 'pos' and 'ppg'</b><br>\n",
    "    - 5b. Concatenate the values to create a single STRING with values separated by a <b>SPACE COLON SPACE (' : ')</b><br>\n",
    "    - <b>HINT:</b> Use a FOR-loop to process each entry in players_list<br>\n",
    "    \n",
    "    Each list entry should look like: <b>1 : LaMelo Ball : PG : 23.3</b>\n",
    "</span>"
   ]
  },
  {
   "cell_type": "code",
   "execution_count": 39,
   "metadata": {},
   "outputs": [],
   "source": [
    "# INSERT CODE FOR STEP 5\n",
    "\n",
    "# Get the player data using keys: 'rank', 'name', 'pos' and 'ppg'\n",
    "player_data = []\n",
    "for player in players_list:\n",
    "    player_entry = f\"{player['rank']} : {player['name']} : {player['pos']} : {player['ppg']}\"\n",
    "    player_data.append(player_entry)\n"
   ]
  },
  {
   "cell_type": "code",
   "execution_count": 40,
   "metadata": {},
   "outputs": [
    {
     "name": "stdout",
     "output_type": "stream",
     "text": [
      "STEP 5  - player_data\n",
      "1 : LaMelo Ball : PG : 23.3\n",
      "2 : Terry Rozier : SG : 21.8\n",
      "3 : Kelly Oubre Jr : SG : 20.2\n",
      "4 : P.J. Washington : PF : 15.2\n",
      "5 : Gordon Hayward : SF : 13.9\n",
      "6 : Mason Plumlee : C : 12.2\n",
      "7 : Svi Mykhailiuk : SG : 12.0\n",
      "8 : Jalen McDaniels : PF : 10.6\n",
      "9 : Dennis Smith Jr : PG : 8.4\n",
      "10 : Nick Richards : C : 8.0\n",
      "11 : Mark Williams : C : 7.6\n",
      "12 : Theo Maledon : PG : 5.6\n",
      "13 : Cody Martin : SF : 5.0\n",
      "14 : James Bouknight : SG : 4.3\n",
      "15 : Bryce McGowens : G : 4.1\n"
     ]
    }
   ],
   "source": [
    "# DO NOT MODIFY !!!\n",
    "print('STEP 5  - player_data')\n",
    "# Use for loop to loop thru the player_data printing line of player info\n",
    "for p in player_data:\n",
    "    print(p)"
   ]
  },
  {
   "cell_type": "markdown",
   "metadata": {},
   "source": [
    "### Part F - Writing a ZIP file (10 points)"
   ]
  },
  {
   "cell_type": "markdown",
   "metadata": {},
   "source": [
    "#### Write a ZIP file 'CSC221Lab7.zip' containing 2 files from the lab\n",
    "\n",
    "<b>What is a zip file?</b>\n",
    "\n",
    "You've all probably created and received (extracted) ZIP files before, but have you created one programmatically? <br>\n",
    "A ZIP file is an <b>archive file format</b> used to compression files. <br>\n",
    "ZIP algorithms use \"lossless compression\", which means the original file(s) are perfectly reconstructed when the ZIP file is \"unzipped\" -- nothing is lost.<br><br>\n",
    "<b>Here is a GeeksForGeeks reference that further explains ZIP:</b>\n",
    "\n",
    "> REF: https://www.geeksforgeeks.org/working-zip-files-python/"
   ]
  },
  {
   "cell_type": "markdown",
   "metadata": {},
   "source": [
    "<span style=\"color:blue\">\n",
    "Use <strong>zipfile</strong> to create a ZIP file containing the CSV & JSON files created during this lab <br>\n",
    "    1. Create a list named <strong>files_to_zip</strong> with the following filenames:<br>\n",
    "        <ol>\n",
    "        <li>charlotte_hornets_stats.csv</li>\n",
    "        <li>desserts.json</li>\n",
    "        </ol>\n",
    "    2. Use <strong>zipfile.ZipFile()</strong> to create a ZIP file named <strong>CSC221Lab7.zip</strong> containing the <strong>TWO (2)</strong> files in <strong>files_to_zip</strong> <br>\n",
    "    3. Print the message <strong>\"<i>zipfilename</i> created successfully\"</strong> where <i>zipfilename</i> is the name of the ZIP file.\n",
    "</span>"
   ]
  },
  {
   "cell_type": "code",
   "execution_count": 42,
   "metadata": {},
   "outputs": [
    {
     "name": "stdout",
     "output_type": "stream",
     "text": [
      "CSC221Lab7.zip created successfully\n"
     ]
    }
   ],
   "source": [
    "# Import zipfile libraries\n",
    "import zipfile\n",
    "\n",
    "# Write a ZIP file using Python zipfile.Zipfile()\n",
    "\n",
    "# INSERT CODE FOR STEPS 1-3\n",
    "files_to_zip = [\"charlotte_hornets_stats.csv\", \"desserts.json\"]\n",
    "with zipfile.ZipFile('CSC221Lab7.zip', 'w') as zip_file:\n",
    "    for file in files_to_zip:\n",
    "        zip_file.write(file)\n",
    "\n",
    "print('CSC221Lab7.zip created successfully')"
   ]
  },
  {
   "cell_type": "code",
   "execution_count": null,
   "metadata": {},
   "outputs": [],
   "source": []
  }
 ],
 "metadata": {
  "kernelspec": {
   "display_name": "Python 3 (ipykernel)",
   "language": "python",
   "name": "python3"
  },
  "language_info": {
   "codemirror_mode": {
    "name": "ipython",
    "version": 3
   },
   "file_extension": ".py",
   "mimetype": "text/x-python",
   "name": "python",
   "nbconvert_exporter": "python",
   "pygments_lexer": "ipython3",
   "version": "3.12.0"
  }
 },
 "nbformat": 4,
 "nbformat_minor": 4
}
