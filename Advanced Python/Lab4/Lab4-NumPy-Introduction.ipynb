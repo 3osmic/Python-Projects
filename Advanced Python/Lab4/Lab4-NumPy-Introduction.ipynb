{
 "cells": [
  {
   "cell_type": "markdown",
   "metadata": {},
   "source": [
    "# Lab 4: NumPy Introduction"
   ]
  },
  {
   "cell_type": "markdown",
   "metadata": {},
   "source": [
    "### Author: <font color='red'>Aliyah Lewis</font>"
   ]
  },
  {
   "cell_type": "markdown",
   "metadata": {},
   "source": [
    "## Verify installation of NumPy"
   ]
  },
  {
   "cell_type": "markdown",
   "metadata": {},
   "source": [
    "If the NumPy library is installed, it can be imported with the standard Python import statement.\n",
    "NumPy is usually imported using the **np** alias. The version of NumPy can be verified with the \\_\\_version\\_\\_ command.\n"
   ]
  },
  {
   "cell_type": "code",
   "execution_count": 1,
   "metadata": {},
   "outputs": [
    {
     "data": {
      "text/plain": [
       "'1.26.4'"
      ]
     },
     "execution_count": 1,
     "metadata": {},
     "output_type": "execute_result"
    }
   ],
   "source": [
    "# Make sure NumPy is installed (see Lab Instructions if you get an error here)\n",
    "import numpy as np\n",
    "np.__version__"
   ]
  },
  {
   "cell_type": "markdown",
   "metadata": {},
   "source": [
    "## Intro to NumPy (100 pts)"
   ]
  },
  {
   "cell_type": "markdown",
   "metadata": {},
   "source": [
    "<div class=\"alert alert-block alert-warning\">\n",
    "    <b>ATTENTION:</b> Do NOT add additional print(..) statements to you code. If you need to add extra print statements for debugging purposes, please DELETE them or COMMENT THEM OUT before submitting your Lab. Thanks! </div>"
   ]
  },
  {
   "cell_type": "markdown",
   "metadata": {},
   "source": [
    "## Step A: Creating NumPy Arrays (30 pts)"
   ]
  },
  {
   "cell_type": "markdown",
   "metadata": {},
   "source": [
    "__Create a NumPy ndarray Object__\n",
    "\n",
    "NumPy works with arrays. The array object used in NumPy is called __ndarray__ which is shorthand for __N-dimensional array__ (an array with any number of dimensions). The __ndarray__ is a _homogeneous_ array, meaning all the values within the array __must be of the same datatype__.\n",
    "\n",
    "All you need to create a simple array is a __list, tuple__ or any __array-like object__ and it will be converted into an __ndarray__. Like Python, NumPy will determine the datatype based on the values used to create the array, however you CAN specify the datatype using the __dtype = 'xxxx'__ option AND you can change the datatype using the __astype()__ method.\n",
    "\n",
    "NumPy has several functions that can be used to help you create arrays with __initial values__. A list of the creation routines can be found on the NumPy API reference website: \n",
    "\n",
    "- https://numpy.org/doc/stable/reference/routines.array-creation.html \n",
    "\n",
    "__NOTE: Shape values are specified as (row,col) so (2,3) would create a 2 row x 3 column array.__\n",
    "              \n",
    "\n",
    "Here are a few commonly used routines:\n",
    "- np.zeros ~ returns an array of a given shape and type filled with __zeros__ (0)\n",
    "- np.ones  ~ returns an array of a given shape and type filled with __ones__ (1) \n",
    "- np.full  ~ returns an array of a given shape and type filled with a specified \"fill_value\"\n",
    "- np.empty ~ returns an array of a given shape and type without initializing entries\n",
    "- np.eye   ~ returns a 2D-array with __1's on a diagonal__ (specified using k=# param) and __0's elsewhere__\n",
    "      EXAMPLES: np.eye(5, k=3)               np.eye(5, k=-1)\n",
    "                0 0 0 1 0                    0 0 0 0 0\n",
    "                0 0 0 0 1                    1 0 0 0 0\n",
    "                0 0 0 0 0                    0 1 0 0 0\n",
    "                0 0 0 0 0                    0 0 1 0 0\n",
    "                0 0 0 0 0                    0 0 0 1 0\n",
    "- np.identity ~ returns a __square__ array with ones on the __main__ diagonal (similar to np.eye() with k=0)\n",
    "      EXAMPLE: np.identity(5)\n",
    "                1 0 0 0 0\n",
    "                0 1 0 0 0\n",
    "                0 0 1 0 0\n",
    "                0 0 0 1 0\n",
    "                0 0 0 0 1\n",
    "\n",
    "Let's create a few ..."
   ]
  },
  {
   "cell_type": "markdown",
   "metadata": {},
   "source": [
    "<span style=\"color:blue\">\n",
    "1. Create a <strong>NumPy</strong> array <strong>A1</strong> using a <strong>list</strong> containing the values <strong>[1,2,4,8,16,32,64,128,254]</strong> letting datatype default. <br>\n",
    "2. Create a <strong>NumPy</strong> array <strong>A2</strong> using a <strong>list</strong> containing the values <strong>[1,2,4,8,16,32,64,128,254]</strong> but explicitly set the <strong>data type to float (64)</strong>. <br>\n",
    "3. Create a <strong>NumPy</strong> array <strong>A3</strong> using a <strong>tuple</strong> containing the values <strong>('A','K','Q','J','10','9','8','7','6','5','4','3','2','1')</strong>. <br>    \n",
    "4. Create a <strong>2 x 4 NumPy</strong> array <strong>A4</strong> with all the values set to <strong>0</strong> and <strong>NO datatype</strong> specified <br>\n",
    "5. Create a <strong>2 x 4 NumPy</strong> array <strong>A5</strong> with all the values set to <strong>1</strong> and <strong>a datatype of 'int'</strong>. <br>       \n",
    "6. Create a <strong>3 x 4 NumPy</strong> array <strong>A6</strong> with all values set to <strong>2023</strong>. <br>\n",
    "7. Create a <strong>1 x 4 NumPy</strong> array <strong>A7</strong> without initializing the entries (Hint: empty)<br>     \n",
    "8. Create a <strong>6 x 6 NumPy</strong> array <strong>A8</strong> with the index of the diagonal <strong>k=-3</strong> values set to <strong>1</strong>. [NOTE: K is a MINUS 3] <br> \n",
    "9. Create a <strong>6 x 6 NumPy</strong> array <strong>A9</strong> with the <strong>main</strong> diagonal values set to <strong>1. [Do NOT use np.eye()!!!]</strong><br> \n",
    "10. Create a <strong>1D NumPy</strong> array <strong>A10</strong> with <strong>values that are multiples of 10 from 10 - 100 (inclusive) </strong> For example, 10, 20, 30, ... 100.\n",
    "</span>"
   ]
  },
  {
   "cell_type": "code",
   "execution_count": 2,
   "metadata": {},
   "outputs": [],
   "source": [
    "# INSERT CODE FOR STEPS 1 - 10\n",
    "A1 = np.array([1,2,4,8,16,32,64,128,254])\n",
    "A2 = np.array([1,2,4,8,16,32,64,128,254], dtype='float64')\n",
    "A3 = np.array(('A','K','Q','J','10','9','8','7','6','5','4','3','2','1'))\n",
    "A4 = np.zeros((2,4))\n",
    "A5 = np.ones((2,4), dtype=int)\n",
    "A6 = np.full((3,4),2023)\n",
    "A7 = np.empty((1,4))\n",
    "A8 = np.eye(6, k=-3)\n",
    "A9 = np.identity(6)\n",
    "A10 = np.array(range(10, 101, 10))"
   ]
  },
  {
   "cell_type": "code",
   "execution_count": 3,
   "metadata": {},
   "outputs": [
    {
     "name": "stdout",
     "output_type": "stream",
     "text": [
      "LAB 4 - PART A (A1-A10)\n",
      "A1:\n",
      " [  1   2   4   8  16  32  64 128 254]\n",
      "A2:\n",
      " [  1.   2.   4.   8.  16.  32.  64. 128. 254.]\n",
      "A3:\n",
      " ['A' 'K' 'Q' 'J' '10' '9' '8' '7' '6' '5' '4' '3' '2' '1']\n",
      "A4:\n",
      " [[0. 0. 0. 0.]\n",
      " [0. 0. 0. 0.]]\n",
      "A5:\n",
      " [[1 1 1 1]\n",
      " [1 1 1 1]]\n",
      "A6:\n",
      " [[2023 2023 2023 2023]\n",
      " [2023 2023 2023 2023]\n",
      " [2023 2023 2023 2023]]\n",
      "A7:\n",
      " [[0.00000000e+000 1.51848465e-311 1.51848465e-311 1.51848465e-311]]\n",
      "A8:\n",
      " [[0. 0. 0. 0. 0. 0.]\n",
      " [0. 0. 0. 0. 0. 0.]\n",
      " [0. 0. 0. 0. 0. 0.]\n",
      " [1. 0. 0. 0. 0. 0.]\n",
      " [0. 1. 0. 0. 0. 0.]\n",
      " [0. 0. 1. 0. 0. 0.]]\n",
      "A9:\n",
      " [[1. 0. 0. 0. 0. 0.]\n",
      " [0. 1. 0. 0. 0. 0.]\n",
      " [0. 0. 1. 0. 0. 0.]\n",
      " [0. 0. 0. 1. 0. 0.]\n",
      " [0. 0. 0. 0. 1. 0.]\n",
      " [0. 0. 0. 0. 0. 1.]]\n",
      "A10:\n",
      " [ 10  20  30  40  50  60  70  80  90 100]\n"
     ]
    }
   ],
   "source": [
    "# DO NOT MODIFY !!!\n",
    "print(\"LAB 4 - PART A (A1-A10)\")\n",
    "print(\"A1:\\n\",A1)\n",
    "print(\"A2:\\n\",A2)\n",
    "print(\"A3:\\n\",A3)\n",
    "print(\"A4:\\n\",A4)\n",
    "print(\"A5:\\n\",A5)\n",
    "print(\"A6:\\n\",A6)\n",
    "print(\"A7:\\n\",A7)\n",
    "print(\"A8:\\n\",A8)\n",
    "print(\"A9:\\n\",A9)\n",
    "print(\"A10:\\n\",A10)"
   ]
  },
  {
   "cell_type": "markdown",
   "metadata": {},
   "source": [
    "__Create a NumPy ndarray with Numerical ranges & Random__\n",
    "\n",
    "NumPy has several functions that can be used to create arrays with __numerical ranges__. \n",
    "\n",
    "A list of the numerical range routines can be found on the NumPy API reference website: \n",
    "- https://numpy.org/doc/stable/reference/routines.array-creation.html#numerical-ranges\n",
    "\n",
    "Here are a few commonly used routines:\n",
    "- np.arange(start,stop,step)   ~ return evenly spaced values within a given interval\n",
    "- np.linspace(start,stop,num)  ~ return \"num\" evenly spaced numbers over a specified interval __num defaults to 50__\n",
    "- np.logspace(start,stop,num)  ~ return \"num\" evenly spaced numbers on a log scale over a specified interval __num defaults to 50__  \n",
    "\n",
    "__NOTE:__ You also might want to create arrays of random numbers! This can be done as well using NumPy's __rand__ and __randint__ methods. __IMPORTANT ... NumPy's randint method does NOT include \"stop\" value__. As always, w3schools is a great place to look:\n",
    "\n",
    "https://www.w3schools.com/python/numpy/numpy_random.asp\n",
    "\n",
    "- rand(start,stop)  ~ returns a random float number between __0.0 and 1.0__\n",
    "- randint(start,stop) ~ returns a random number between a given range __stop value excluded__\n",
    "\n",
    "Let's try a few ..."
   ]
  },
  {
   "cell_type": "markdown",
   "metadata": {},
   "source": [
    "<span style=\"color:blue\">\n",
    "    11. Create a <strong>NumPy</strong> 1D array <strong>A11</strong> using <strong>arange</strong> with sequential values from <strong>0-81 (inclusive) by 9</strong>. For example [0 9 18 ... 81]<br>  \n",
    "    12. Create a <strong>NumPy</strong> 1D array <strong>A12</strong> using <strong>linspace</strong> with <strong>10</strong> values evenly spaced between <strong>1 - 100</strong>. <br> \n",
    "    13. Create a <strong>NumPy</strong> 1D array <strong>A13</strong> using <strong>logspace</strong> with <strong>8</strong> values evenly spaced between base start <strong>1</strong> and base stop <strong>6</strong>. <br>     \n",
    "    14. Create a <strong>NumPy</strong> 1D array <strong>A14</strong> using <strong>random</strong> to generate <strong>4</strong> random numbers between <strong>0.0 and 1.0</strong>. <br>\n",
    "    15. Create a <strong>NumPy</strong> 1D array <strong>A15</strong> using <strong>randint</strong> to generate <strong>6</strong> random integers between <strong>10 - 20 (inclusive)</strong>. <br>\n",
    "</span>"
   ]
  },
  {
   "cell_type": "code",
   "execution_count": 4,
   "metadata": {},
   "outputs": [],
   "source": [
    "from numpy import random\n",
    "# INSERT CODE FOR STEPS 11 - 15\n",
    "A11 = np.arange(0, 82, 9)\n",
    "A12 = np.linspace(1, 100, 10)\n",
    "A13 = np.logspace(1, 6, 8)\n",
    "A14 = np.random.rand(4)\n",
    "A15 = np.random.randint(10, 21, size=(6))"
   ]
  },
  {
   "cell_type": "code",
   "execution_count": 5,
   "metadata": {},
   "outputs": [
    {
     "name": "stdout",
     "output_type": "stream",
     "text": [
      "LAB 4 - PART A (A11-A15)\n",
      "A11:\n",
      " [ 0  9 18 27 36 45 54 63 72 81]\n",
      "A12:\n",
      " [  1.  12.  23.  34.  45.  56.  67.  78.  89. 100.]\n",
      "A13:\n",
      " [1.00000000e+01 5.17947468e+01 2.68269580e+02 1.38949549e+03\n",
      " 7.19685673e+03 3.72759372e+04 1.93069773e+05 1.00000000e+06]\n",
      "A14:\n",
      " [0.49303759 0.05460366 0.75176039 0.13043933]\n",
      "A15:\n",
      " [12 13 16 14 17 15]\n"
     ]
    }
   ],
   "source": [
    "# DO NOT MODIFY !!!\n",
    "print(\"LAB 4 - PART A (A11-A15)\")\n",
    "print(\"A11:\\n\",A11)\n",
    "print(\"A12:\\n\",A12)\n",
    "print(\"A13:\\n\",A13)\n",
    "print(\"A14:\\n\",A14)\n",
    "print(\"A15:\\n\",A15)"
   ]
  },
  {
   "cell_type": "markdown",
   "metadata": {},
   "source": [
    "## Step B: The Basics of NumPy Arrays (40 pts)\n",
    "### Array Attributes, Indexing, Slicing, Reshaping"
   ]
  },
  {
   "cell_type": "markdown",
   "metadata": {},
   "source": [
    "__Review the Attributes of ndarray Objects__\n",
    "\n",
    "As with other data objects, you can determine various attributes associated with each ndarray.\n",
    "A list of the array attributes can be found on the NumPy API reference website:\n",
    "- https://numpy.org/doc/stable/reference/arrays.ndarray.html#array-attributes\n",
    "\n",
    "Here are a few:\n",
    "- ndarray.ndim  ~ number of array dimensions\n",
    "- ndarray.shape ~ tuple of array dimensions\n",
    "- ndarray.size  ~ number of elements in the array\n",
    "- ndarray.dtype ~ data-type of the array's elements\n",
    "- ndarray.itemsize ~ length of one array element in bytes\n",
    "- ndarray.nbytes   ~ total bytes consumed by the elements of the array\n",
    "\n",
    "\n",
    "Let's create an array and check it's attributes ...\n",
    "\n",
    "__ARRAY ATTRIBUTES__"
   ]
  },
  {
   "cell_type": "markdown",
   "metadata": {},
   "source": [
    "<span style=\"color:blue\">\n",
    "    1. Create a <strong>4 x 6 NumPy</strong> array <strong>B1</strong> filled with <strong>2023</strong> of type <strong>int16</strong>. <br>\n",
    "    2. Set <strong>B2</strong> = the <strong>number of dimensions</strong> of B1. <br>   \n",
    "    3. Set <strong>B3</strong> = the <strong>shape</strong> of B1. <br>  \n",
    "    4. Set <strong>B4</strong> = the <strong>number of elements</strong> of B1. <br>  \n",
    "    5. Set <strong>B5</strong> = the <strong>size of each element</strong> of B1. <br> \n",
    "</span>"
   ]
  },
  {
   "cell_type": "code",
   "execution_count": 21,
   "metadata": {},
   "outputs": [],
   "source": [
    "# INSERT CODE FOR STEPS 1 - 5\n",
    "B1 = np.full((4,6), 2023, dtype='int16')\n",
    "B2 = B1.ndim\n",
    "B3 = B1.shape\n",
    "B4 = B1.size\n",
    "B5 = B1.itemsize"
   ]
  },
  {
   "cell_type": "code",
   "execution_count": 22,
   "metadata": {},
   "outputs": [
    {
     "name": "stdout",
     "output_type": "stream",
     "text": [
      "LAB 4 - PART B (B1-B5)\n",
      "B1:\n",
      " [[2023 2023 2023 2023 2023 2023]\n",
      " [2023 2023 2023 2023 2023 2023]\n",
      " [2023 2023 2023 2023 2023 2023]\n",
      " [2023 2023 2023 2023 2023 2023]]\n",
      "B2 ndim: 2\n",
      "B3 shape: (4, 6)\n",
      "B4 size: 24\n",
      "B5 itemsize: 2\n"
     ]
    }
   ],
   "source": [
    "# DO NOT MODIFY !!!\n",
    "print(\"LAB 4 - PART B (B1-B5)\")\n",
    "print(\"B1:\\n\",B1)\n",
    "print(\"B2 ndim:\",B2)\n",
    "print(\"B3 shape:\",B3)\n",
    "print(\"B4 size:\",B4)\n",
    "print(\"B5 itemsize:\",B5)"
   ]
  },
  {
   "cell_type": "markdown",
   "metadata": {},
   "source": [
    "__Review Array Indexing & Slicing__\n",
    "\n",
    "As with regular Python arrays, __ndarrays__ can be indexed the same as in Python, __array[__ _index_ __]__. Array indexing is the same as accessing an array element -- you refer to the element's index number. \n",
    "\n",
    "And, as with regular Python arrays, __ndarrays__ can be sliced using the extended Python slicing syntax, __array[__   _start:end:step_ __]__. \n",
    "\n",
    "To make things even more interesting, you can combine slicing & indexing to specify the indexes you want. <br>\n",
    "For example, to get the 1st row in a 2D array, you can simply specify __2Darray[0,:]__ <br>\n",
    "- where 0 = index of row[0] and \":\" represents ALL the columns.\n",
    "\n",
    "NumPy supports \"fancy indexing\" which means you can pass in a LIST of indexes to access multiple items in an array.<br> \n",
    "For example, __1Darray[[1,3,4]]__ specifies the elements at 1Darray[1], 1Darray[3] and 1Darray[4] \n",
    "\n",
    "w3schools.com has some good information on NumPy Array Indexing & Slicing:\n",
    "- https://www.w3schools.com/python/numpy_array_indexing.asp\n",
    "- https://www.w3schools.com/python/numpy_array_slicing.asp\n",
    "\n",
    "        \n",
    "Let's create an array and and do some indexing & slicing..."
   ]
  },
  {
   "cell_type": "markdown",
   "metadata": {},
   "source": [
    "<div class=\"alert alert-block alert-info\">\n",
    "    <b>TERMINOLOGY CLARIFICATION FOR THESE QUESTIONS:</b>\n",
    "    \n",
    "    - If asking for element at INDEX 5 ==> array[5]\n",
    "    - If asking for 5th element ==> array[4]\n",
    "    - If asking for 1st row ==> row 0\n",
    "    - If asking for 2nd col ==> col 1\n",
    "\n",
    "__REMEMBER: Array index values start with 0 !__ </div>"
   ]
  },
  {
   "cell_type": "markdown",
   "metadata": {},
   "source": [
    "#### ARRAY INDEXING"
   ]
  },
  {
   "cell_type": "markdown",
   "metadata": {},
   "source": [
    "<span style=\"color:blue\">\n",
    "    6. Create a <strong>NumPy</strong> array <strong>B6</strong> using <strong>arange</strong> with values <strong>2000 - 2023 (inclusive)</strong>. <br>\n",
    "    7. Set <strong>B7</strong> = the <strong>6th</strong> element in B6.<br>\n",
    "    8. Set <strong>B8</strong> = the <strong>last 4</strong> elements in B6 using <strong>negative indexing</strong> <br> \n",
    "    9. Set <strong>B9</strong> = <strong>every 2nd element</strong> of B6 (starting with the 1st element). <br>  \n",
    "    10. Set <strong>B10</strong> = the <strong>11th thru 21st elements (inclusive)</strong> of B6\n",
    "</span>"
   ]
  },
  {
   "cell_type": "code",
   "execution_count": 91,
   "metadata": {},
   "outputs": [],
   "source": [
    "# INSERT CODE FOR STEPS 6 - 10\n",
    "B6 = np.arange(2000, 2024)\n",
    "B7 = B6[5]\n",
    "B8 = B6[-4:]\n",
    "B9 = B6[1:24:2]\n",
    "B10 = B6[11:22]"
   ]
  },
  {
   "cell_type": "code",
   "execution_count": 92,
   "metadata": {},
   "outputs": [
    {
     "name": "stdout",
     "output_type": "stream",
     "text": [
      "LAB 4 - PART B (B6-B10)\n",
      "B6:\n",
      " [2000 2001 2002 2003 2004 2005 2006 2007 2008 2009 2010 2011 2012 2013\n",
      " 2014 2015 2016 2017 2018 2019 2020 2021 2022 2023]\n",
      "B7:\n",
      " 2005\n",
      "B8:\n",
      " [2020 2021 2022 2023]\n",
      "B9:\n",
      " [2001 2003 2005 2007 2009 2011 2013 2015 2017 2019 2021 2023]\n",
      "B10:\n",
      " [2011 2012 2013 2014 2015 2016 2017 2018 2019 2020 2021]\n"
     ]
    }
   ],
   "source": [
    "# DO NOT MODIFY !!!\n",
    "print(\"LAB 4 - PART B (B6-B10)\")\n",
    "print(\"B6:\\n\",B6)\n",
    "print(\"B7:\\n\",B7)\n",
    "print(\"B8:\\n\",B8)\n",
    "print(\"B9:\\n\",B9)\n",
    "print(\"B10:\\n\",B10)"
   ]
  },
  {
   "cell_type": "markdown",
   "metadata": {},
   "source": [
    "#### ARRAY SLICING"
   ]
  },
  {
   "cell_type": "markdown",
   "metadata": {},
   "source": [
    "<span style=\"color:blue\">\n",
    "    11. Create a <strong>5 x 5 NumPy</strong> array <strong>B11</strong> using values:<br>\n",
    "    <strong>[ [10,11,12,13,14], [20,21,22,23,24], [30,31,32,33,34], [40,41,42,43,44], [50,51,52,53,54] ]</strong>. <br><br>\n",
    "    12. Set <strong>B12</strong> = the <strong>shape</strong> of B11 <br><br>\n",
    " Using indexing and slicing ... remember slicing values are [start,stop,step] and index values are (row,col) <br>\n",
    "    13. Set <strong>B13</strong> = the <strong>2nd & 3rd row</strong> of B11. <br> \n",
    "    14. Set <strong>B14</strong> = the <strong>5th column</strong> of B11. <br>\n",
    "    15. Set <strong>B15</strong> = the <strong>main diagonal elements</strong> in B11. (ex: 10,21,32 ...)<br>\n",
    "</span>"
   ]
  },
  {
   "cell_type": "code",
   "execution_count": 95,
   "metadata": {},
   "outputs": [],
   "source": [
    "# INSERT CODE FOR STEPS 11 - 15\n",
    "B11 = np.array([[10, 11, 12, 13, 14],\n",
    "    [20, 21, 22, 23, 24],\n",
    "    [30, 31, 32, 33, 34],\n",
    "    [40, 41, 42, 43, 44],\n",
    "    [50, 51, 52, 53, 54]])\n",
    "B12 = B11.shape\n",
    "B13 = B11[1:3]\n",
    "B14 = B11[4]\n",
    "B15 = B11.diagonal()"
   ]
  },
  {
   "cell_type": "code",
   "execution_count": 96,
   "metadata": {},
   "outputs": [
    {
     "name": "stdout",
     "output_type": "stream",
     "text": [
      "LAB 4 - PART B (B1-B15)\n",
      "B11:\n",
      " [[10 11 12 13 14]\n",
      " [20 21 22 23 24]\n",
      " [30 31 32 33 34]\n",
      " [40 41 42 43 44]\n",
      " [50 51 52 53 54]]\n",
      "B12 dimensions: (5, 5)\n",
      "B13 ROW 2 & 3:\n",
      " [[20 21 22 23 24]\n",
      " [30 31 32 33 34]]\n",
      "B14 COL 5:\n",
      " [50 51 52 53 54]\n",
      "B15 CENTER:\n",
      " [10 21 32 43 54]\n"
     ]
    }
   ],
   "source": [
    "# DO NOT MODIFY !!!\n",
    "print(\"LAB 4 - PART B (B1-B15)\")\n",
    "print(\"B11:\\n\",B11)\n",
    "print(\"B12 dimensions:\", B12)\n",
    "print(\"B13 ROW 2 & 3:\\n\",B13)\n",
    "print(\"B14 COL 5:\\n\",B14)\n",
    "print(\"B15 CENTER:\\n\",B15)"
   ]
  },
  {
   "cell_type": "markdown",
   "metadata": {},
   "source": [
    "__Review Array Shaping__\n",
    "\n",
    "The shape of an array is the number of elements in each dimension -- this is the __shape__ attribute we looked at earlier. \n",
    "\n",
    "In NumPy, you can __reshape__ an array. Reshaping an array allows you to add or remove dimensions or change the number of elements in each dimension. A list of shape manipulation routines can be found on the NumPy API reference website: \n",
    "\n",
    "    - https://numpy.org/doc/stable/reference/arrays.ndarray.html#shape-manipulation\n",
    "\n",
    "w3schools.com has some good information on NumPy Array Reshaping, as well:\n",
    "    - https://www.w3schools.com/python/numpy_array_reshape.asp\n",
    "        \n",
    "Let's create an array and do some reshaping ...\n",
    "\n",
    "__ARRAY SHAPING__"
   ]
  },
  {
   "cell_type": "markdown",
   "metadata": {},
   "source": [
    "<span style=\"color:blue\">\n",
    "16. Create a <strong>NumPy</strong> array <strong>B16</strong> using <strong>arange</strong> to generate values <strong>110 - 121 (inclusive)</strong> and <strong>reshape</strong> it into a 2D <strong>2 x 6</strong> array. <br>\n",
    "17. Create a new array <strong>B17</strong> by <strong>reshaping B16</strong> into a 2D <strong>4 x 3</strong> array.<br>\n",
    "18. Create a new array <strong>B18</strong> by <strong>reshaping B16</strong> into a 3D <strong>2 x 3 x 2</strong> array.<br>   \n",
    "19. Create a new array <strong>B19</strong> by <strong>reshaping B16</strong> into a <strong>1D array</strong>. [You <strong>MUST</strong> use <strong>reshape(...)</strong> to do this! Do <strong>NOT</strong> use flatten()!]<br> \n",
    "20. Create a new array <strong>B20</strong> by <strong>reshaping B16</strong> into a <strong>1D array</strong>. [Now use the <strong>flatten()</strong> method!]<br>\n",
    "</span>"
   ]
  },
  {
   "cell_type": "code",
   "execution_count": 128,
   "metadata": {},
   "outputs": [],
   "source": [
    "#############################################################################################\n",
    "# NOTE: You can create & reshape in a single command. Ex. B = np.arange(1,5).reshape((2,2))\n",
    "#############################################################################################\n",
    "# INSERT CODE FOR STEPS 16 - 20\n",
    "B16 = np.arange(110, 122)\n",
    "B16 = B16.reshape(2,6)\n",
    "B17 = B16.reshape(4,3)\n",
    "B18 = B16.reshape(2,3,2)\n",
    "B19 = B16.reshape(-1)\n",
    "B20 = B16.flatten()"
   ]
  },
  {
   "cell_type": "code",
   "execution_count": 129,
   "metadata": {},
   "outputs": [
    {
     "name": "stdout",
     "output_type": "stream",
     "text": [
      "LAB 4 - PART B (B16-B20)\n",
      "B16 (2x6):\n",
      " [[110 111 112 113 114 115]\n",
      " [116 117 118 119 120 121]]\n",
      "B17 (4x3):\n",
      " [[110 111 112]\n",
      " [113 114 115]\n",
      " [116 117 118]\n",
      " [119 120 121]]\n",
      "B18 (2x3x2):\n",
      " [[[110 111]\n",
      "  [112 113]\n",
      "  [114 115]]\n",
      "\n",
      " [[116 117]\n",
      "  [118 119]\n",
      "  [120 121]]]\n",
      "B19:\n",
      " [110 111 112 113 114 115 116 117 118 119 120 121]\n",
      "B20:\n",
      " [110 111 112 113 114 115 116 117 118 119 120 121]\n"
     ]
    }
   ],
   "source": [
    "# DO NOT MODIFY !!!\n",
    "print(\"LAB 4 - PART B (B16-B20)\")\n",
    "print(\"B16 (2x6):\\n\",B16)\n",
    "print(\"B17 (4x3):\\n\",B17)\n",
    "print(\"B18 (2x3x2):\\n\",B18)\n",
    "print(\"B19:\\n\",B19)\n",
    "print(\"B20:\\n\",B20)"
   ]
  },
  {
   "cell_type": "markdown",
   "metadata": {},
   "source": [
    "## Step C: Universal Functions (ufuncs) (10 pts)\n",
    "### Add, Subtract, Multiply and Divide"
   ]
  },
  {
   "cell_type": "markdown",
   "metadata": {},
   "source": [
    "__Review UFUNCS__\n",
    "\n",
    "UFUNCS stands for \"Universal Functions\" which are NumPy functions that operat on the __ndarray__ object.\n",
    "UFUNCS are used to implement _vectorization_ in NumPy which is faster than iterating over individual elements. There are over 60 univeral functions defined in NumPy, however here we will only look at a small subset -- Math operations. A list of Math-related Universal functions (ufunc) can be found on the NumPy API reference website: \n",
    "\n",
    "- https://numpy.org/doc/stable/reference/ufuncs.html#math-operations\n",
    "        \n",
    "Here are a just a few:\n",
    "- add(...)      ~ add arguments element-wise\n",
    "- subtract(...) ~ subtract arguments element-wise\n",
    "- multiply(...) ~ multiple arguments element-wise\n",
    "- divide(...)   ~ return a true division of the inputs element-wise\n",
    "- mod(...)      ~ return element-wise remainder of division\n",
    "\n",
    "Let's create an array and do some math operations  ..."
   ]
  },
  {
   "cell_type": "markdown",
   "metadata": {},
   "source": [
    "<span style=\"color:blue\">\n",
    "1. Create TWO <strong>1x9 NumPy arrays</strong>...<br>\n",
    "-- Array <strong>C1</strong> with values <strong>[1,2,3,4,5,6,7,8,9]</strong>. <br>\n",
    "-- Array <strong>two</strong> with values <strong>[2,2,2,2,2,2,2,2,2]</strong>. <br>\n",
    "2. Create a <strong>NumPy</strong> array <strong>C2</strong> by adding <strong>array two</strong> to <strong>C1</strong>.<br>\n",
    "3. Create a <strong>NumPy</strong> array <strong>C3</strong> by multiplying by <strong>array two</strong> to <strong>C1</strong>..<br>\n",
    "4. Create a <strong>NumPy</strong> array <strong>C4</strong> by subtracting <strong>array two</strong> to <strong>C1</strong>..<br>   \n",
    "5. Create a <strong>NumPy</strong> array <strong>C5</strong> by getting the <strong>remainder of C1 divided by array two</strong>\n",
    "</span>"
   ]
  },
  {
   "cell_type": "code",
   "execution_count": 138,
   "metadata": {},
   "outputs": [],
   "source": [
    "# INSERT CODE FOR STEPS 1 - 5\n",
    "C1 = np.array([1,2,3,4,5,6,7,8,9])\n",
    "two = np.array([2,2,2,2,2,2,2,2,2])\n",
    "C2 = np.add(two, C1)\n",
    "C3 = np.multiply(two, C1)\n",
    "C4 = np.subtract(two, C1)\n",
    "C5 = np.mod(C1, two)"
   ]
  },
  {
   "cell_type": "code",
   "execution_count": 139,
   "metadata": {},
   "outputs": [
    {
     "name": "stdout",
     "output_type": "stream",
     "text": [
      "LAB 4 - PART C (C1-C5)\n",
      "C1:\n",
      " [1 2 3 4 5 6 7 8 9]\n",
      "two:\n",
      " [2 2 2 2 2 2 2 2 2]\n",
      "C2:\n",
      " [ 3  4  5  6  7  8  9 10 11]\n",
      "C3:\n",
      " [ 2  4  6  8 10 12 14 16 18]\n",
      "C4:\n",
      " [ 1  0 -1 -2 -3 -4 -5 -6 -7]\n",
      "C5:\n",
      " [1 0 1 0 1 0 1 0 1]\n"
     ]
    }
   ],
   "source": [
    "# DO NOT MODIFY !!!\n",
    "print(\"LAB 4 - PART C (C1-C5)\")\n",
    "print(\"C1:\\n\",C1)\n",
    "print(\"two:\\n\",two)\n",
    "print(\"C2:\\n\",C2)\n",
    "print(\"C3:\\n\",C3)\n",
    "print(\"C4:\\n\",C4)\n",
    "print(\"C5:\\n\",C5)"
   ]
  },
  {
   "cell_type": "markdown",
   "metadata": {},
   "source": [
    "## Step D: Math & Statistics (20 pts)"
   ]
  },
  {
   "cell_type": "markdown",
   "metadata": {},
   "source": [
    "__Review Math & Statistics Functions__\n",
    "\n",
    "NumPy is used quite a bit for math & statistics, so let's take a look at some of the many math & statistics functions available. \n",
    "\n",
    "A list of the Mathematical and Statistics functions can be found on the NumPy API reference website:\n",
    "\n",
    "- https://numpy.org/doc/stable/reference/routines.math.html\n",
    "- https://numpy.org/doc/stable/reference/routines.statistics.html\n",
    "        \n",
    "__NOTE:__ axis=0 is by column, axis=1 is by row\n",
    "\n",
    "Here are just a few:\n",
    "- amin(...)    ~ return the minimum of an array or minimum along an axis.\n",
    "-- if axis=0, returns array containing smallest element in each column\n",
    "-- if axis=1, returns array containing smallest element in each row\n",
    "- amax(...)    ~ return the maximum of an array or maximum along an axis.\n",
    "-- if axis=0, returns array containing largest element in each column\n",
    "-- if axis=1, returns array containing largest element in each row\n",
    "- median(...)  ~ compute the median along the specified axis.\n",
    "- average(...) ~ compute the weighted average along the specified axis.\n",
    "- mean(...)    ~ compute the arithmetic mean along the specified axis.\n",
    "- std(...)     ~ compute the standard deviation along the specified axis.\n",
    "\n",
    "\n",
    "Let's create an array and do some statistical operations  ...\n",
    "\n",
    "__AMIN, AMAX, MIN, MAX, MEDIAN, AVERAGE, MEAN, and STD DEV__"
   ]
  },
  {
   "cell_type": "markdown",
   "metadata": {},
   "source": [
    "<span style=\"color:blue\">\n",
    "    1. Create a <strong>3x3 NumPy</strong> array <strong>D1</strong> using the following list of values \n",
    "    <strong>[85,83,81,99,97,92,77,75,77]</strong> then <strong>.reshape((3,3))</strong><br>\n",
    "    2. Set D2 = the <strong>minimum along axis=0</strong><br>\n",
    "    3. Set D3 = the <strong>maximum along axis=1</strong><br>\n",
    "    4. Create a <strong>1D-NumPy</strong> array <strong>D4</strong> using <strong>array</strong> using the list of values <strong>[87,80,90,92,93,97,99]</strong> <br>\n",
    "    5. Set <strong>D5</strong> = the <strong>minimum value</strong> in <strong>D4</strong>.<br>  \n",
    "    6. Set <strong>D6</strong> = the <strong>maximum value</strong> in <strong>D4</strong>.<br> \n",
    "    7. Set <strong>D7</strong> = the <strong>median value</strong> of <strong>D4</strong>.<br>\n",
    "    8. Set <strong>D8</strong> = the <strong>mean value</strong> of <strong>D4</strong>.<br>    \n",
    "    9. Set <strong>D9</strong> = the <strong>standard deviation</strong> of the values in <strong>D4</strong>.<br>\n",
    "   10. Set <strong>D10</strong> = the <strong>variance</strong> of the values in <strong>D4</strong>.<br>\n",
    "</span>"
   ]
  },
  {
   "cell_type": "code",
   "execution_count": 164,
   "metadata": {},
   "outputs": [],
   "source": [
    "# INSERT CODE FOR STEPS 1 - 10\n",
    "D1 = np.array([85,83,81,99,97,92,77,75,77])\n",
    "D1 = D1.reshape(3,3)\n",
    "D2 = np.min(D1, axis=0)\n",
    "D3 = np.max(D1, axis=1)\n",
    "D4 = np.array([87,80,90,92,93,97,99])\n",
    "D5 = np.min(D4)\n",
    "D6 = np.max(D4)\n",
    "D7 = np.median(D4)\n",
    "D8 = np.mean(D4)\n",
    "D9 = np.std(D4)\n",
    "D10 = np.var(D4)"
   ]
  },
  {
   "cell_type": "code",
   "execution_count": 165,
   "metadata": {},
   "outputs": [
    {
     "name": "stdout",
     "output_type": "stream",
     "text": [
      "LAB 4 - PART D (D1-D10)\n",
      "D1:\n",
      " [[85 83 81]\n",
      " [99 97 92]\n",
      " [77 75 77]]\n",
      "D2 AMIN BY COL [77 75 77]\n",
      "D3 AMAX BY ROW [85 99 77]\n",
      "\n",
      "D4:  [87 80 90 92 93 97 99]\n",
      "D5 MIN:  80\n",
      "D6 MAX:  99\n",
      "D7 MEDIAN:   92.0\n",
      "D8 MEAN:     91.14285714285714\n",
      "D9 STD DEV:  5.890150893739515\n",
      "D10 VAR:     34.69387755102041\n"
     ]
    }
   ],
   "source": [
    "# DO NOT MODIFY !!!\n",
    "print(\"LAB 4 - PART D (D1-D10)\")\n",
    "print(\"D1:\\n\",D1)\n",
    "print(\"D2 AMIN BY COL\", D2)\n",
    "print(\"D3 AMAX BY ROW\", D3)\n",
    "print(\"\")\n",
    "print(\"D4: \",D4)\n",
    "print(\"D5 MIN: \",D5)\n",
    "print(\"D6 MAX: \",D6)\n",
    "print(\"D7 MEDIAN:  \",D7)\n",
    "print(\"D8 MEAN:    \",D8)\n",
    "print(\"D9 STD DEV: \",D9)\n",
    "print(\"D10 VAR:    \",D10)"
   ]
  },
  {
   "cell_type": "code",
   "execution_count": 166,
   "metadata": {},
   "outputs": [
    {
     "name": "stdout",
     "output_type": "stream",
     "text": [
      "THE END!\n"
     ]
    }
   ],
   "source": [
    "print(\"THE END!\")"
   ]
  },
  {
   "cell_type": "code",
   "execution_count": null,
   "metadata": {},
   "outputs": [],
   "source": []
  }
 ],
 "metadata": {
  "kernelspec": {
   "display_name": "Python 3 (ipykernel)",
   "language": "python",
   "name": "python3"
  },
  "language_info": {
   "codemirror_mode": {
    "name": "ipython",
    "version": 3
   },
   "file_extension": ".py",
   "mimetype": "text/x-python",
   "name": "python",
   "nbconvert_exporter": "python",
   "pygments_lexer": "ipython3",
   "version": "3.12.0"
  }
 },
 "nbformat": 4,
 "nbformat_minor": 4
}
